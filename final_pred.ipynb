{
 "cells": [
  {
   "cell_type": "code",
   "execution_count": 151,
   "metadata": {},
   "outputs": [],
   "source": [
    "import pandas as pd\n",
    "import numpy as np\n",
    "import os"
   ]
  },
  {
   "cell_type": "code",
   "execution_count": 152,
   "metadata": {},
   "outputs": [],
   "source": [
    "train_files = [i for i in os.listdir('results/') if '_val_reg' in i]\n",
    "test_files = [i for i in os.listdir('results/') if '_test_reg' in i]\n",
    "\n",
    "train_files.remove('y_val_reg')\n",
    "train_files = sorted(train_files)\n",
    "test_files = sorted(test_files)"
   ]
  },
  {
   "cell_type": "code",
   "execution_count": 153,
   "metadata": {},
   "outputs": [],
   "source": [
    "y_train = np.fromfile(\"results/y_val_reg\", dtype='float32')"
   ]
  },
  {
   "cell_type": "code",
   "execution_count": 154,
   "metadata": {},
   "outputs": [],
   "source": [
    "train = pd.DataFrame({\"var\" + str(i) : np.fromfile(\"results/\" + file, dtype='float32') for i, file in enumerate(train_files)})\n",
    "y = np.fromfile(\"results/y_val_reg\", dtype='float32')\n",
    "\n",
    "test = pd.DataFrame({\"var\" + str(i) : np.fromfile(\"results/\" + file, dtype='float32') for i, file in enumerate(test_files)})\n"
   ]
  },
  {
   "cell_type": "code",
   "execution_count": 155,
   "metadata": {},
   "outputs": [],
   "source": [
    "y_final_preds = np.round(np.clip(test, 1, 10).mean(axis=1)).astype(int)"
   ]
  },
  {
   "cell_type": "code",
   "execution_count": 156,
   "metadata": {},
   "outputs": [],
   "source": [
    "TestX = pd.read_csv(\"data/TestX.csv\", sep=\";\")\n",
    "Train = pd.read_csv(\"data/Train.csv\", sep=\";\")\n",
    "\n",
    "Train = Train.drop_duplicates(['condition', 'opinion']).reset_index(drop=True)\n",
    "\n",
    "submission = pd.read_csv(\"data/JANLOS.txt\", sep=\" \")"
   ]
  },
  {
   "cell_type": "code",
   "execution_count": 157,
   "metadata": {},
   "outputs": [],
   "source": [
    "TestX_merged = TestX.merge(Train, on=['opinion', 'condition'], how='left')"
   ]
  },
  {
   "cell_type": "code",
   "execution_count": 159,
   "metadata": {},
   "outputs": [],
   "source": [
    "TestX_merged['y_final_preds'] = y_final_preds"
   ]
  },
  {
   "cell_type": "code",
   "execution_count": 160,
   "metadata": {},
   "outputs": [
    {
     "data": {
      "text/html": [
       "<div>\n",
       "<style scoped>\n",
       "    .dataframe tbody tr th:only-of-type {\n",
       "        vertical-align: middle;\n",
       "    }\n",
       "\n",
       "    .dataframe tbody tr th {\n",
       "        vertical-align: top;\n",
       "    }\n",
       "\n",
       "    .dataframe thead th {\n",
       "        text-align: right;\n",
       "    }\n",
       "</style>\n",
       "<table border=\"1\" class=\"dataframe\">\n",
       "  <thead>\n",
       "    <tr style=\"text-align: right;\">\n",
       "      <th></th>\n",
       "      <th>name_x</th>\n",
       "      <th>condition</th>\n",
       "      <th>opinion</th>\n",
       "      <th>name_y</th>\n",
       "      <th>rate</th>\n",
       "      <th>rate1</th>\n",
       "      <th>y_final_preds</th>\n",
       "    </tr>\n",
       "  </thead>\n",
       "  <tbody>\n",
       "    <tr>\n",
       "      <th>0</th>\n",
       "      <td>Vitamin B12</td>\n",
       "      <td>Vitamin B12 Deficiency</td>\n",
       "      <td>\"No after taste at unlike all the others that ...</td>\n",
       "      <td>Cyanocobalamin</td>\n",
       "      <td>10.0</td>\n",
       "      <td>high</td>\n",
       "      <td>8</td>\n",
       "    </tr>\n",
       "    <tr>\n",
       "      <th>1</th>\n",
       "      <td>Implanon</td>\n",
       "      <td>Birth Control</td>\n",
       "      <td>\"I have not had any issues with the implanon I...</td>\n",
       "      <td>Etonogestrel</td>\n",
       "      <td>8.0</td>\n",
       "      <td>high</td>\n",
       "      <td>8</td>\n",
       "    </tr>\n",
       "    <tr>\n",
       "      <th>2</th>\n",
       "      <td>BuSpar</td>\n",
       "      <td>Anxiety</td>\n",
       "      <td>\"I have been taking Buspar and Celexa and as f...</td>\n",
       "      <td>Buspirone</td>\n",
       "      <td>10.0</td>\n",
       "      <td>high</td>\n",
       "      <td>9</td>\n",
       "    </tr>\n",
       "    <tr>\n",
       "      <th>3</th>\n",
       "      <td>Abreva</td>\n",
       "      <td>Herpes Simplex</td>\n",
       "      <td>\"the only thing that works.  completely awesome.\"</td>\n",
       "      <td>Docosanol</td>\n",
       "      <td>10.0</td>\n",
       "      <td>high</td>\n",
       "      <td>10</td>\n",
       "    </tr>\n",
       "    <tr>\n",
       "      <th>4</th>\n",
       "      <td>Buprenorphine / naloxone</td>\n",
       "      <td>Opiate Dependence</td>\n",
       "      <td>\"UPDATE: I originally posted on Nov 16th 2010 ...</td>\n",
       "      <td>Suboxone</td>\n",
       "      <td>10.0</td>\n",
       "      <td>high</td>\n",
       "      <td>10</td>\n",
       "    </tr>\n",
       "  </tbody>\n",
       "</table>\n",
       "</div>"
      ],
      "text/plain": [
       "                     name_x               condition  \\\n",
       "0               Vitamin B12  Vitamin B12 Deficiency   \n",
       "1                  Implanon           Birth Control   \n",
       "2                    BuSpar                 Anxiety   \n",
       "3                    Abreva          Herpes Simplex   \n",
       "4  Buprenorphine / naloxone       Opiate Dependence   \n",
       "\n",
       "                                             opinion          name_y  rate  \\\n",
       "0  \"No after taste at unlike all the others that ...  Cyanocobalamin  10.0   \n",
       "1  \"I have not had any issues with the implanon I...    Etonogestrel   8.0   \n",
       "2  \"I have been taking Buspar and Celexa and as f...       Buspirone  10.0   \n",
       "3  \"the only thing that works.  completely awesome.\"       Docosanol  10.0   \n",
       "4  \"UPDATE: I originally posted on Nov 16th 2010 ...        Suboxone  10.0   \n",
       "\n",
       "  rate1  y_final_preds  \n",
       "0  high              8  \n",
       "1  high              8  \n",
       "2  high              9  \n",
       "3  high             10  \n",
       "4  high             10  "
      ]
     },
     "execution_count": 160,
     "metadata": {},
     "output_type": "execute_result"
    }
   ],
   "source": [
    "TestX_merged.head()"
   ]
  },
  {
   "cell_type": "code",
   "execution_count": 161,
   "metadata": {},
   "outputs": [],
   "source": [
    "TestX_merged[\"rate_final\"] = TestX_merged['rate'].fillna(TestX_merged['y_final_preds'])\n",
    "TestX_merged.rate_final = TestX_merged.rate_final.astype(int)"
   ]
  },
  {
   "cell_type": "code",
   "execution_count": 162,
   "metadata": {},
   "outputs": [
    {
     "data": {
      "text/plain": [
       "10    13430\n",
       "9     11405\n",
       "8      5622\n",
       "1      5134\n",
       "7      2995\n",
       "2      2788\n",
       "3      2337\n",
       "5      2292\n",
       "6      2090\n",
       "4      1907\n",
       "Name: rate_final, dtype: int64"
      ]
     },
     "execution_count": 162,
     "metadata": {},
     "output_type": "execute_result"
    }
   ],
   "source": [
    "TestX_merged.rate_final.value_counts()"
   ]
  },
  {
   "cell_type": "code",
   "execution_count": null,
   "metadata": {},
   "outputs": [],
   "source": []
  }
 ],
 "metadata": {
  "kernelspec": {
   "display_name": "Python 3",
   "language": "python",
   "name": "python3"
  },
  "language_info": {
   "codemirror_mode": {
    "name": "ipython",
    "version": 3
   },
   "file_extension": ".py",
   "mimetype": "text/x-python",
   "name": "python",
   "nbconvert_exporter": "python",
   "pygments_lexer": "ipython3",
   "version": "3.7.0"
  }
 },
 "nbformat": 4,
 "nbformat_minor": 2
}
