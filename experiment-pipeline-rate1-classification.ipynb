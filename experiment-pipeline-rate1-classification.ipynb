{
 "cells": [
  {
   "cell_type": "code",
   "execution_count": 1,
   "metadata": {},
   "outputs": [],
   "source": [
    "from gensim.models import KeyedVectors"
   ]
  },
  {
   "cell_type": "code",
   "execution_count": 2,
   "metadata": {},
   "outputs": [],
   "source": [
    "EMBEDDING_FILE = './GoogleNews-vectors-negative300.bin.gz' \n",
    "word2vec = KeyedVectors.load_word2vec_format(EMBEDDING_FILE, binary=True)"
   ]
  },
  {
   "cell_type": "code",
   "execution_count": 3,
   "metadata": {},
   "outputs": [
    {
     "name": "stderr",
     "output_type": "stream",
     "text": [
      "/home/krzysztof/.conda/envs/ml-nlp/lib/python3.7/site-packages/tqdm/std.py:668: FutureWarning: The Panel class is removed from pandas. Accessing it from the top-level namespace will also be removed in the next version\n",
      "  from pandas import Panel\n"
     ]
    }
   ],
   "source": [
    "import pandas as pd\n",
    "import numpy as np \n",
    "import os\n",
    "\n",
    "from tqdm import tqdm\n",
    "tqdm.pandas()"
   ]
  },
  {
   "cell_type": "code",
   "execution_count": 4,
   "metadata": {},
   "outputs": [],
   "source": [
    "train = pd.read_csv('./data/Train.csv', sep=';')\n",
    "test = pd.read_csv('./data/TestX.csv', sep=';')\n",
    "\n",
    "train.opinion = train.opinion.apply(lambda x: x.replace(\"&#039;\", \"'\"))\n",
    "test.opinion = test.opinion.apply(lambda x: x.replace(\"&#039;\", \"'\"))"
   ]
  },
  {
   "cell_type": "code",
   "execution_count": 5,
   "metadata": {},
   "outputs": [],
   "source": [
    "train = train.drop_duplicates('opinion').reset_index(drop=True)"
   ]
  },
  {
   "cell_type": "code",
   "execution_count": 6,
   "metadata": {},
   "outputs": [],
   "source": [
    "embed_size = 300 # how big is each word vector\n",
    "max_features = 30000 # how many unique words to use (i.e num rows in embedding vector)\n",
    "maxlen = 100 # max number of words in a question to use"
   ]
  },
  {
   "cell_type": "code",
   "execution_count": 7,
   "metadata": {},
   "outputs": [],
   "source": [
    "train['opinion_length'] = train.opinion.apply(lambda x: len(x))\n",
    "train['capital_counts'] = train.opinion.apply(lambda x: sum(1 for c in x if c.isupper()))\n",
    "train['special_counts'] = train.opinion.apply(lambda x: sum(1 for c in x if c in '?!.,\"#$%\\'()*+-/:;<=>@[\\\\]^_`{|}~'))\n",
    "train['word_count'] = train.opinion.apply(lambda x: len(str(x).split()))\n",
    "train['unique_word_count'] = train.opinion.apply(lambda x: len(set(str(x).split())))\n",
    "train['mean_word_length'] = train.opinion.apply(lambda x: np.mean([len(w) for w in str(x).split()]))\n",
    "train['name_count'] = train.opinion.apply(lambda x: sum(1 for c in x.split() if c[0].isupper()))\n",
    "\n",
    "test['opinion_length'] = test.opinion.apply(lambda x: len(x))\n",
    "test['capital_counts'] = test.opinion.apply(lambda x: sum(1 for c in x if c.isupper()))\n",
    "test['special_counts'] = test.opinion.apply(lambda x: sum(1 for c in x if c in '?!.,\"#$%\\'()*+-/:;<=>@[\\\\]^_`{|}~'))\n",
    "test['word_count'] = test.opinion.apply(lambda x: len(str(x).split()))\n",
    "test['unique_word_count'] = test.opinion.apply(lambda x: len(set(str(x).split())))\n",
    "test['mean_word_length'] = test.opinion.apply(lambda x: np.mean([len(w) for w in str(x).split()]))\n",
    "test['name_count'] = test.opinion.apply(lambda x: sum(1 for c in x.split() if c[0].isupper()))\n",
    "\n",
    "meta_features = ['opinion_length', 'capital_counts', 'special_counts', 'word_count', 'unique_word_count', 'mean_word_length', 'name_count']\n",
    "\n",
    "for feature in meta_features:\n",
    "    max_value = train[feature].max()\n",
    "    train[feature] = train[feature] / max_value\n",
    "    test[feature] = test[feature] / max_value\n",
    "\n",
    "condition_features = list(train.condition.value_counts().index)[:60]\n",
    "for condition_feature in condition_features:\n",
    "    train['condition_' + condition_feature] = (train.condition == condition_feature).astype(int)\n",
    "    test['condition_' + condition_feature] = (test.condition == condition_feature).astype(int)"
   ]
  },
  {
   "cell_type": "code",
   "execution_count": 8,
   "metadata": {},
   "outputs": [],
   "source": [
    "import operator \n",
    "import re\n",
    "\n",
    "\n",
    "def check_coverage(vocab,embeddings_index):\n",
    "    a = {}\n",
    "    oov = {}\n",
    "    k = 0\n",
    "    i = 0\n",
    "    for word in tqdm(vocab):\n",
    "        try:\n",
    "            a[word] = embeddings_index[word]\n",
    "            k += vocab[word]\n",
    "        except:\n",
    "\n",
    "            oov[word] = vocab[word]\n",
    "            i += vocab[word]\n",
    "            pass\n",
    "\n",
    "    print('Found embeddings for {:.2%} of vocab'.format(len(a) / len(vocab)))\n",
    "    print('Found embeddings for  {:.2%} of all text'.format(k / (k + i)))\n",
    "    sorted_x = sorted(oov.items(), key=operator.itemgetter(1))[::-1]\n",
    "\n",
    "    return sorted_x\n",
    "\n",
    "\n",
    "def build_vocab(sentences, verbose =  True):\n",
    "    \"\"\"\n",
    "    :param sentences: list of list of words\n",
    "    :return: dictionary of words and their count\n",
    "    \"\"\"\n",
    "    vocab = {}\n",
    "    for sentence in tqdm(sentences, disable = (not verbose)):\n",
    "        for word in sentence:\n",
    "            try:\n",
    "                vocab[word] += 1\n",
    "            except KeyError:\n",
    "                vocab[word] = 1\n",
    "    return vocab\n",
    "\n",
    "\n",
    "def clean_text(x):\n",
    "    x = str(x)\n",
    "    for punct in \"/-'\":\n",
    "        x = x.replace(punct, ' ')\n",
    "    for punct in '&':\n",
    "        x = x.replace(punct, f' {punct} ')\n",
    "    for punct in '?!.,\"#$%\\'()*+-/:;<=>@[\\\\]^_`{|}~' + '“”’':\n",
    "        x = x.replace(punct, '')\n",
    "    return x\n",
    "\n",
    "\n",
    "\n",
    "def clean_numbers(x):\n",
    "\n",
    "    x = re.sub('[0-9]{5,}', '#####', x)\n",
    "    x = re.sub('[0-9]{4}', '####', x)\n",
    "    x = re.sub('[0-9]{3}', '###', x)\n",
    "    x = re.sub('[0-9]{2}', '##', x)\n",
    "    return x\n",
    "\n",
    "\n",
    "def _get_mispell(mispell_dict):\n",
    "    mispell_re = re.compile('(%s)' % '|'.join(mispell_dict.keys()))\n",
    "    return mispell_dict, mispell_re\n",
    "\n",
    "\n",
    "mispell_dict = {'colour':'color',\n",
    "                'centre':'center',\n",
    "                'didnt':'did not',\n",
    "                'doesnt':'does not',\n",
    "                'isnt':'is not',\n",
    "                'shouldnt':'should not',\n",
    "                'favourite':'favorite',\n",
    "                'travelling':'traveling',\n",
    "                'counselling':'counseling',\n",
    "                'theatre':'theater',\n",
    "                'cancelled':'canceled',\n",
    "                'labour':'labor',\n",
    "                'organisation':'organization',\n",
    "                'wwii':'world war 2',\n",
    "                'citicise':'criticize',\n",
    "                'instagram': 'social medium',\n",
    "                'whatsapp': 'social medium',\n",
    "                'snapchat': 'social medium'}\n",
    "mispellings, mispellings_re = _get_mispell(mispell_dict)\n",
    "\n",
    "\n",
    "def replace_typical_misspell(text):\n",
    "    def replace(match):\n",
    "        return mispellings[match.group(0)]\n",
    "\n",
    "    return mispellings_re.sub(replace, text)"
   ]
  },
  {
   "cell_type": "code",
   "execution_count": 9,
   "metadata": {},
   "outputs": [
    {
     "name": "stderr",
     "output_type": "stream",
     "text": [
      "100%|██████████| 107590/107590 [00:00<00:00, 160353.82it/s]\n",
      "100%|██████████| 107590/107590 [00:01<00:00, 85334.02it/s]\n"
     ]
    }
   ],
   "source": [
    "sentences = train[\"opinion\"].progress_apply(lambda x: x.split()).values\n",
    "vocab = build_vocab(sentences)"
   ]
  },
  {
   "cell_type": "code",
   "execution_count": 10,
   "metadata": {},
   "outputs": [
    {
     "name": "stderr",
     "output_type": "stream",
     "text": [
      "100%|██████████| 188722/188722 [00:00<00:00, 589784.94it/s]"
     ]
    },
    {
     "name": "stdout",
     "output_type": "stream",
     "text": [
      "Found embeddings for 20.39% of vocab\n",
      "Found embeddings for  77.62% of all text\n"
     ]
    },
    {
     "name": "stderr",
     "output_type": "stream",
     "text": [
      "\n"
     ]
    }
   ],
   "source": [
    "oov = check_coverage(vocab, word2vec)"
   ]
  },
  {
   "cell_type": "code",
   "execution_count": 11,
   "metadata": {},
   "outputs": [],
   "source": [
    "train['opinion'] = train['opinion'].str.replace('\"', '')\n",
    "train['opinion'] = train['opinion'].str.replace(',', '')\n",
    "train['opinion'] = train['opinion'].str.replace('.', '')\n",
    "train['opinion'] = train['opinion'].str.replace('!', '')\n",
    "train['opinion'] = train['opinion'].str.replace(':', '')\n",
    "train['opinion'] = train['opinion'].str.replace('&#039;ve', ' have')\n",
    "train['opinion'] = train['opinion'].str.replace('&#039;s', ' is')\n",
    "train['opinion'] = train['opinion'].str.replace('&#039;t', ' not')\n",
    "train['opinion'] = train['opinion'].str.replace('&#039;m', ' am')\n",
    "train['opinion'] = train['opinion'].str.replace('&#039;ll', '')\n",
    "train['opinion'] = train['opinion'].str.replace('rsquot', '')\n",
    "train['opinion'] = train['opinion'].str.replace('rsquom', '')\n",
    "train['opinion'] = train['opinion'].str.replace('rsquos', '')"
   ]
  },
  {
   "cell_type": "code",
   "execution_count": 12,
   "metadata": {},
   "outputs": [],
   "source": [
    "test['opinion'] = test['opinion'].str.replace('\"', '')\n",
    "test['opinion'] = test['opinion'].str.replace(',', '')\n",
    "test['opinion'] = test['opinion'].str.replace('.', '')\n",
    "test['opinion'] = test['opinion'].str.replace('!', '')\n",
    "test['opinion'] = test['opinion'].str.replace(':', '')\n",
    "test['opinion'] = test['opinion'].str.replace('&#039;ve', ' have')\n",
    "test['opinion'] = test['opinion'].str.replace('&#039;s', ' is')\n",
    "test['opinion'] = test['opinion'].str.replace('&#039;t', ' not')\n",
    "test['opinion'] = test['opinion'].str.replace('&#039;m', ' am')\n",
    "test['opinion'] = test['opinion'].str.replace('&#039;ll', '')\n",
    "test['opinion'] = test['opinion'].str.replace('rsquot', '')\n",
    "test['opinion'] = test['opinion'].str.replace('rsquom', '')\n",
    "test['opinion'] = test['opinion'].str.replace('rsquos', '')"
   ]
  },
  {
   "cell_type": "code",
   "execution_count": 13,
   "metadata": {},
   "outputs": [
    {
     "name": "stderr",
     "output_type": "stream",
     "text": [
      "100%|██████████| 107590/107590 [00:00<00:00, 121284.24it/s]\n",
      "100%|██████████| 107590/107590 [00:03<00:00, 32608.79it/s]\n",
      "100%|██████████| 107590/107590 [00:01<00:00, 79871.75it/s]\n"
     ]
    }
   ],
   "source": [
    "train[\"opinion\"] = train[\"opinion\"].progress_apply(lambda x: clean_text(x))\n",
    "train[\"opinion\"] = train[\"opinion\"].progress_apply(lambda x: clean_numbers(x))\n",
    "train[\"opinion\"] = train[\"opinion\"].progress_apply(lambda x: replace_typical_misspell(x))"
   ]
  },
  {
   "cell_type": "code",
   "execution_count": 14,
   "metadata": {},
   "outputs": [
    {
     "name": "stderr",
     "output_type": "stream",
     "text": [
      "100%|██████████| 50000/50000 [00:00<00:00, 118552.62it/s]\n",
      "100%|██████████| 50000/50000 [00:01<00:00, 32964.07it/s]\n",
      "100%|██████████| 50000/50000 [00:00<00:00, 78627.47it/s]\n"
     ]
    }
   ],
   "source": [
    "test[\"opinion\"] = test[\"opinion\"].progress_apply(lambda x: clean_text(x))\n",
    "test[\"opinion\"] = test[\"opinion\"].progress_apply(lambda x: clean_numbers(x))\n",
    "test[\"opinion\"] = test[\"opinion\"].progress_apply(lambda x: replace_typical_misspell(x))"
   ]
  },
  {
   "cell_type": "code",
   "execution_count": 15,
   "metadata": {},
   "outputs": [
    {
     "name": "stderr",
     "output_type": "stream",
     "text": [
      "100%|██████████| 107590/107590 [00:01<00:00, 85482.45it/s]\n",
      "100%|██████████| 107590/107590 [00:00<00:00, 118335.36it/s]\n",
      "100%|██████████| 107590/107590 [00:01<00:00, 99700.16it/s]\n"
     ]
    }
   ],
   "source": [
    "sentences = train[\"opinion\"].progress_apply(lambda x: x.split())\n",
    "to_remove = ['a','to','of','and']\n",
    "sentences = [[word for word in sentence if not word in to_remove] for sentence in tqdm(sentences)]\n",
    "vocab = build_vocab(sentences)"
   ]
  },
  {
   "cell_type": "code",
   "execution_count": 16,
   "metadata": {},
   "outputs": [
    {
     "name": "stderr",
     "output_type": "stream",
     "text": [
      "100%|██████████| 74690/74690 [00:00<00:00, 492193.91it/s]"
     ]
    },
    {
     "name": "stdout",
     "output_type": "stream",
     "text": [
      "Found embeddings for 57.90% of vocab\n",
      "Found embeddings for  99.12% of all text\n"
     ]
    },
    {
     "name": "stderr",
     "output_type": "stream",
     "text": [
      "\n"
     ]
    }
   ],
   "source": [
    "oov = check_coverage(vocab,word2vec)"
   ]
  },
  {
   "cell_type": "code",
   "execution_count": 17,
   "metadata": {
    "scrolled": true
   },
   "outputs": [
    {
     "data": {
      "text/plain": [
       "[('Nexplanon', 1254),\n",
       " ('Sprintec', 824),\n",
       " ('nexplanon', 744),\n",
       " ('rsquot', 673),\n",
       " ('Belviq', 585),\n",
       " ('mirena', 445),\n",
       " ('rsquom', 442),\n",
       " ('skyla', 399),\n",
       " ('rsquos', 382),\n",
       " ('implanon', 366)]"
      ]
     },
     "execution_count": 17,
     "metadata": {},
     "output_type": "execute_result"
    }
   ],
   "source": [
    "oov[:10]"
   ]
  },
  {
   "cell_type": "code",
   "execution_count": 18,
   "metadata": {},
   "outputs": [],
   "source": [
    "top_oov = [i for i, j in oov[:40]]"
   ]
  },
  {
   "cell_type": "code",
   "execution_count": 19,
   "metadata": {},
   "outputs": [],
   "source": [
    "for oov_word in top_oov:\n",
    "    train['oov_' + oov_word] = train.opinion.apply(lambda x: oov_word in x)\n",
    "    test['oov_' + oov_word] = test.opinion.apply(lambda x: oov_word in x)"
   ]
  },
  {
   "cell_type": "code",
   "execution_count": 20,
   "metadata": {},
   "outputs": [],
   "source": [
    "features = meta_features + ['condition_' + i for i in condition_features] + ['oov_' + i for i in top_oov]"
   ]
  },
  {
   "cell_type": "code",
   "execution_count": 21,
   "metadata": {},
   "outputs": [],
   "source": [
    "from sklearn.model_selection import train_test_split\n",
    "\n",
    "train_df, val_df = train_test_split(train, test_size=0.08, random_state=42)\n",
    "\n",
    "X_train_meta = np.array(train_df.loc[:, features]).astype(np.float32)\n",
    "X_val_meta = np.array(val_df.loc[:, features]).astype(np.float32)\n",
    "X_test_meta = np.array(test.loc[:, features]).astype(np.float32)\n",
    "\n",
    "X_train = train_df.opinion.values\n",
    "X_val = val_df.opinion.values\n",
    "X_test = test.opinion.values"
   ]
  },
  {
   "cell_type": "code",
   "execution_count": 22,
   "metadata": {},
   "outputs": [],
   "source": [
    "from tensorflow.keras.preprocessing.text import Tokenizer\n",
    "\n",
    "tokenizer = Tokenizer(num_words = max_features)"
   ]
  },
  {
   "cell_type": "code",
   "execution_count": 23,
   "metadata": {},
   "outputs": [],
   "source": [
    "tokenizer.fit_on_texts(list(X_train))\n",
    "\n",
    "X_train = tokenizer.texts_to_sequences(X_train)\n",
    "X_val = tokenizer.texts_to_sequences(X_val)\n",
    "X_test = tokenizer.texts_to_sequences(X_test)"
   ]
  },
  {
   "cell_type": "code",
   "execution_count": 24,
   "metadata": {},
   "outputs": [],
   "source": [
    "from tensorflow.keras.preprocessing.sequence import pad_sequences\n",
    "\n",
    "X_train = pad_sequences(X_train, maxlen=maxlen)\n",
    "X_val = pad_sequences(X_val, maxlen=maxlen)\n",
    "X_test = pad_sequences(X_test, maxlen=maxlen)"
   ]
  },
  {
   "cell_type": "code",
   "execution_count": 25,
   "metadata": {},
   "outputs": [],
   "source": [
    "y_train = train_df['rate1'].values\n",
    "y_val = val_df['rate1'].values"
   ]
  },
  {
   "cell_type": "code",
   "execution_count": 26,
   "metadata": {},
   "outputs": [],
   "source": [
    "from tensorflow.keras.layers import Dense, Dropout, GlobalMaxPool1D, Bidirectional, LSTM, Embedding, Input, Concatenate, Flatten\n",
    "from tensorflow.keras.models import Model\n",
    "import tensorflow as tf\n",
    "from tensorflow.keras import backend as K"
   ]
  },
  {
   "cell_type": "code",
   "execution_count": 27,
   "metadata": {},
   "outputs": [],
   "source": [
    "# create a weight matrix for words in training docs\n",
    "embedding_matrix = np.zeros((max_features, embed_size))\n",
    "for word, i in tokenizer.word_index.items():\n",
    "    try:\n",
    "        embedding_vector = word2vec.get_vector(word)\n",
    "        if embedding_vector is not None:\n",
    "            embedding_matrix[i] = embedding_vector\n",
    "            embedding_vector = None\n",
    "    except:\n",
    "        pass\n"
   ]
  },
  {
   "cell_type": "code",
   "execution_count": 28,
   "metadata": {},
   "outputs": [
    {
     "name": "stdout",
     "output_type": "stream",
     "text": [
      "['high' 'low' 'medium']\n"
     ]
    }
   ],
   "source": [
    "from sklearn import preprocessing\n",
    "le = preprocessing.LabelEncoder()\n",
    "le.fit(y_train)\n",
    "\n",
    "print(le.classes_)\n",
    "\n",
    "y_train = le.transform(y_train)\n",
    "y_val = le.transform(y_val)"
   ]
  },
  {
   "cell_type": "code",
   "execution_count": 29,
   "metadata": {},
   "outputs": [],
   "source": [
    "from tensorflow.keras.utils import to_categorical\n",
    "\n",
    "y_train = to_categorical(y_train)\n",
    "y_val = to_categorical(y_val)\n"
   ]
  },
  {
   "cell_type": "code",
   "execution_count": 30,
   "metadata": {},
   "outputs": [],
   "source": [
    "from lstm_models_cls import model_1"
   ]
  },
  {
   "cell_type": "code",
   "execution_count": 32,
   "metadata": {},
   "outputs": [
    {
     "name": "stdout",
     "output_type": "stream",
     "text": [
      "##################################################\n",
      "Model 1, iteration 0\n",
      "Train on 94032 samples, validate on 4950 samples\n",
      "Epoch 1/20\n",
      "94032/94032 [==============================] - 26s 281us/sample - loss: 0.7394 - accuracy: 0.6887 - val_loss: 0.6413 - val_accuracy: 0.7319\n",
      "Epoch 2/20\n",
      "94032/94032 [==============================] - 25s 266us/sample - loss: 0.5913 - accuracy: 0.7536 - val_loss: 0.5944 - val_accuracy: 0.7537\n",
      "Epoch 3/20\n",
      "94032/94032 [==============================] - 25s 266us/sample - loss: 0.5451 - accuracy: 0.7747 - val_loss: 0.5944 - val_accuracy: 0.7525\n",
      "Epoch 4/20\n",
      "94032/94032 [==============================] - 25s 267us/sample - loss: 0.5070 - accuracy: 0.7912 - val_loss: 0.6232 - val_accuracy: 0.7394\n",
      "Epoch 5/20\n",
      "94032/94032 [==============================] - 25s 267us/sample - loss: 0.4744 - accuracy: 0.8057 - val_loss: 0.6015 - val_accuracy: 0.7541\n",
      "Epoch 6/20\n",
      "94032/94032 [==============================] - 25s 268us/sample - loss: 0.4368 - accuracy: 0.8234 - val_loss: 0.6072 - val_accuracy: 0.7560\n",
      "Epoch 7/20\n",
      "94032/94032 [==============================] - 25s 271us/sample - loss: 0.3973 - accuracy: 0.8391 - val_loss: 0.6680 - val_accuracy: 0.7475\n",
      "##################################################\n",
      "Model 1, iteration 1\n",
      "Train on 94032 samples, validate on 4950 samples\n",
      "Epoch 1/20\n",
      "94032/94032 [==============================] - 27s 284us/sample - loss: 0.7441 - accuracy: 0.6864 - val_loss: 0.6542 - val_accuracy: 0.7287\n",
      "Epoch 2/20\n",
      "94032/94032 [==============================] - 25s 267us/sample - loss: 0.5956 - accuracy: 0.7522 - val_loss: 0.5810 - val_accuracy: 0.7556\n",
      "Epoch 3/20\n",
      "94032/94032 [==============================] - 25s 268us/sample - loss: 0.5458 - accuracy: 0.7739 - val_loss: 0.5640 - val_accuracy: 0.7638\n",
      "Epoch 4/20\n",
      "94032/94032 [==============================] - 25s 265us/sample - loss: 0.5083 - accuracy: 0.7904 - val_loss: 0.5680 - val_accuracy: 0.7576\n",
      "Epoch 5/20\n",
      "94032/94032 [==============================] - 25s 267us/sample - loss: 0.4735 - accuracy: 0.8061 - val_loss: 0.5609 - val_accuracy: 0.7703\n",
      "Epoch 6/20\n",
      "94032/94032 [==============================] - 25s 267us/sample - loss: 0.4350 - accuracy: 0.8214 - val_loss: 0.5776 - val_accuracy: 0.7640\n",
      "Epoch 7/20\n",
      "94032/94032 [==============================] - 25s 267us/sample - loss: 0.3957 - accuracy: 0.8396 - val_loss: 0.6140 - val_accuracy: 0.7584\n",
      "Epoch 8/20\n",
      "94032/94032 [==============================] - 25s 266us/sample - loss: 0.3533 - accuracy: 0.8580 - val_loss: 0.6511 - val_accuracy: 0.7475\n",
      "Epoch 9/20\n",
      "94032/94032 [==============================] - 25s 266us/sample - loss: 0.3144 - accuracy: 0.8758 - val_loss: 0.7146 - val_accuracy: 0.7539\n",
      "Epoch 10/20\n",
      "94032/94032 [==============================] - 25s 266us/sample - loss: 0.2675 - accuracy: 0.8958 - val_loss: 0.8592 - val_accuracy: 0.7412\n",
      "##################################################\n",
      "Model 1, iteration 2\n",
      "Train on 94032 samples, validate on 4950 samples\n",
      "Epoch 1/20\n",
      "94032/94032 [==============================] - 27s 291us/sample - loss: 0.7249 - accuracy: 0.6968 - val_loss: 0.6228 - val_accuracy: 0.7366\n",
      "Epoch 2/20\n",
      "94032/94032 [==============================] - 26s 275us/sample - loss: 0.5913 - accuracy: 0.7528 - val_loss: 0.5797 - val_accuracy: 0.7598\n",
      "Epoch 3/20\n",
      "94032/94032 [==============================] - 25s 268us/sample - loss: 0.5406 - accuracy: 0.7753 - val_loss: 0.5773 - val_accuracy: 0.7638\n",
      "Epoch 4/20\n",
      "94032/94032 [==============================] - 25s 270us/sample - loss: 0.5032 - accuracy: 0.7916 - val_loss: 0.5722 - val_accuracy: 0.7600\n",
      "Epoch 5/20\n",
      "94032/94032 [==============================] - 27s 287us/sample - loss: 0.4682 - accuracy: 0.8068 - val_loss: 0.5781 - val_accuracy: 0.7622\n",
      "Epoch 6/20\n",
      "94032/94032 [==============================] - 26s 278us/sample - loss: 0.4248 - accuracy: 0.8264 - val_loss: 0.5921 - val_accuracy: 0.7511\n",
      "Epoch 7/20\n",
      "94032/94032 [==============================] - 25s 267us/sample - loss: 0.3884 - accuracy: 0.8413 - val_loss: 0.6411 - val_accuracy: 0.7519\n",
      "Epoch 8/20\n",
      "94032/94032 [==============================] - 25s 267us/sample - loss: 0.3476 - accuracy: 0.8601 - val_loss: 0.6750 - val_accuracy: 0.7499\n",
      "Epoch 9/20\n",
      "94032/94032 [==============================] - 25s 267us/sample - loss: 0.3100 - accuracy: 0.8761 - val_loss: 0.7080 - val_accuracy: 0.7442\n",
      "##################################################\n",
      "Model 1, iteration 3\n",
      "Train on 94032 samples, validate on 4950 samples\n",
      "Epoch 1/20\n",
      "94032/94032 [==============================] - 27s 286us/sample - loss: 0.7363 - accuracy: 0.6905 - val_loss: 0.6304 - val_accuracy: 0.7335\n",
      "Epoch 2/20\n",
      "94032/94032 [==============================] - 25s 267us/sample - loss: 0.5932 - accuracy: 0.7537 - val_loss: 0.5900 - val_accuracy: 0.7503\n",
      "Epoch 3/20\n",
      "94032/94032 [==============================] - 25s 267us/sample - loss: 0.5421 - accuracy: 0.7763 - val_loss: 0.5658 - val_accuracy: 0.7634\n",
      "Epoch 4/20\n",
      "94032/94032 [==============================] - 26s 274us/sample - loss: 0.5048 - accuracy: 0.7921 - val_loss: 0.6063 - val_accuracy: 0.7608\n",
      "Epoch 5/20\n",
      "94032/94032 [==============================] - 25s 271us/sample - loss: 0.4696 - accuracy: 0.8072 - val_loss: 0.6579 - val_accuracy: 0.7404\n",
      "Epoch 6/20\n",
      "94032/94032 [==============================] - 25s 266us/sample - loss: 0.4331 - accuracy: 0.8231 - val_loss: 0.6035 - val_accuracy: 0.7382\n",
      "Epoch 7/20\n",
      "94032/94032 [==============================] - 25s 269us/sample - loss: 0.3961 - accuracy: 0.8403 - val_loss: 0.6219 - val_accuracy: 0.7556\n",
      "Epoch 8/20\n",
      "94032/94032 [==============================] - 25s 266us/sample - loss: 0.3480 - accuracy: 0.8603 - val_loss: 0.6552 - val_accuracy: 0.7507\n",
      "##################################################\n",
      "Model 1, iteration 4\n",
      "Train on 94032 samples, validate on 4950 samples\n",
      "Epoch 1/20\n",
      "94032/94032 [==============================] - 27s 284us/sample - loss: 0.7237 - accuracy: 0.6942 - val_loss: 0.6193 - val_accuracy: 0.7424\n",
      "Epoch 2/20\n",
      "94032/94032 [==============================] - 25s 267us/sample - loss: 0.5885 - accuracy: 0.7545 - val_loss: 0.5711 - val_accuracy: 0.7618\n",
      "Epoch 3/20\n",
      "94032/94032 [==============================] - 25s 266us/sample - loss: 0.5392 - accuracy: 0.7767 - val_loss: 0.5532 - val_accuracy: 0.7705\n",
      "Epoch 4/20\n",
      "94032/94032 [==============================] - 25s 267us/sample - loss: 0.5001 - accuracy: 0.7945 - val_loss: 0.5513 - val_accuracy: 0.7691\n",
      "Epoch 5/20\n",
      "94032/94032 [==============================] - 25s 266us/sample - loss: 0.4643 - accuracy: 0.8090 - val_loss: 0.5677 - val_accuracy: 0.7665\n",
      "Epoch 6/20\n",
      "94032/94032 [==============================] - 25s 266us/sample - loss: 0.4254 - accuracy: 0.8266 - val_loss: 0.5755 - val_accuracy: 0.7655\n",
      "Epoch 7/20\n",
      "94032/94032 [==============================] - 25s 266us/sample - loss: 0.3832 - accuracy: 0.8469 - val_loss: 0.6248 - val_accuracy: 0.7539\n",
      "Epoch 8/20\n",
      "94032/94032 [==============================] - 26s 280us/sample - loss: 0.3400 - accuracy: 0.8658 - val_loss: 0.6441 - val_accuracy: 0.7558\n",
      "Epoch 9/20\n",
      "94032/94032 [==============================] - 26s 281us/sample - loss: 0.2998 - accuracy: 0.8819 - val_loss: 0.7127 - val_accuracy: 0.7594\n",
      "##################################################\n",
      "Model 1, iteration 5\n",
      "Train on 94032 samples, validate on 4950 samples\n",
      "Epoch 1/20\n",
      "94032/94032 [==============================] - 27s 285us/sample - loss: 0.7376 - accuracy: 0.6868 - val_loss: 0.6651 - val_accuracy: 0.7176\n",
      "Epoch 2/20\n",
      "94032/94032 [==============================] - 26s 272us/sample - loss: 0.5908 - accuracy: 0.7537 - val_loss: 0.6111 - val_accuracy: 0.7434\n",
      "Epoch 3/20\n",
      "94032/94032 [==============================] - 25s 269us/sample - loss: 0.5433 - accuracy: 0.7748 - val_loss: 0.5958 - val_accuracy: 0.7535\n",
      "Epoch 4/20\n",
      "94032/94032 [==============================] - 25s 267us/sample - loss: 0.5038 - accuracy: 0.7928 - val_loss: 0.5783 - val_accuracy: 0.7600\n",
      "Epoch 5/20\n",
      "94032/94032 [==============================] - 25s 266us/sample - loss: 0.4715 - accuracy: 0.8062 - val_loss: 0.5784 - val_accuracy: 0.7653\n",
      "Epoch 6/20\n",
      "94032/94032 [==============================] - 25s 266us/sample - loss: 0.4351 - accuracy: 0.8221 - val_loss: 0.6079 - val_accuracy: 0.7614\n",
      "Epoch 7/20\n"
     ]
    },
    {
     "name": "stdout",
     "output_type": "stream",
     "text": [
      "94032/94032 [==============================] - 24s 258us/sample - loss: 0.3931 - accuracy: 0.8412 - val_loss: 0.6435 - val_accuracy: 0.7568\n",
      "Epoch 8/20\n",
      "94032/94032 [==============================] - 24s 258us/sample - loss: 0.3562 - accuracy: 0.8578 - val_loss: 0.7218 - val_accuracy: 0.7511\n",
      "Epoch 9/20\n",
      "94032/94032 [==============================] - 25s 266us/sample - loss: 0.3135 - accuracy: 0.8762 - val_loss: 0.7688 - val_accuracy: 0.7107\n",
      "##################################################\n",
      "Model 1, iteration 6\n",
      "Train on 94032 samples, validate on 4950 samples\n",
      "Epoch 1/20\n",
      "94032/94032 [==============================] - 28s 293us/sample - loss: 0.7375 - accuracy: 0.6898 - val_loss: 0.6147 - val_accuracy: 0.7515\n",
      "Epoch 2/20\n",
      "94032/94032 [==============================] - 26s 277us/sample - loss: 0.5893 - accuracy: 0.7544 - val_loss: 0.5849 - val_accuracy: 0.7507\n",
      "Epoch 3/20\n",
      "94032/94032 [==============================] - 25s 265us/sample - loss: 0.5408 - accuracy: 0.7755 - val_loss: 0.5673 - val_accuracy: 0.7644\n",
      "Epoch 4/20\n",
      "94032/94032 [==============================] - 25s 270us/sample - loss: 0.4996 - accuracy: 0.7938 - val_loss: 0.5756 - val_accuracy: 0.7610\n",
      "Epoch 5/20\n",
      "94032/94032 [==============================] - 26s 281us/sample - loss: 0.4662 - accuracy: 0.8090 - val_loss: 0.5926 - val_accuracy: 0.7554\n",
      "Epoch 6/20\n",
      "94032/94032 [==============================] - 24s 258us/sample - loss: 0.4296 - accuracy: 0.8246 - val_loss: 0.5981 - val_accuracy: 0.7554\n",
      "Epoch 7/20\n",
      "94032/94032 [==============================] - 24s 257us/sample - loss: 0.3876 - accuracy: 0.8439 - val_loss: 0.6480 - val_accuracy: 0.7543\n",
      "Epoch 8/20\n",
      "94032/94032 [==============================] - 25s 269us/sample - loss: 0.3474 - accuracy: 0.8607 - val_loss: 0.6949 - val_accuracy: 0.7483\n",
      "##################################################\n",
      "Model 1, iteration 7\n",
      "Train on 94032 samples, validate on 4950 samples\n",
      "Epoch 1/20\n",
      "94032/94032 [==============================] - 27s 285us/sample - loss: 0.7365 - accuracy: 0.6872 - val_loss: 0.6167 - val_accuracy: 0.7461\n",
      "Epoch 2/20\n",
      "94032/94032 [==============================] - 25s 267us/sample - loss: 0.5905 - accuracy: 0.7532 - val_loss: 0.5753 - val_accuracy: 0.7634\n",
      "Epoch 3/20\n",
      "94032/94032 [==============================] - 25s 267us/sample - loss: 0.5373 - accuracy: 0.7777 - val_loss: 0.5636 - val_accuracy: 0.7588\n",
      "Epoch 4/20\n",
      "94032/94032 [==============================] - 25s 266us/sample - loss: 0.4994 - accuracy: 0.7935 - val_loss: 0.5644 - val_accuracy: 0.7612\n",
      "Epoch 5/20\n",
      "94032/94032 [==============================] - 25s 267us/sample - loss: 0.4643 - accuracy: 0.8094 - val_loss: 0.5796 - val_accuracy: 0.7537\n",
      "Epoch 6/20\n",
      "94032/94032 [==============================] - 25s 267us/sample - loss: 0.4244 - accuracy: 0.8277 - val_loss: 0.6074 - val_accuracy: 0.7596\n",
      "Epoch 7/20\n",
      "94032/94032 [==============================] - 26s 279us/sample - loss: 0.3807 - accuracy: 0.8450 - val_loss: 0.6382 - val_accuracy: 0.7477\n",
      "Epoch 8/20\n",
      "94032/94032 [==============================] - 26s 273us/sample - loss: 0.3459 - accuracy: 0.8609 - val_loss: 0.6708 - val_accuracy: 0.7453\n",
      "##################################################\n",
      "Model 1, iteration 8\n",
      "Train on 94032 samples, validate on 4950 samples\n",
      "Epoch 1/20\n",
      "94032/94032 [==============================] - 27s 285us/sample - loss: 0.7364 - accuracy: 0.6902 - val_loss: 0.6470 - val_accuracy: 0.7313\n",
      "Epoch 2/20\n",
      "94032/94032 [==============================] - 25s 267us/sample - loss: 0.5923 - accuracy: 0.7535 - val_loss: 0.5958 - val_accuracy: 0.7558\n",
      "Epoch 3/20\n",
      "94032/94032 [==============================] - 26s 277us/sample - loss: 0.5387 - accuracy: 0.7761 - val_loss: 0.6139 - val_accuracy: 0.7412\n",
      "Epoch 4/20\n",
      "94032/94032 [==============================] - 25s 268us/sample - loss: 0.5045 - accuracy: 0.7918 - val_loss: 0.5794 - val_accuracy: 0.7648\n",
      "Epoch 5/20\n",
      "94032/94032 [==============================] - 25s 267us/sample - loss: 0.4682 - accuracy: 0.8072 - val_loss: 0.6053 - val_accuracy: 0.7558\n",
      "Epoch 6/20\n",
      "94032/94032 [==============================] - 25s 266us/sample - loss: 0.4253 - accuracy: 0.8264 - val_loss: 0.6048 - val_accuracy: 0.7560\n",
      "Epoch 7/20\n",
      "94032/94032 [==============================] - 25s 266us/sample - loss: 0.3885 - accuracy: 0.8435 - val_loss: 0.6376 - val_accuracy: 0.7519\n",
      "Epoch 8/20\n",
      "94032/94032 [==============================] - 25s 266us/sample - loss: 0.3439 - accuracy: 0.8629 - val_loss: 0.6992 - val_accuracy: 0.7426\n",
      "Epoch 9/20\n",
      "94032/94032 [==============================] - 25s 266us/sample - loss: 0.3033 - accuracy: 0.8805 - val_loss: 0.7561 - val_accuracy: 0.7319\n",
      "##################################################\n",
      "Model 1, iteration 9\n",
      "Train on 94032 samples, validate on 4950 samples\n",
      "Epoch 1/20\n",
      "94032/94032 [==============================] - 27s 284us/sample - loss: 0.7587 - accuracy: 0.6799 - val_loss: 0.6480 - val_accuracy: 0.7315\n",
      "Epoch 2/20\n",
      "94032/94032 [==============================] - 25s 267us/sample - loss: 0.5995 - accuracy: 0.7520 - val_loss: 0.6056 - val_accuracy: 0.7463\n",
      "Epoch 3/20\n",
      "94032/94032 [==============================] - 25s 267us/sample - loss: 0.5513 - accuracy: 0.7709 - val_loss: 0.5855 - val_accuracy: 0.7537\n",
      "Epoch 4/20\n",
      "94032/94032 [==============================] - 25s 266us/sample - loss: 0.5122 - accuracy: 0.7887 - val_loss: 0.5858 - val_accuracy: 0.7634\n",
      "Epoch 5/20\n",
      "94032/94032 [==============================] - 25s 267us/sample - loss: 0.4774 - accuracy: 0.8055 - val_loss: 0.5830 - val_accuracy: 0.7547\n",
      "Epoch 6/20\n",
      "94032/94032 [==============================] - 25s 266us/sample - loss: 0.4396 - accuracy: 0.8224 - val_loss: 0.6056 - val_accuracy: 0.7531\n",
      "Epoch 7/20\n",
      "94032/94032 [==============================] - 25s 266us/sample - loss: 0.4061 - accuracy: 0.8350 - val_loss: 0.6278 - val_accuracy: 0.7568\n",
      "Epoch 8/20\n",
      "94032/94032 [==============================] - 25s 266us/sample - loss: 0.3626 - accuracy: 0.8548 - val_loss: 0.6682 - val_accuracy: 0.7477\n",
      "Epoch 9/20\n",
      "94032/94032 [==============================] - 25s 266us/sample - loss: 0.3246 - accuracy: 0.8715 - val_loss: 0.7475 - val_accuracy: 0.7400\n",
      "Epoch 10/20\n",
      "94032/94032 [==============================] - 26s 274us/sample - loss: 0.2872 - accuracy: 0.8887 - val_loss: 0.7968 - val_accuracy: 0.7238\n"
     ]
    }
   ],
   "source": [
    "for i in range(10):\n",
    "    \n",
    "    X_train_tmp, X_val_tmp, y_train_tmp, y_val_tmp = train_test_split(\n",
    "        np.concatenate((X_train, X_train_meta), axis=1), \n",
    "        y_train, \n",
    "        test_size=0.05)\n",
    "    \n",
    "    X_train_tmp, X_train_tmp_meta = X_train_tmp[:,:100], X_train_tmp[:,100:]\n",
    "    X_val_tmp, X_val_tmp_meta = X_val_tmp[:,:100], X_val_tmp[:,100:]\n",
    "\n",
    "    \n",
    "    model = model_1.get_model(embedding_matrix, maxlen, max_features, embed_size, len(features))\n",
    "    adam = tf.keras.optimizers.Adam(lr=1e-3)\n",
    "    model.compile(loss='categorical_crossentropy', optimizer=adam, metrics=['accuracy'])\n",
    "    \n",
    "    print(\"##################################################\")\n",
    "    print(f'Model 1, iteration {i}')\n",
    "    \n",
    "    callback_earlystop = tf.keras.callbacks.EarlyStopping(patience=5,\n",
    "                                               monitor='val_loss',\n",
    "                                               mode='auto',\n",
    "                                               restore_best_weights=True)\n",
    "    \n",
    "    \n",
    "    model.fit([X_train_tmp, X_train_tmp_meta], y_train_tmp, epochs = 20, batch_size=256,\n",
    "              callbacks=[callback_earlystop], validation_data=([X_val_tmp, X_val_tmp_meta], y_val_tmp))\n",
    "    \n",
    "    y_hat_val = model.predict([X_val, X_val_meta]).astype('float32')\n",
    "    y_hat_val.tofile(f'./results/Model_1_{i}_val_cls')\n",
    "    \n",
    "    y_hat_test = model.predict([X_test, X_test_meta]).astype('float32')\n",
    "    y_hat_test.tofile(f'./results/Model_1_{i}_test_cls')"
   ]
  },
  {
   "cell_type": "code",
   "execution_count": 33,
   "metadata": {},
   "outputs": [],
   "source": [
    "y_val.astype('float32').tofile('./results/y_val_cls')"
   ]
  },
  {
   "cell_type": "code",
   "execution_count": null,
   "metadata": {},
   "outputs": [],
   "source": []
  },
  {
   "cell_type": "code",
   "execution_count": null,
   "metadata": {},
   "outputs": [],
   "source": []
  }
 ],
 "metadata": {
  "kernelspec": {
   "display_name": "Python (ml-nlp)",
   "language": "python",
   "name": "ml-nlp"
  },
  "language_info": {
   "codemirror_mode": {
    "name": "ipython",
    "version": 3
   },
   "file_extension": ".py",
   "mimetype": "text/x-python",
   "name": "python",
   "nbconvert_exporter": "python",
   "pygments_lexer": "ipython3",
   "version": "3.7.7"
  }
 },
 "nbformat": 4,
 "nbformat_minor": 4
}
