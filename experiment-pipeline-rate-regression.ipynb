{
 "cells": [
  {
   "cell_type": "code",
   "execution_count": 1,
   "metadata": {},
   "outputs": [],
   "source": [
    "from gensim.models import KeyedVectors"
   ]
  },
  {
   "cell_type": "code",
   "execution_count": 2,
   "metadata": {},
   "outputs": [],
   "source": [
    "EMBEDDING_FILE = './GoogleNews-vectors-negative300.bin.gz' \n",
    "word2vec = KeyedVectors.load_word2vec_format(EMBEDDING_FILE, binary=True)"
   ]
  },
  {
   "cell_type": "code",
   "execution_count": 3,
   "metadata": {},
   "outputs": [
    {
     "name": "stderr",
     "output_type": "stream",
     "text": [
      "/home/krzysztof/.conda/envs/ml-nlp/lib/python3.7/site-packages/tqdm/std.py:668: FutureWarning: The Panel class is removed from pandas. Accessing it from the top-level namespace will also be removed in the next version\n",
      "  from pandas import Panel\n"
     ]
    }
   ],
   "source": [
    "import pandas as pd\n",
    "import numpy as np \n",
    "import os\n",
    "\n",
    "from tqdm import tqdm\n",
    "tqdm.pandas()"
   ]
  },
  {
   "cell_type": "code",
   "execution_count": 4,
   "metadata": {},
   "outputs": [],
   "source": [
    "train = pd.read_csv('./data/Train.csv', sep=';')\n",
    "test = pd.read_csv('./data/TestX.csv', sep=';')\n",
    "\n",
    "train.opinion = train.opinion.apply(lambda x: x.replace(\"&#039;\", \"'\"))\n",
    "test.opinion = test.opinion.apply(lambda x: x.replace(\"&#039;\", \"'\"))"
   ]
  },
  {
   "cell_type": "code",
   "execution_count": 5,
   "metadata": {},
   "outputs": [],
   "source": [
    "train = train.drop_duplicates('opinion').reset_index(drop=True)"
   ]
  },
  {
   "cell_type": "code",
   "execution_count": 6,
   "metadata": {},
   "outputs": [],
   "source": [
    "embed_size = 300 # how big is each word vector\n",
    "max_features = 30000 # how many unique words to use (i.e num rows in embedding vector)\n",
    "maxlen = 100 # max number of words in a question to use"
   ]
  },
  {
   "cell_type": "code",
   "execution_count": 7,
   "metadata": {},
   "outputs": [],
   "source": [
    "train['opinion_length'] = train.opinion.apply(lambda x: len(x))\n",
    "train['capital_counts'] = train.opinion.apply(lambda x: sum(1 for c in x if c.isupper()))\n",
    "train['special_counts'] = train.opinion.apply(lambda x: sum(1 for c in x if c in '?!.,\"#$%\\'()*+-/:;<=>@[\\\\]^_`{|}~'))\n",
    "train['word_count'] = train.opinion.apply(lambda x: len(str(x).split()))\n",
    "train['unique_word_count'] = train.opinion.apply(lambda x: len(set(str(x).split())))\n",
    "train['mean_word_length'] = train.opinion.apply(lambda x: np.mean([len(w) for w in str(x).split()]))\n",
    "train['name_count'] = train.opinion.apply(lambda x: sum(1 for c in x.split() if c[0].isupper()))\n",
    "\n",
    "test['opinion_length'] = test.opinion.apply(lambda x: len(x))\n",
    "test['capital_counts'] = test.opinion.apply(lambda x: sum(1 for c in x if c.isupper()))\n",
    "test['special_counts'] = test.opinion.apply(lambda x: sum(1 for c in x if c in '?!.,\"#$%\\'()*+-/:;<=>@[\\\\]^_`{|}~'))\n",
    "test['word_count'] = test.opinion.apply(lambda x: len(str(x).split()))\n",
    "test['unique_word_count'] = test.opinion.apply(lambda x: len(set(str(x).split())))\n",
    "test['mean_word_length'] = test.opinion.apply(lambda x: np.mean([len(w) for w in str(x).split()]))\n",
    "test['name_count'] = test.opinion.apply(lambda x: sum(1 for c in x.split() if c[0].isupper()))\n",
    "\n",
    "meta_features = ['opinion_length', 'capital_counts', 'special_counts', 'word_count', 'unique_word_count', 'mean_word_length', 'name_count']\n",
    "\n",
    "for feature in meta_features:\n",
    "    max_value = train[feature].max()\n",
    "    train[feature] = train[feature] / max_value\n",
    "    test[feature] = test[feature] / max_value\n",
    "\n",
    "condition_features = list(train.condition.value_counts().index)[:60]\n",
    "for condition_feature in condition_features:\n",
    "    train['condition_' + condition_feature] = (train.condition == condition_feature).astype(int)\n",
    "    test['condition_' + condition_feature] = (test.condition == condition_feature).astype(int)"
   ]
  },
  {
   "cell_type": "code",
   "execution_count": 8,
   "metadata": {},
   "outputs": [],
   "source": [
    "import operator \n",
    "import re\n",
    "\n",
    "\n",
    "def check_coverage(vocab,embeddings_index):\n",
    "    a = {}\n",
    "    oov = {}\n",
    "    k = 0\n",
    "    i = 0\n",
    "    for word in tqdm(vocab):\n",
    "        try:\n",
    "            a[word] = embeddings_index[word]\n",
    "            k += vocab[word]\n",
    "        except:\n",
    "\n",
    "            oov[word] = vocab[word]\n",
    "            i += vocab[word]\n",
    "            pass\n",
    "\n",
    "    print('Found embeddings for {:.2%} of vocab'.format(len(a) / len(vocab)))\n",
    "    print('Found embeddings for  {:.2%} of all text'.format(k / (k + i)))\n",
    "    sorted_x = sorted(oov.items(), key=operator.itemgetter(1))[::-1]\n",
    "\n",
    "    return sorted_x\n",
    "\n",
    "\n",
    "def build_vocab(sentences, verbose =  True):\n",
    "    \"\"\"\n",
    "    :param sentences: list of list of words\n",
    "    :return: dictionary of words and their count\n",
    "    \"\"\"\n",
    "    vocab = {}\n",
    "    for sentence in tqdm(sentences, disable = (not verbose)):\n",
    "        for word in sentence:\n",
    "            try:\n",
    "                vocab[word] += 1\n",
    "            except KeyError:\n",
    "                vocab[word] = 1\n",
    "    return vocab\n",
    "\n",
    "\n",
    "def clean_text(x):\n",
    "    x = str(x)\n",
    "    for punct in \"/-'\":\n",
    "        x = x.replace(punct, ' ')\n",
    "    for punct in '&':\n",
    "        x = x.replace(punct, f' {punct} ')\n",
    "    for punct in '?!.,\"#$%\\'()*+-/:;<=>@[\\\\]^_`{|}~' + '“”’':\n",
    "        x = x.replace(punct, '')\n",
    "    return x\n",
    "\n",
    "\n",
    "\n",
    "def clean_numbers(x):\n",
    "\n",
    "    x = re.sub('[0-9]{5,}', '#####', x)\n",
    "    x = re.sub('[0-9]{4}', '####', x)\n",
    "    x = re.sub('[0-9]{3}', '###', x)\n",
    "    x = re.sub('[0-9]{2}', '##', x)\n",
    "    return x\n",
    "\n",
    "\n",
    "def _get_mispell(mispell_dict):\n",
    "    mispell_re = re.compile('(%s)' % '|'.join(mispell_dict.keys()))\n",
    "    return mispell_dict, mispell_re\n",
    "\n",
    "\n",
    "mispell_dict = {'colour':'color',\n",
    "                'centre':'center',\n",
    "                'didnt':'did not',\n",
    "                'doesnt':'does not',\n",
    "                'isnt':'is not',\n",
    "                'shouldnt':'should not',\n",
    "                'favourite':'favorite',\n",
    "                'travelling':'traveling',\n",
    "                'counselling':'counseling',\n",
    "                'theatre':'theater',\n",
    "                'cancelled':'canceled',\n",
    "                'labour':'labor',\n",
    "                'organisation':'organization',\n",
    "                'wwii':'world war 2',\n",
    "                'citicise':'criticize',\n",
    "                'instagram': 'social medium',\n",
    "                'whatsapp': 'social medium',\n",
    "                'snapchat': 'social medium'}\n",
    "mispellings, mispellings_re = _get_mispell(mispell_dict)\n",
    "\n",
    "\n",
    "def replace_typical_misspell(text):\n",
    "    def replace(match):\n",
    "        return mispellings[match.group(0)]\n",
    "\n",
    "    return mispellings_re.sub(replace, text)"
   ]
  },
  {
   "cell_type": "code",
   "execution_count": 9,
   "metadata": {},
   "outputs": [
    {
     "name": "stderr",
     "output_type": "stream",
     "text": [
      "100%|██████████| 107590/107590 [00:00<00:00, 149500.05it/s]\n",
      "100%|██████████| 107590/107590 [00:01<00:00, 77216.80it/s]\n"
     ]
    }
   ],
   "source": [
    "sentences = train[\"opinion\"].progress_apply(lambda x: x.split()).values\n",
    "vocab = build_vocab(sentences)"
   ]
  },
  {
   "cell_type": "code",
   "execution_count": 10,
   "metadata": {},
   "outputs": [
    {
     "name": "stderr",
     "output_type": "stream",
     "text": [
      "100%|██████████| 188722/188722 [00:00<00:00, 602852.08it/s]"
     ]
    },
    {
     "name": "stdout",
     "output_type": "stream",
     "text": [
      "Found embeddings for 20.39% of vocab\n",
      "Found embeddings for  77.62% of all text\n"
     ]
    },
    {
     "name": "stderr",
     "output_type": "stream",
     "text": [
      "\n"
     ]
    }
   ],
   "source": [
    "oov = check_coverage(vocab, word2vec)"
   ]
  },
  {
   "cell_type": "code",
   "execution_count": 11,
   "metadata": {},
   "outputs": [],
   "source": [
    "train['opinion'] = train['opinion'].str.replace('\"', '')\n",
    "train['opinion'] = train['opinion'].str.replace(',', '')\n",
    "train['opinion'] = train['opinion'].str.replace('.', '')\n",
    "train['opinion'] = train['opinion'].str.replace('!', '')\n",
    "train['opinion'] = train['opinion'].str.replace(':', '')\n",
    "train['opinion'] = train['opinion'].str.replace('&#039;ve', ' have')\n",
    "train['opinion'] = train['opinion'].str.replace('&#039;s', ' is')\n",
    "train['opinion'] = train['opinion'].str.replace('&#039;t', ' not')\n",
    "train['opinion'] = train['opinion'].str.replace('&#039;m', ' am')\n",
    "train['opinion'] = train['opinion'].str.replace('&#039;ll', '')\n",
    "train['opinion'] = train['opinion'].str.replace('rsquot', '')\n",
    "train['opinion'] = train['opinion'].str.replace('rsquom', '')\n",
    "train['opinion'] = train['opinion'].str.replace('rsquos', '')"
   ]
  },
  {
   "cell_type": "code",
   "execution_count": 12,
   "metadata": {},
   "outputs": [],
   "source": [
    "test['opinion'] = test['opinion'].str.replace('\"', '')\n",
    "test['opinion'] = test['opinion'].str.replace(',', '')\n",
    "test['opinion'] = test['opinion'].str.replace('.', '')\n",
    "test['opinion'] = test['opinion'].str.replace('!', '')\n",
    "test['opinion'] = test['opinion'].str.replace(':', '')\n",
    "test['opinion'] = test['opinion'].str.replace('&#039;ve', ' have')\n",
    "test['opinion'] = test['opinion'].str.replace('&#039;s', ' is')\n",
    "test['opinion'] = test['opinion'].str.replace('&#039;t', ' not')\n",
    "test['opinion'] = test['opinion'].str.replace('&#039;m', ' am')\n",
    "test['opinion'] = test['opinion'].str.replace('&#039;ll', '')\n",
    "test['opinion'] = test['opinion'].str.replace('rsquot', '')\n",
    "test['opinion'] = test['opinion'].str.replace('rsquom', '')\n",
    "test['opinion'] = test['opinion'].str.replace('rsquos', '')"
   ]
  },
  {
   "cell_type": "code",
   "execution_count": 13,
   "metadata": {},
   "outputs": [
    {
     "name": "stderr",
     "output_type": "stream",
     "text": [
      "100%|██████████| 107590/107590 [00:00<00:00, 120285.51it/s]\n",
      "100%|██████████| 107590/107590 [00:03<00:00, 32235.06it/s]\n",
      "100%|██████████| 107590/107590 [00:01<00:00, 78555.74it/s]\n"
     ]
    }
   ],
   "source": [
    "train[\"opinion\"] = train[\"opinion\"].progress_apply(lambda x: clean_text(x))\n",
    "train[\"opinion\"] = train[\"opinion\"].progress_apply(lambda x: clean_numbers(x))\n",
    "train[\"opinion\"] = train[\"opinion\"].progress_apply(lambda x: replace_typical_misspell(x))"
   ]
  },
  {
   "cell_type": "code",
   "execution_count": 14,
   "metadata": {},
   "outputs": [
    {
     "name": "stderr",
     "output_type": "stream",
     "text": [
      "100%|██████████| 50000/50000 [00:00<00:00, 116548.01it/s]\n",
      "100%|██████████| 50000/50000 [00:01<00:00, 32468.42it/s]\n",
      "100%|██████████| 50000/50000 [00:00<00:00, 82507.90it/s]\n"
     ]
    }
   ],
   "source": [
    "test[\"opinion\"] = test[\"opinion\"].progress_apply(lambda x: clean_text(x))\n",
    "test[\"opinion\"] = test[\"opinion\"].progress_apply(lambda x: clean_numbers(x))\n",
    "test[\"opinion\"] = test[\"opinion\"].progress_apply(lambda x: replace_typical_misspell(x))"
   ]
  },
  {
   "cell_type": "code",
   "execution_count": 15,
   "metadata": {},
   "outputs": [
    {
     "name": "stderr",
     "output_type": "stream",
     "text": [
      "100%|██████████| 107590/107590 [00:01<00:00, 84046.24it/s]\n",
      "100%|██████████| 107590/107590 [00:01<00:00, 107109.22it/s]\n",
      "100%|██████████| 107590/107590 [00:01<00:00, 90401.09it/s]\n"
     ]
    }
   ],
   "source": [
    "sentences = train[\"opinion\"].progress_apply(lambda x: x.split())\n",
    "to_remove = ['a','to','of','and']\n",
    "sentences = [[word for word in sentence if not word in to_remove] for sentence in tqdm(sentences)]\n",
    "vocab = build_vocab(sentences)"
   ]
  },
  {
   "cell_type": "code",
   "execution_count": 16,
   "metadata": {},
   "outputs": [
    {
     "name": "stderr",
     "output_type": "stream",
     "text": [
      "100%|██████████| 74690/74690 [00:00<00:00, 546551.81it/s]\n"
     ]
    },
    {
     "name": "stdout",
     "output_type": "stream",
     "text": [
      "Found embeddings for 57.90% of vocab\n",
      "Found embeddings for  99.12% of all text\n"
     ]
    }
   ],
   "source": [
    "oov = check_coverage(vocab,word2vec)"
   ]
  },
  {
   "cell_type": "code",
   "execution_count": 17,
   "metadata": {
    "scrolled": true
   },
   "outputs": [
    {
     "data": {
      "text/plain": [
       "[('Nexplanon', 1254),\n",
       " ('Sprintec', 824),\n",
       " ('nexplanon', 744),\n",
       " ('rsquot', 673),\n",
       " ('Belviq', 585),\n",
       " ('mirena', 445),\n",
       " ('rsquom', 442),\n",
       " ('skyla', 399),\n",
       " ('rsquos', 382),\n",
       " ('implanon', 366)]"
      ]
     },
     "execution_count": 17,
     "metadata": {},
     "output_type": "execute_result"
    }
   ],
   "source": [
    "oov[:10]"
   ]
  },
  {
   "cell_type": "code",
   "execution_count": 18,
   "metadata": {},
   "outputs": [],
   "source": [
    "top_oov = [i for i, j in oov[:40]]"
   ]
  },
  {
   "cell_type": "code",
   "execution_count": 19,
   "metadata": {},
   "outputs": [],
   "source": [
    "for oov_word in top_oov:\n",
    "    train['oov_' + oov_word] = train.opinion.apply(lambda x: oov_word in x)\n",
    "    test['oov_' + oov_word] = test.opinion.apply(lambda x: oov_word in x)"
   ]
  },
  {
   "cell_type": "code",
   "execution_count": 20,
   "metadata": {},
   "outputs": [],
   "source": [
    "features = meta_features + ['condition_' + i for i in condition_features] + ['oov_' + i for i in top_oov]"
   ]
  },
  {
   "cell_type": "code",
   "execution_count": 21,
   "metadata": {},
   "outputs": [],
   "source": [
    "from sklearn.model_selection import train_test_split\n",
    "\n",
    "train_df, val_df = train_test_split(train, test_size=0.08, random_state=42)\n",
    "\n",
    "X_train_meta = np.array(train_df.loc[:, features]).astype(np.float32)\n",
    "X_val_meta = np.array(val_df.loc[:, features]).astype(np.float32)\n",
    "X_test_meta = np.array(test.loc[:, features]).astype(np.float32)\n",
    "\n",
    "X_train = train_df.opinion.values\n",
    "X_val = val_df.opinion.values\n",
    "X_test = test.opinion.values"
   ]
  },
  {
   "cell_type": "code",
   "execution_count": 22,
   "metadata": {},
   "outputs": [],
   "source": [
    "from tensorflow.keras.preprocessing.text import Tokenizer\n",
    "\n",
    "tokenizer = Tokenizer(num_words = max_features)"
   ]
  },
  {
   "cell_type": "code",
   "execution_count": 23,
   "metadata": {},
   "outputs": [],
   "source": [
    "tokenizer.fit_on_texts(list(X_train))\n",
    "\n",
    "X_train = tokenizer.texts_to_sequences(X_train)\n",
    "X_val = tokenizer.texts_to_sequences(X_val)\n",
    "X_test = tokenizer.texts_to_sequences(X_test)"
   ]
  },
  {
   "cell_type": "code",
   "execution_count": 24,
   "metadata": {},
   "outputs": [],
   "source": [
    "from tensorflow.keras.preprocessing.sequence import pad_sequences\n",
    "\n",
    "X_train = pad_sequences(X_train, maxlen=maxlen)\n",
    "X_val = pad_sequences(X_val, maxlen=maxlen)\n",
    "X_test = pad_sequences(X_test, maxlen=maxlen)"
   ]
  },
  {
   "cell_type": "code",
   "execution_count": 25,
   "metadata": {},
   "outputs": [],
   "source": [
    "y_train = train_df['rate'].values\n",
    "y_val = val_df['rate'].values"
   ]
  },
  {
   "cell_type": "code",
   "execution_count": 26,
   "metadata": {},
   "outputs": [],
   "source": [
    "from tensorflow.keras.layers import Dense, Dropout, GlobalMaxPool1D, Bidirectional, LSTM, Embedding, Input, Concatenate, Flatten\n",
    "from tensorflow.keras.models import Model\n",
    "import tensorflow as tf\n",
    "from tensorflow.keras import backend as K"
   ]
  },
  {
   "cell_type": "code",
   "execution_count": 27,
   "metadata": {},
   "outputs": [],
   "source": [
    "# create a weight matrix for words in training docs\n",
    "embedding_matrix = np.zeros((max_features, embed_size))\n",
    "for word, i in tokenizer.word_index.items():\n",
    "    try:\n",
    "        embedding_vector = word2vec.get_vector(word)\n",
    "        if embedding_vector is not None:\n",
    "            embedding_matrix[i] = embedding_vector\n",
    "            embedding_vector = None\n",
    "    except:\n",
    "        pass\n"
   ]
  },
  {
   "cell_type": "code",
   "execution_count": 28,
   "metadata": {},
   "outputs": [],
   "source": [
    "from lstm_models import model_1"
   ]
  },
  {
   "cell_type": "code",
   "execution_count": null,
   "metadata": {},
   "outputs": [],
   "source": []
  },
  {
   "cell_type": "code",
   "execution_count": 29,
   "metadata": {},
   "outputs": [
    {
     "name": "stdout",
     "output_type": "stream",
     "text": [
      "##################################################\n",
      "Model 1, iteration 0\n",
      "Train on 94032 samples, validate on 4950 samples\n",
      "Epoch 1/20\n",
      "94032/94032 [==============================] - 28s 301us/sample - loss: 2.3583 - val_loss: 1.9992\n",
      "Epoch 2/20\n",
      "94032/94032 [==============================] - 25s 267us/sample - loss: 1.7812 - val_loss: 1.6668\n",
      "Epoch 3/20\n",
      "94032/94032 [==============================] - 25s 270us/sample - loss: 1.5876 - val_loss: 1.5492\n",
      "Epoch 4/20\n",
      "94032/94032 [==============================] - 26s 272us/sample - loss: 1.4804 - val_loss: 1.4737\n",
      "Epoch 5/20\n",
      "94032/94032 [==============================] - 26s 273us/sample - loss: 1.4044 - val_loss: 1.4563\n",
      "Epoch 6/20\n",
      "94032/94032 [==============================] - 26s 273us/sample - loss: 1.3463 - val_loss: 1.4392\n",
      "Epoch 7/20\n",
      "94032/94032 [==============================] - 26s 274us/sample - loss: 1.2910 - val_loss: 1.4093\n",
      "Epoch 8/20\n",
      "94032/94032 [==============================] - 26s 273us/sample - loss: 1.2521 - val_loss: 1.4617\n",
      "Epoch 9/20\n",
      "94032/94032 [==============================] - 26s 274us/sample - loss: 1.2950 - val_loss: 1.4340\n",
      "Epoch 10/20\n",
      "94032/94032 [==============================] - 26s 274us/sample - loss: 1.2094 - val_loss: 1.3906\n",
      "Epoch 11/20\n",
      "94032/94032 [==============================] - 26s 273us/sample - loss: 1.1495 - val_loss: 1.4472\n",
      "Epoch 12/20\n",
      "94032/94032 [==============================] - 26s 273us/sample - loss: 1.1039 - val_loss: 1.3911\n",
      "Epoch 13/20\n",
      "94032/94032 [==============================] - 26s 274us/sample - loss: 1.0645 - val_loss: 1.3593\n",
      "Epoch 14/20\n",
      "94032/94032 [==============================] - 26s 274us/sample - loss: 1.0260 - val_loss: 1.3936\n",
      "Epoch 15/20\n",
      "94032/94032 [==============================] - 26s 273us/sample - loss: 0.9870 - val_loss: 1.3787\n",
      "Epoch 16/20\n",
      "94032/94032 [==============================] - 26s 274us/sample - loss: 0.9622 - val_loss: 1.3820\n",
      "Epoch 17/20\n",
      "94032/94032 [==============================] - 26s 274us/sample - loss: 0.9262 - val_loss: 1.3785\n",
      "Epoch 18/20\n",
      "94032/94032 [==============================] - 26s 274us/sample - loss: 0.8936 - val_loss: 1.3757\n",
      "##################################################\n",
      "Model 1, iteration 1\n",
      "Train on 94032 samples, validate on 4950 samples\n",
      "Epoch 1/20\n",
      "94032/94032 [==============================] - 27s 283us/sample - loss: 2.3754 - val_loss: 2.0254\n",
      "Epoch 2/20\n",
      "94032/94032 [==============================] - 25s 265us/sample - loss: 1.7913 - val_loss: 1.6657\n",
      "Epoch 3/20\n",
      "94032/94032 [==============================] - 25s 265us/sample - loss: 1.5708 - val_loss: 1.6351\n",
      "Epoch 4/20\n",
      "94032/94032 [==============================] - 25s 266us/sample - loss: 1.4658 - val_loss: 1.5375\n",
      "Epoch 5/20\n",
      "94032/94032 [==============================] - 25s 265us/sample - loss: 1.3851 - val_loss: 1.4875\n",
      "Epoch 6/20\n",
      "94032/94032 [==============================] - 25s 266us/sample - loss: 1.3332 - val_loss: 1.4542\n",
      "Epoch 7/20\n",
      "94032/94032 [==============================] - 25s 267us/sample - loss: 1.2719 - val_loss: 1.4792\n",
      "Epoch 8/20\n",
      "94032/94032 [==============================] - 24s 258us/sample - loss: 1.2311 - val_loss: 1.4198\n",
      "Epoch 9/20\n",
      "94032/94032 [==============================] - 24s 259us/sample - loss: 1.1732 - val_loss: 1.4643\n",
      "Epoch 10/20\n",
      "94032/94032 [==============================] - 24s 260us/sample - loss: 1.1343 - val_loss: 1.4312\n",
      "Epoch 11/20\n",
      "94032/94032 [==============================] - 24s 260us/sample - loss: 1.0874 - val_loss: 1.4458\n",
      "Epoch 12/20\n",
      "94032/94032 [==============================] - 24s 259us/sample - loss: 1.0561 - val_loss: 1.5523\n",
      "Epoch 13/20\n",
      "94032/94032 [==============================] - 24s 259us/sample - loss: 1.0192 - val_loss: 1.4817\n",
      "##################################################\n",
      "Model 1, iteration 2\n",
      "Train on 94032 samples, validate on 4950 samples\n",
      "Epoch 1/20\n",
      "94032/94032 [==============================] - 26s 274us/sample - loss: 2.3908 - val_loss: 2.0008\n",
      "Epoch 2/20\n",
      "94032/94032 [==============================] - 24s 257us/sample - loss: 1.7672 - val_loss: 1.6360\n",
      "Epoch 3/20\n",
      "94032/94032 [==============================] - 24s 258us/sample - loss: 1.5678 - val_loss: 1.5511\n",
      "Epoch 4/20\n",
      "94032/94032 [==============================] - 24s 258us/sample - loss: 1.4502 - val_loss: 1.5236\n",
      "Epoch 5/20\n",
      "94032/94032 [==============================] - 24s 257us/sample - loss: 1.3772 - val_loss: 1.4625\n",
      "Epoch 6/20\n",
      "94032/94032 [==============================] - 24s 257us/sample - loss: 1.3197 - val_loss: 1.4487\n",
      "Epoch 7/20\n",
      "94032/94032 [==============================] - 24s 258us/sample - loss: 1.2623 - val_loss: 1.4483\n",
      "Epoch 8/20\n",
      "94032/94032 [==============================] - 24s 258us/sample - loss: 1.2142 - val_loss: 1.4141\n",
      "Epoch 9/20\n",
      "94032/94032 [==============================] - 24s 257us/sample - loss: 1.1706 - val_loss: 1.3982\n",
      "Epoch 10/20\n",
      "94032/94032 [==============================] - 24s 256us/sample - loss: 1.1221 - val_loss: 1.4047\n",
      "Epoch 11/20\n",
      "94032/94032 [==============================] - 24s 257us/sample - loss: 1.0908 - val_loss: 1.4972\n",
      "Epoch 12/20\n",
      "94032/94032 [==============================] - 24s 257us/sample - loss: 1.0578 - val_loss: 1.4268\n",
      "Epoch 13/20\n",
      "94032/94032 [==============================] - 24s 258us/sample - loss: 1.0120 - val_loss: 1.4259\n",
      "Epoch 14/20\n",
      "94032/94032 [==============================] - 24s 258us/sample - loss: 0.9771 - val_loss: 1.4152\n",
      "##################################################\n",
      "Model 1, iteration 3\n",
      "Train on 94032 samples, validate on 4950 samples\n",
      "Epoch 1/20\n",
      "94032/94032 [==============================] - 26s 274us/sample - loss: 2.4736 - val_loss: 2.1236\n",
      "Epoch 2/20\n",
      "94032/94032 [==============================] - 24s 258us/sample - loss: 1.9161 - val_loss: 1.7968\n",
      "Epoch 3/20\n",
      "94032/94032 [==============================] - 24s 257us/sample - loss: 1.6414 - val_loss: 1.6243\n",
      "Epoch 4/20\n",
      "94032/94032 [==============================] - 24s 257us/sample - loss: 1.5243 - val_loss: 1.5455\n",
      "Epoch 5/20\n",
      "94032/94032 [==============================] - 24s 257us/sample - loss: 1.4481 - val_loss: 1.5314\n",
      "Epoch 6/20\n",
      "94032/94032 [==============================] - 24s 258us/sample - loss: 1.3691 - val_loss: 1.4896\n",
      "Epoch 7/20\n",
      "94032/94032 [==============================] - 24s 257us/sample - loss: 1.3094 - val_loss: 1.4351\n",
      "Epoch 8/20\n",
      "94032/94032 [==============================] - 24s 257us/sample - loss: 1.2491 - val_loss: 1.4265\n",
      "Epoch 9/20\n",
      "94032/94032 [==============================] - 24s 257us/sample - loss: 1.1977 - val_loss: 1.4091\n",
      "Epoch 10/20\n",
      "94032/94032 [==============================] - 24s 257us/sample - loss: 1.1523 - val_loss: 1.4268\n",
      "Epoch 11/20\n",
      "94032/94032 [==============================] - 24s 258us/sample - loss: 1.1081 - val_loss: 1.3982\n",
      "Epoch 12/20\n",
      "94032/94032 [==============================] - 24s 256us/sample - loss: 1.0633 - val_loss: 1.4152\n",
      "Epoch 13/20\n",
      "94032/94032 [==============================] - 24s 257us/sample - loss: 1.0318 - val_loss: 1.4494\n",
      "Epoch 14/20\n",
      "94032/94032 [==============================] - 24s 256us/sample - loss: 0.9904 - val_loss: 1.3999\n",
      "Epoch 15/20\n",
      "94032/94032 [==============================] - 24s 257us/sample - loss: 0.9516 - val_loss: 1.4132\n",
      "Epoch 16/20\n",
      "94032/94032 [==============================] - 24s 258us/sample - loss: 0.9272 - val_loss: 1.4213\n",
      "##################################################\n",
      "Model 1, iteration 4\n",
      "Train on 94032 samples, validate on 4950 samples\n",
      "Epoch 1/20\n",
      "94032/94032 [==============================] - 26s 280us/sample - loss: 2.4874 - val_loss: 1.9797\n",
      "Epoch 2/20\n",
      "94032/94032 [==============================] - 25s 262us/sample - loss: 1.8293 - val_loss: 1.7254\n",
      "Epoch 3/20\n",
      "94032/94032 [==============================] - 25s 263us/sample - loss: 1.6134 - val_loss: 1.5845\n",
      "Epoch 4/20\n",
      "94032/94032 [==============================] - 25s 262us/sample - loss: 1.5053 - val_loss: 1.5317\n",
      "Epoch 5/20\n",
      "94032/94032 [==============================] - 25s 262us/sample - loss: 1.4383 - val_loss: 1.5018\n",
      "Epoch 6/20\n",
      "94032/94032 [==============================] - 25s 263us/sample - loss: 1.3697 - val_loss: 1.4623\n",
      "Epoch 7/20\n",
      "94032/94032 [==============================] - 25s 262us/sample - loss: 1.3118 - val_loss: 1.4826\n",
      "Epoch 8/20\n",
      "94032/94032 [==============================] - 25s 262us/sample - loss: 1.2681 - val_loss: 1.4711\n",
      "Epoch 9/20\n"
     ]
    },
    {
     "name": "stdout",
     "output_type": "stream",
     "text": [
      "94032/94032 [==============================] - 24s 250us/sample - loss: 1.2249 - val_loss: 1.4472\n",
      "Epoch 10/20\n",
      "94032/94032 [==============================] - 23s 250us/sample - loss: 1.1853 - val_loss: 1.4633\n",
      "Epoch 11/20\n",
      "94032/94032 [==============================] - 23s 249us/sample - loss: 1.1331 - val_loss: 1.4619\n",
      "Epoch 12/20\n",
      "94032/94032 [==============================] - 23s 249us/sample - loss: 1.0920 - val_loss: 1.4572\n",
      "Epoch 13/20\n",
      "94032/94032 [==============================] - 23s 248us/sample - loss: 1.0571 - val_loss: 1.4741\n",
      "Epoch 14/20\n",
      "94032/94032 [==============================] - 23s 250us/sample - loss: 1.0300 - val_loss: 1.4469\n",
      "Epoch 15/20\n",
      "94032/94032 [==============================] - 23s 250us/sample - loss: 0.9970 - val_loss: 1.4501\n",
      "Epoch 16/20\n",
      "94032/94032 [==============================] - 23s 249us/sample - loss: 0.9695 - val_loss: 1.4502\n",
      "Epoch 17/20\n",
      "94032/94032 [==============================] - 23s 249us/sample - loss: 0.9342 - val_loss: 1.4879\n",
      "Epoch 18/20\n",
      "94032/94032 [==============================] - 23s 248us/sample - loss: 0.9201 - val_loss: 1.4933\n",
      "Epoch 19/20\n",
      "94032/94032 [==============================] - 23s 250us/sample - loss: 0.8926 - val_loss: 1.4762\n",
      "##################################################\n",
      "Model 1, iteration 5\n",
      "Train on 94032 samples, validate on 4950 samples\n",
      "Epoch 1/20\n",
      "94032/94032 [==============================] - 26s 273us/sample - loss: 2.4426 - val_loss: 1.9486\n",
      "Epoch 2/20\n",
      "94032/94032 [==============================] - 24s 257us/sample - loss: 1.8170 - val_loss: 1.6886\n",
      "Epoch 3/20\n",
      "94032/94032 [==============================] - 24s 255us/sample - loss: 1.6289 - val_loss: 1.6227\n",
      "Epoch 4/20\n",
      "94032/94032 [==============================] - 24s 256us/sample - loss: 1.5100 - val_loss: 1.5236\n",
      "Epoch 5/20\n",
      "94032/94032 [==============================] - 24s 256us/sample - loss: 1.4250 - val_loss: 1.4772\n",
      "Epoch 6/20\n",
      "94032/94032 [==============================] - 24s 255us/sample - loss: 1.3662 - val_loss: 1.4494\n",
      "Epoch 7/20\n",
      "94032/94032 [==============================] - 24s 257us/sample - loss: 1.3129 - val_loss: 1.4405\n",
      "Epoch 8/20\n",
      "94032/94032 [==============================] - 24s 255us/sample - loss: 1.2624 - val_loss: 1.4241\n",
      "Epoch 9/20\n",
      "94032/94032 [==============================] - 24s 256us/sample - loss: 1.2154 - val_loss: 1.4473\n",
      "Epoch 10/20\n",
      "94032/94032 [==============================] - 24s 256us/sample - loss: 1.1726 - val_loss: 1.4261\n",
      "Epoch 11/20\n",
      "94032/94032 [==============================] - 24s 255us/sample - loss: 1.1726 - val_loss: 1.6217\n",
      "Epoch 12/20\n",
      "94032/94032 [==============================] - 24s 257us/sample - loss: 1.2432 - val_loss: 1.4479\n",
      "Epoch 13/20\n",
      "94032/94032 [==============================] - 24s 255us/sample - loss: 1.1709 - val_loss: 1.4610\n",
      "##################################################\n",
      "Model 1, iteration 6\n",
      "Train on 94032 samples, validate on 4950 samples\n",
      "Epoch 1/20\n",
      "94032/94032 [==============================] - 25s 266us/sample - loss: 2.5678 - val_loss: 2.2718\n",
      "Epoch 2/20\n",
      "94032/94032 [==============================] - 23s 248us/sample - loss: 1.9209 - val_loss: 1.8240\n",
      "Epoch 3/20\n",
      "94032/94032 [==============================] - 23s 249us/sample - loss: 1.7550 - val_loss: 1.7201\n",
      "Epoch 4/20\n",
      "94032/94032 [==============================] - 24s 250us/sample - loss: 1.6316 - val_loss: 1.6338\n",
      "Epoch 5/20\n",
      "94032/94032 [==============================] - 23s 249us/sample - loss: 1.5681 - val_loss: 1.5692\n",
      "Epoch 6/20\n",
      "94032/94032 [==============================] - 23s 249us/sample - loss: 1.4808 - val_loss: 1.5551\n",
      "Epoch 7/20\n",
      "94032/94032 [==============================] - 23s 248us/sample - loss: 1.4316 - val_loss: 1.5419\n",
      "Epoch 8/20\n",
      "94032/94032 [==============================] - 24s 250us/sample - loss: 1.3937 - val_loss: 1.5261\n",
      "Epoch 9/20\n",
      "94032/94032 [==============================] - 24s 250us/sample - loss: 1.3512 - val_loss: 1.4641\n",
      "Epoch 10/20\n",
      "94032/94032 [==============================] - 23s 249us/sample - loss: 1.2869 - val_loss: 1.4482\n",
      "Epoch 11/20\n",
      "94032/94032 [==============================] - 23s 249us/sample - loss: 1.2390 - val_loss: 1.4728\n",
      "Epoch 12/20\n",
      "94032/94032 [==============================] - 23s 248us/sample - loss: 1.2108 - val_loss: 1.4587\n",
      "Epoch 13/20\n",
      "94032/94032 [==============================] - 23s 250us/sample - loss: 1.1651 - val_loss: 1.4317\n",
      "Epoch 14/20\n",
      "94032/94032 [==============================] - 24s 250us/sample - loss: 1.1144 - val_loss: 1.4352\n",
      "Epoch 15/20\n",
      "94032/94032 [==============================] - 23s 249us/sample - loss: 1.0755 - val_loss: 1.4506\n",
      "Epoch 16/20\n",
      "94032/94032 [==============================] - 23s 249us/sample - loss: 1.0440 - val_loss: 1.4736\n",
      "Epoch 17/20\n",
      "94032/94032 [==============================] - 23s 248us/sample - loss: 1.1698 - val_loss: 1.5593\n",
      "Epoch 18/20\n",
      "94032/94032 [==============================] - 23s 249us/sample - loss: 1.1545 - val_loss: 1.4504\n",
      "##################################################\n",
      "Model 1, iteration 7\n",
      "Train on 94032 samples, validate on 4950 samples\n",
      "Epoch 1/20\n",
      "94032/94032 [==============================] - 25s 263us/sample - loss: 2.4157 - val_loss: 2.0630\n",
      "Epoch 2/20\n",
      "94032/94032 [==============================] - 23s 247us/sample - loss: 1.7946 - val_loss: 1.6615\n",
      "Epoch 3/20\n",
      "94032/94032 [==============================] - 23s 245us/sample - loss: 1.6406 - val_loss: 1.6064\n",
      "Epoch 4/20\n",
      "94032/94032 [==============================] - 23s 245us/sample - loss: 1.5066 - val_loss: 1.5142\n",
      "Epoch 5/20\n",
      "94032/94032 [==============================] - 23s 247us/sample - loss: 1.4135 - val_loss: 1.4864\n",
      "Epoch 6/20\n",
      "94032/94032 [==============================] - 23s 246us/sample - loss: 1.3425 - val_loss: 1.4783\n",
      "Epoch 7/20\n",
      "94032/94032 [==============================] - 23s 247us/sample - loss: 1.2854 - val_loss: 1.4651\n",
      "Epoch 8/20\n",
      "94032/94032 [==============================] - 23s 245us/sample - loss: 1.2342 - val_loss: 1.4399\n",
      "Epoch 9/20\n",
      "94032/94032 [==============================] - 23s 245us/sample - loss: 1.1909 - val_loss: 1.4284\n",
      "Epoch 10/20\n",
      "94032/94032 [==============================] - 23s 245us/sample - loss: 1.1376 - val_loss: 1.4299\n",
      "Epoch 11/20\n",
      "94032/94032 [==============================] - 23s 245us/sample - loss: 1.0960 - val_loss: 1.4047\n",
      "Epoch 12/20\n",
      "94032/94032 [==============================] - 23s 246us/sample - loss: 1.0518 - val_loss: 1.4078\n",
      "Epoch 13/20\n",
      "94032/94032 [==============================] - 23s 244us/sample - loss: 1.0205 - val_loss: 1.4180\n",
      "Epoch 14/20\n",
      "94032/94032 [==============================] - 23s 245us/sample - loss: 0.9882 - val_loss: 1.4540\n",
      "Epoch 15/20\n",
      "94032/94032 [==============================] - 23s 245us/sample - loss: 0.9448 - val_loss: 1.4262\n",
      "Epoch 16/20\n",
      "94032/94032 [==============================] - 23s 245us/sample - loss: 0.9165 - val_loss: 1.4239\n",
      "##################################################\n",
      "Model 1, iteration 8\n",
      "Train on 94032 samples, validate on 4950 samples\n",
      "Epoch 1/20\n",
      "94032/94032 [==============================] - 25s 261us/sample - loss: 2.4333 - val_loss: 2.0139\n",
      "Epoch 2/20\n",
      "94032/94032 [==============================] - 23s 244us/sample - loss: 1.8283 - val_loss: 1.7391\n",
      "Epoch 3/20\n",
      "94032/94032 [==============================] - 23s 243us/sample - loss: 1.6206 - val_loss: 1.5908\n",
      "Epoch 4/20\n",
      "94032/94032 [==============================] - 23s 244us/sample - loss: 1.5003 - val_loss: 1.5361\n",
      "Epoch 5/20\n",
      "94032/94032 [==============================] - 23s 244us/sample - loss: 1.4253 - val_loss: 1.4768\n",
      "Epoch 6/20\n",
      "94032/94032 [==============================] - 23s 243us/sample - loss: 1.3634 - val_loss: 1.4743\n",
      "Epoch 7/20\n",
      "94032/94032 [==============================] - 23s 244us/sample - loss: 1.3091 - val_loss: 1.4709\n",
      "Epoch 8/20\n",
      "94032/94032 [==============================] - 23s 243us/sample - loss: 1.2605 - val_loss: 1.4456\n",
      "Epoch 9/20\n",
      "94032/94032 [==============================] - 23s 244us/sample - loss: 1.2267 - val_loss: 1.4269\n",
      "Epoch 10/20\n",
      "94032/94032 [==============================] - 23s 243us/sample - loss: 1.1699 - val_loss: 1.4471\n",
      "Epoch 11/20\n",
      "94032/94032 [==============================] - 23s 242us/sample - loss: 1.1317 - val_loss: 1.4459\n",
      "Epoch 12/20\n",
      "94032/94032 [==============================] - 23s 244us/sample - loss: 1.0958 - val_loss: 1.4457\n",
      "Epoch 13/20\n"
     ]
    },
    {
     "name": "stdout",
     "output_type": "stream",
     "text": [
      "94032/94032 [==============================] - 23s 243us/sample - loss: 1.0585 - val_loss: 1.4273\n",
      "Epoch 14/20\n",
      "94032/94032 [==============================] - 23s 244us/sample - loss: 1.0227 - val_loss: 1.4359\n",
      "##################################################\n",
      "Model 1, iteration 9\n",
      "Train on 94032 samples, validate on 4950 samples\n",
      "Epoch 1/20\n",
      "94032/94032 [==============================] - 25s 261us/sample - loss: 2.4252 - val_loss: 1.9460\n",
      "Epoch 2/20\n",
      "94032/94032 [==============================] - 23s 244us/sample - loss: 1.8452 - val_loss: 1.7124\n",
      "Epoch 3/20\n",
      "94032/94032 [==============================] - 23s 244us/sample - loss: 1.6138 - val_loss: 1.5651\n",
      "Epoch 4/20\n",
      "94032/94032 [==============================] - 23s 244us/sample - loss: 1.5023 - val_loss: 1.4985\n",
      "Epoch 5/20\n",
      "94032/94032 [==============================] - 23s 243us/sample - loss: 1.4330 - val_loss: 1.4518\n",
      "Epoch 6/20\n",
      "94032/94032 [==============================] - 23s 243us/sample - loss: 1.3658 - val_loss: 1.4344\n",
      "Epoch 7/20\n",
      "94032/94032 [==============================] - 23s 243us/sample - loss: 1.3131 - val_loss: 1.4470\n",
      "Epoch 8/20\n",
      "94032/94032 [==============================] - 23s 244us/sample - loss: 1.2735 - val_loss: 1.4356\n",
      "Epoch 9/20\n",
      "94032/94032 [==============================] - 23s 243us/sample - loss: 1.2258 - val_loss: 1.4713\n",
      "Epoch 10/20\n",
      "94032/94032 [==============================] - 23s 243us/sample - loss: 1.1764 - val_loss: 1.4114\n",
      "Epoch 11/20\n",
      "94032/94032 [==============================] - 23s 243us/sample - loss: 1.1426 - val_loss: 1.4071\n",
      "Epoch 12/20\n",
      "94032/94032 [==============================] - 23s 244us/sample - loss: 1.1005 - val_loss: 1.3861\n",
      "Epoch 13/20\n",
      "94032/94032 [==============================] - 23s 244us/sample - loss: 1.0735 - val_loss: 1.3962\n",
      "Epoch 14/20\n",
      "94032/94032 [==============================] - 23s 243us/sample - loss: 1.0287 - val_loss: 1.4366\n",
      "Epoch 15/20\n",
      "94032/94032 [==============================] - 23s 243us/sample - loss: 1.0054 - val_loss: 1.3944\n",
      "Epoch 16/20\n",
      "94032/94032 [==============================] - 23s 243us/sample - loss: 0.9752 - val_loss: 1.3889\n",
      "Epoch 17/20\n",
      "94032/94032 [==============================] - 23s 244us/sample - loss: 0.9485 - val_loss: 1.3990\n"
     ]
    }
   ],
   "source": [
    "for i in range(10):\n",
    "    \n",
    "    X_train_tmp, X_val_tmp, y_train_tmp, y_val_tmp = train_test_split(\n",
    "        np.concatenate((X_train, X_train_meta), axis=1), \n",
    "        y_train, \n",
    "        test_size=0.05)\n",
    "    \n",
    "    X_train_tmp, X_train_tmp_meta = X_train_tmp[:,:100], X_train_tmp[:,100:]\n",
    "    X_val_tmp, X_val_tmp_meta = X_val_tmp[:,:100], X_val_tmp[:,100:]\n",
    "\n",
    "    \n",
    "    model = model_1.get_model(embedding_matrix, maxlen, max_features, embed_size, len(features))\n",
    "    adam = tf.keras.optimizers.Adam(lr=1e-3)\n",
    "    model.compile(loss='mae', optimizer=adam)\n",
    "    \n",
    "    print(\"##################################################\")\n",
    "    print(f'Model 1, iteration {i}')\n",
    "    \n",
    "    callback_earlystop = tf.keras.callbacks.EarlyStopping(patience=5,\n",
    "                                               monitor='val_loss',\n",
    "                                               mode='auto',\n",
    "                                               restore_best_weights=True)\n",
    "    \n",
    "    \n",
    "    model.fit([X_train_tmp, X_train_tmp_meta], y_train_tmp, epochs = 20, batch_size=256,\n",
    "              callbacks=[callback_earlystop], validation_data=([X_val_tmp, X_val_tmp_meta], y_val_tmp))\n",
    "    \n",
    "    y_hat_val = model.predict([X_val, X_val_meta]).astype('float32')\n",
    "    y_hat_val.tofile(f'./results/Model_1_{i}_val_reg')\n",
    "    \n",
    "    y_hat_test = model.predict([X_test, X_test_meta]).astype('float32')\n",
    "    y_hat_test.tofile(f'./results/Model_1_{i}_test_reg')"
   ]
  },
  {
   "cell_type": "code",
   "execution_count": 30,
   "metadata": {},
   "outputs": [],
   "source": [
    "y_val.astype('float32').tofile('./results/y_val_reg')"
   ]
  },
  {
   "cell_type": "code",
   "execution_count": null,
   "metadata": {},
   "outputs": [],
   "source": []
  }
 ],
 "metadata": {
  "kernelspec": {
   "display_name": "Python (ml-nlp)",
   "language": "python",
   "name": "ml-nlp"
  },
  "language_info": {
   "codemirror_mode": {
    "name": "ipython",
    "version": 3
   },
   "file_extension": ".py",
   "mimetype": "text/x-python",
   "name": "python",
   "nbconvert_exporter": "python",
   "pygments_lexer": "ipython3",
   "version": "3.7.7"
  }
 },
 "nbformat": 4,
 "nbformat_minor": 4
}
