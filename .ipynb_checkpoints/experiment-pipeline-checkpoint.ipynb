{
 "cells": [
  {
   "cell_type": "code",
   "execution_count": 1,
   "metadata": {},
   "outputs": [],
   "source": [
    "from gensim.models import KeyedVectors"
   ]
  },
  {
   "cell_type": "code",
   "execution_count": 2,
   "metadata": {},
   "outputs": [],
   "source": [
    "EMBEDDING_FILE = './GoogleNews-vectors-negative300.bin.gz' \n",
    "word2vec = KeyedVectors.load_word2vec_format(EMBEDDING_FILE, binary=True)"
   ]
  },
  {
   "cell_type": "code",
   "execution_count": 3,
   "metadata": {},
   "outputs": [
    {
     "name": "stderr",
     "output_type": "stream",
     "text": [
      "/home/krzysztof/.conda/envs/ml-nlp/lib/python3.7/site-packages/tqdm/std.py:668: FutureWarning: The Panel class is removed from pandas. Accessing it from the top-level namespace will also be removed in the next version\n",
      "  from pandas import Panel\n"
     ]
    }
   ],
   "source": [
    "import pandas as pd\n",
    "import numpy as np \n",
    "import os\n",
    "\n",
    "from tqdm import tqdm\n",
    "tqdm.pandas()"
   ]
  },
  {
   "cell_type": "code",
   "execution_count": 4,
   "metadata": {},
   "outputs": [],
   "source": [
    "train = pd.read_csv('./data/Train.csv', sep=';')\n",
    "test = pd.read_csv('./data/TestX.csv', sep=';')\n",
    "\n",
    "train.opinion = train.opinion.apply(lambda x: x.replace(\"&#039;\", \"'\"))\n",
    "test.opinion = test.opinion.apply(lambda x: x.replace(\"&#039;\", \"'\"))"
   ]
  },
  {
   "cell_type": "code",
   "execution_count": 5,
   "metadata": {},
   "outputs": [],
   "source": [
    "train = train.drop_duplicates('opinion').reset_index(drop=True)"
   ]
  },
  {
   "cell_type": "code",
   "execution_count": 6,
   "metadata": {},
   "outputs": [],
   "source": [
    "embed_size = 300 # how big is each word vector\n",
    "max_features = 30000 # how many unique words to use (i.e num rows in embedding vector)\n",
    "maxlen = 100 # max number of words in a question to use"
   ]
  },
  {
   "cell_type": "code",
   "execution_count": 7,
   "metadata": {},
   "outputs": [],
   "source": [
    "train['opinion_length'] = train.opinion.apply(lambda x: len(x))\n",
    "train['capital_counts'] = train.opinion.apply(lambda x: sum(1 for c in x if c.isupper()))\n",
    "train['special_counts'] = train.opinion.apply(lambda x: sum(1 for c in x if c in '?!.,\"#$%\\'()*+-/:;<=>@[\\\\]^_`{|}~'))\n",
    "train['word_count'] = train.opinion.apply(lambda x: len(str(x).split()))\n",
    "train['unique_word_count'] = train.opinion.apply(lambda x: len(set(str(x).split())))\n",
    "train['mean_word_length'] = train.opinion.apply(lambda x: np.mean([len(w) for w in str(x).split()]))\n",
    "train['name_count'] = train.opinion.apply(lambda x: sum(1 for c in x.split() if c[0].isupper()))\n",
    "\n",
    "test['opinion_length'] = test.opinion.apply(lambda x: len(x))\n",
    "test['capital_counts'] = test.opinion.apply(lambda x: sum(1 for c in x if c.isupper()))\n",
    "test['special_counts'] = test.opinion.apply(lambda x: sum(1 for c in x if c in '?!.,\"#$%\\'()*+-/:;<=>@[\\\\]^_`{|}~'))\n",
    "test['word_count'] = test.opinion.apply(lambda x: len(str(x).split()))\n",
    "test['unique_word_count'] = test.opinion.apply(lambda x: len(set(str(x).split())))\n",
    "test['mean_word_length'] = test.opinion.apply(lambda x: np.mean([len(w) for w in str(x).split()]))\n",
    "test['name_count'] = test.opinion.apply(lambda x: sum(1 for c in x.split() if c[0].isupper()))\n",
    "\n",
    "meta_features = ['opinion_length', 'capital_counts', 'special_counts', 'word_count', 'unique_word_count', 'mean_word_length', 'name_count']\n",
    "\n",
    "for feature in meta_features:\n",
    "    train[feature] = train[feature] / train[feature].max()\n",
    "    test[feature] = test[feature] / train[feature].max()\n",
    "\n",
    "condition_features = list(train.condition.value_counts().index)[:60]\n",
    "for condition_feature in condition_features:\n",
    "    train['condition_' + condition_feature] = (train.condition == condition_feature).astype(int)\n",
    "    test['condition_' + condition_feature] = (test.condition == condition_feature).astype(int)"
   ]
  },
  {
   "cell_type": "code",
   "execution_count": 8,
   "metadata": {},
   "outputs": [],
   "source": [
    "import operator \n",
    "import re\n",
    "\n",
    "\n",
    "def check_coverage(vocab,embeddings_index):\n",
    "    a = {}\n",
    "    oov = {}\n",
    "    k = 0\n",
    "    i = 0\n",
    "    for word in tqdm(vocab):\n",
    "        try:\n",
    "            a[word] = embeddings_index[word]\n",
    "            k += vocab[word]\n",
    "        except:\n",
    "\n",
    "            oov[word] = vocab[word]\n",
    "            i += vocab[word]\n",
    "            pass\n",
    "\n",
    "    print('Found embeddings for {:.2%} of vocab'.format(len(a) / len(vocab)))\n",
    "    print('Found embeddings for  {:.2%} of all text'.format(k / (k + i)))\n",
    "    sorted_x = sorted(oov.items(), key=operator.itemgetter(1))[::-1]\n",
    "\n",
    "    return sorted_x\n",
    "\n",
    "\n",
    "def build_vocab(sentences, verbose =  True):\n",
    "    \"\"\"\n",
    "    :param sentences: list of list of words\n",
    "    :return: dictionary of words and their count\n",
    "    \"\"\"\n",
    "    vocab = {}\n",
    "    for sentence in tqdm(sentences, disable = (not verbose)):\n",
    "        for word in sentence:\n",
    "            try:\n",
    "                vocab[word] += 1\n",
    "            except KeyError:\n",
    "                vocab[word] = 1\n",
    "    return vocab\n",
    "\n",
    "\n",
    "def clean_text(x):\n",
    "    x = str(x)\n",
    "    for punct in \"/-'\":\n",
    "        x = x.replace(punct, ' ')\n",
    "    for punct in '&':\n",
    "        x = x.replace(punct, f' {punct} ')\n",
    "    for punct in '?!.,\"#$%\\'()*+-/:;<=>@[\\\\]^_`{|}~' + '“”’':\n",
    "        x = x.replace(punct, '')\n",
    "    return x\n",
    "\n",
    "\n",
    "\n",
    "def clean_numbers(x):\n",
    "\n",
    "    x = re.sub('[0-9]{5,}', '#####', x)\n",
    "    x = re.sub('[0-9]{4}', '####', x)\n",
    "    x = re.sub('[0-9]{3}', '###', x)\n",
    "    x = re.sub('[0-9]{2}', '##', x)\n",
    "    return x\n",
    "\n",
    "\n",
    "def _get_mispell(mispell_dict):\n",
    "    mispell_re = re.compile('(%s)' % '|'.join(mispell_dict.keys()))\n",
    "    return mispell_dict, mispell_re\n",
    "\n",
    "\n",
    "mispell_dict = {'colour':'color',\n",
    "                'centre':'center',\n",
    "                'didnt':'did not',\n",
    "                'doesnt':'does not',\n",
    "                'isnt':'is not',\n",
    "                'shouldnt':'should not',\n",
    "                'favourite':'favorite',\n",
    "                'travelling':'traveling',\n",
    "                'counselling':'counseling',\n",
    "                'theatre':'theater',\n",
    "                'cancelled':'canceled',\n",
    "                'labour':'labor',\n",
    "                'organisation':'organization',\n",
    "                'wwii':'world war 2',\n",
    "                'citicise':'criticize',\n",
    "                'instagram': 'social medium',\n",
    "                'whatsapp': 'social medium',\n",
    "                'snapchat': 'social medium'}\n",
    "mispellings, mispellings_re = _get_mispell(mispell_dict)\n",
    "\n",
    "\n",
    "def replace_typical_misspell(text):\n",
    "    def replace(match):\n",
    "        return mispellings[match.group(0)]\n",
    "\n",
    "    return mispellings_re.sub(replace, text)"
   ]
  },
  {
   "cell_type": "code",
   "execution_count": 9,
   "metadata": {},
   "outputs": [
    {
     "name": "stderr",
     "output_type": "stream",
     "text": [
      "100%|██████████| 107590/107590 [00:00<00:00, 130664.58it/s]\n",
      "100%|██████████| 107590/107590 [00:01<00:00, 66278.84it/s]\n"
     ]
    }
   ],
   "source": [
    "sentences = train[\"opinion\"].progress_apply(lambda x: x.split()).values\n",
    "vocab = build_vocab(sentences)"
   ]
  },
  {
   "cell_type": "code",
   "execution_count": 10,
   "metadata": {},
   "outputs": [
    {
     "name": "stderr",
     "output_type": "stream",
     "text": [
      "100%|██████████| 188722/188722 [00:00<00:00, 480388.02it/s]\n"
     ]
    },
    {
     "name": "stdout",
     "output_type": "stream",
     "text": [
      "Found embeddings for 20.39% of vocab\n",
      "Found embeddings for  77.62% of all text\n"
     ]
    }
   ],
   "source": [
    "oov = check_coverage(vocab, word2vec)"
   ]
  },
  {
   "cell_type": "code",
   "execution_count": 11,
   "metadata": {},
   "outputs": [],
   "source": [
    "train['opinion'] = train['opinion'].str.replace('\"', '')\n",
    "train['opinion'] = train['opinion'].str.replace(',', '')\n",
    "train['opinion'] = train['opinion'].str.replace('.', '')\n",
    "train['opinion'] = train['opinion'].str.replace('!', '')\n",
    "train['opinion'] = train['opinion'].str.replace(':', '')\n",
    "train['opinion'] = train['opinion'].str.replace('&#039;ve', ' have')\n",
    "train['opinion'] = train['opinion'].str.replace('&#039;s', ' is')\n",
    "train['opinion'] = train['opinion'].str.replace('&#039;t', ' not')\n",
    "train['opinion'] = train['opinion'].str.replace('&#039;m', ' am')\n",
    "train['opinion'] = train['opinion'].str.replace('&#039;ll', '')\n",
    "train['opinion'] = train['opinion'].str.replace('rsquot', '')\n",
    "train['opinion'] = train['opinion'].str.replace('rsquom', '')\n",
    "train['opinion'] = train['opinion'].str.replace('rsquos', '')\n",
    "\n",
    "train = train.drop_duplicates('opinion').reset_index()"
   ]
  },
  {
   "cell_type": "code",
   "execution_count": 12,
   "metadata": {},
   "outputs": [],
   "source": [
    "test['opinion'] = test['opinion'].str.replace('\"', '')\n",
    "test['opinion'] = test['opinion'].str.replace(',', '')\n",
    "test['opinion'] = test['opinion'].str.replace('.', '')\n",
    "test['opinion'] = test['opinion'].str.replace('!', '')\n",
    "test['opinion'] = test['opinion'].str.replace(':', '')\n",
    "test['opinion'] = test['opinion'].str.replace('&#039;ve', ' have')\n",
    "test['opinion'] = test['opinion'].str.replace('&#039;s', ' is')\n",
    "test['opinion'] = test['opinion'].str.replace('&#039;t', ' not')\n",
    "test['opinion'] = test['opinion'].str.replace('&#039;m', ' am')\n",
    "test['opinion'] = test['opinion'].str.replace('&#039;ll', '')\n",
    "test['opinion'] = test['opinion'].str.replace('rsquot', '')\n",
    "test['opinion'] = test['opinion'].str.replace('rsquom', '')\n",
    "test['opinion'] = test['opinion'].str.replace('rsquos', '')\n",
    "\n",
    "test = test.drop_duplicates('opinion').reset_index()"
   ]
  },
  {
   "cell_type": "code",
   "execution_count": 13,
   "metadata": {},
   "outputs": [
    {
     "name": "stderr",
     "output_type": "stream",
     "text": [
      "100%|██████████| 107518/107518 [00:01<00:00, 106299.70it/s]\n",
      "100%|██████████| 107518/107518 [00:03<00:00, 28844.68it/s]\n",
      "100%|██████████| 107518/107518 [00:01<00:00, 75844.27it/s]\n"
     ]
    }
   ],
   "source": [
    "train[\"opinion\"] = train[\"opinion\"].progress_apply(lambda x: clean_text(x))\n",
    "train[\"opinion\"] = train[\"opinion\"].progress_apply(lambda x: clean_numbers(x))\n",
    "train[\"opinion\"] = train[\"opinion\"].progress_apply(lambda x: replace_typical_misspell(x))"
   ]
  },
  {
   "cell_type": "code",
   "execution_count": 14,
   "metadata": {},
   "outputs": [
    {
     "name": "stderr",
     "output_type": "stream",
     "text": [
      "100%|██████████| 45233/45233 [00:00<00:00, 102545.82it/s]\n",
      "100%|██████████| 45233/45233 [00:01<00:00, 29716.61it/s]\n",
      "100%|██████████| 45233/45233 [00:00<00:00, 73836.26it/s]\n"
     ]
    }
   ],
   "source": [
    "test[\"opinion\"] = test[\"opinion\"].progress_apply(lambda x: clean_text(x))\n",
    "test[\"opinion\"] = test[\"opinion\"].progress_apply(lambda x: clean_numbers(x))\n",
    "test[\"opinion\"] = test[\"opinion\"].progress_apply(lambda x: replace_typical_misspell(x))"
   ]
  },
  {
   "cell_type": "code",
   "execution_count": 15,
   "metadata": {},
   "outputs": [
    {
     "name": "stderr",
     "output_type": "stream",
     "text": [
      "100%|██████████| 107518/107518 [00:01<00:00, 69437.36it/s]\n",
      "100%|██████████| 107518/107518 [00:01<00:00, 105638.06it/s]\n",
      "100%|██████████| 107518/107518 [00:01<00:00, 83853.68it/s]\n"
     ]
    }
   ],
   "source": [
    "sentences = train[\"opinion\"].progress_apply(lambda x: x.split())\n",
    "to_remove = ['a','to','of','and']\n",
    "sentences = [[word for word in sentence if not word in to_remove] for sentence in tqdm(sentences)]\n",
    "vocab = build_vocab(sentences)"
   ]
  },
  {
   "cell_type": "code",
   "execution_count": 16,
   "metadata": {},
   "outputs": [
    {
     "name": "stderr",
     "output_type": "stream",
     "text": [
      "100%|██████████| 74690/74690 [00:00<00:00, 485588.50it/s]"
     ]
    },
    {
     "name": "stdout",
     "output_type": "stream",
     "text": [
      "Found embeddings for 57.90% of vocab\n",
      "Found embeddings for  99.12% of all text\n"
     ]
    },
    {
     "name": "stderr",
     "output_type": "stream",
     "text": [
      "\n"
     ]
    }
   ],
   "source": [
    "oov = check_coverage(vocab,word2vec)"
   ]
  },
  {
   "cell_type": "code",
   "execution_count": 17,
   "metadata": {
    "scrolled": true
   },
   "outputs": [
    {
     "data": {
      "text/plain": [
       "[('Nexplanon', 1254),\n",
       " ('Sprintec', 824),\n",
       " ('nexplanon', 744),\n",
       " ('rsquot', 673),\n",
       " ('Belviq', 585),\n",
       " ('mirena', 445),\n",
       " ('rsquom', 442),\n",
       " ('skyla', 399),\n",
       " ('rsquos', 382),\n",
       " ('implanon', 366)]"
      ]
     },
     "execution_count": 17,
     "metadata": {},
     "output_type": "execute_result"
    }
   ],
   "source": [
    "oov[:10]"
   ]
  },
  {
   "cell_type": "code",
   "execution_count": 18,
   "metadata": {},
   "outputs": [],
   "source": [
    "top_oov = [i for i, j in oov[:40]]"
   ]
  },
  {
   "cell_type": "code",
   "execution_count": 19,
   "metadata": {},
   "outputs": [],
   "source": [
    "for oov_word in top_oov:\n",
    "    train['oov_' + oov_word] = train.opinion.apply(lambda x: oov_word in x)\n",
    "    test['oov_' + oov_word] = test.opinion.apply(lambda x: oov_word in x)"
   ]
  },
  {
   "cell_type": "code",
   "execution_count": 20,
   "metadata": {},
   "outputs": [],
   "source": [
    "features = meta_features + ['condition_' + i for i in condition_features] + ['oov_' + i for i in top_oov]"
   ]
  },
  {
   "cell_type": "code",
   "execution_count": 21,
   "metadata": {},
   "outputs": [],
   "source": [
    "from sklearn.model_selection import train_test_split\n",
    "\n",
    "train_df, val_df = train_test_split(train, test_size=0.08, random_state=42)\n",
    "\n",
    "X_train_meta = np.array(train_df.loc[:, features]).astype(np.float32)\n",
    "X_val_meta = np.array(val_df.loc[:, features]).astype(np.float32)\n",
    "X_test_meta = np.array(test.loc[:, features]).astype(np.float32)\n",
    "\n",
    "X_train = train_df.opinion.values\n",
    "X_val = val_df.opinion.values\n",
    "X_test = test.opinion.values"
   ]
  },
  {
   "cell_type": "code",
   "execution_count": 22,
   "metadata": {},
   "outputs": [],
   "source": [
    "from tensorflow.keras.preprocessing.text import Tokenizer\n",
    "\n",
    "tokenizer = Tokenizer(num_words = max_features)"
   ]
  },
  {
   "cell_type": "code",
   "execution_count": 23,
   "metadata": {},
   "outputs": [],
   "source": [
    "tokenizer.fit_on_texts(list(X_train))\n",
    "\n",
    "X_train = tokenizer.texts_to_sequences(X_train)\n",
    "X_val = tokenizer.texts_to_sequences(X_val)\n",
    "X_test = tokenizer.texts_to_sequences(X_test)"
   ]
  },
  {
   "cell_type": "code",
   "execution_count": 24,
   "metadata": {},
   "outputs": [],
   "source": [
    "from tensorflow.keras.preprocessing.sequence import pad_sequences\n",
    "\n",
    "X_train = pad_sequences(X_train, maxlen=maxlen)\n",
    "X_val = pad_sequences(X_val, maxlen=maxlen)\n",
    "X_test = pad_sequences(X_test, maxlen=maxlen)"
   ]
  },
  {
   "cell_type": "code",
   "execution_count": 25,
   "metadata": {},
   "outputs": [],
   "source": [
    "y_train = train_df['rate'].values\n",
    "y_val = val_df['rate'].values"
   ]
  },
  {
   "cell_type": "code",
   "execution_count": 26,
   "metadata": {},
   "outputs": [],
   "source": [
    "from tensorflow.keras.layers import Dense, Dropout, GlobalMaxPool1D, Bidirectional, LSTM, Embedding, Input, Concatenate, Flatten\n",
    "from tensorflow.keras.models import Model\n",
    "import tensorflow as tf\n",
    "from tensorflow.keras import backend as K"
   ]
  },
  {
   "cell_type": "code",
   "execution_count": 27,
   "metadata": {},
   "outputs": [],
   "source": [
    "# create a weight matrix for words in training docs\n",
    "embedding_matrix = np.zeros((max_features, embed_size))\n",
    "for word, i in tokenizer.word_index.items():\n",
    "    try:\n",
    "        embedding_vector = word2vec.get_vector(word)\n",
    "        if embedding_vector is not None:\n",
    "            embedding_matrix[i] = embedding_vector\n",
    "            embedding_vector = None\n",
    "    except:\n",
    "        pass\n"
   ]
  },
  {
   "cell_type": "code",
   "execution_count": 28,
   "metadata": {},
   "outputs": [],
   "source": [
    "from lstm_models import model_1"
   ]
  },
  {
   "cell_type": "code",
   "execution_count": null,
   "metadata": {},
   "outputs": [],
   "source": []
  },
  {
   "cell_type": "code",
   "execution_count": 36,
   "metadata": {},
   "outputs": [
    {
     "name": "stdout",
     "output_type": "stream",
     "text": [
      "##################################################\n",
      "Model 1, iteration 0\n",
      "Train on 93970 samples, validate on 4946 samples\n",
      "Epoch 1/20\n",
      "93970/93970 [==============================] - 29s 311us/sample - loss: 2.4165 - val_loss: 2.0538\n",
      "Epoch 2/20\n",
      "93970/93970 [==============================] - 28s 295us/sample - loss: 1.8089 - val_loss: 1.7925\n",
      "Epoch 3/20\n",
      "93970/93970 [==============================] - 27s 284us/sample - loss: 1.5959 - val_loss: 1.6340\n",
      "Epoch 4/20\n",
      "93970/93970 [==============================] - 27s 284us/sample - loss: 1.4787 - val_loss: 1.5706\n",
      "Epoch 5/20\n",
      "93970/93970 [==============================] - 28s 298us/sample - loss: 1.3990 - val_loss: 1.5242\n",
      "Epoch 6/20\n",
      "93970/93970 [==============================] - 26s 279us/sample - loss: 1.3296 - val_loss: 1.5250\n",
      "Epoch 7/20\n",
      "93970/93970 [==============================] - 27s 292us/sample - loss: 1.2795 - val_loss: 1.5382\n",
      "Epoch 8/20\n",
      "93970/93970 [==============================] - 28s 296us/sample - loss: 1.2201 - val_loss: 1.4790\n",
      "Epoch 9/20\n",
      "93970/93970 [==============================] - 27s 285us/sample - loss: 1.1777 - val_loss: 1.5635\n",
      "Epoch 10/20\n",
      "93970/93970 [==============================] - 28s 299us/sample - loss: 1.1312 - val_loss: 1.4544\n",
      "Epoch 11/20\n",
      "93970/93970 [==============================] - 27s 285us/sample - loss: 1.0762 - val_loss: 1.4365\n",
      "Epoch 12/20\n",
      "93970/93970 [==============================] - 27s 284us/sample - loss: 1.0436 - val_loss: 1.4432\n",
      "Epoch 13/20\n",
      "93970/93970 [==============================] - 27s 284us/sample - loss: 1.0067 - val_loss: 1.4809\n",
      "Epoch 14/20\n",
      "93970/93970 [==============================] - 28s 298us/sample - loss: 0.9683 - val_loss: 1.5358\n",
      "Epoch 15/20\n",
      "93970/93970 [==============================] - 28s 300us/sample - loss: 0.9310 - val_loss: 1.4494\n",
      "Epoch 16/20\n",
      "93970/93970 [==============================] - 28s 296us/sample - loss: 0.9043 - val_loss: 1.4547\n",
      "##################################################\n",
      "Model 1, iteration 1\n",
      "Train on 93970 samples, validate on 4946 samples\n",
      "Epoch 1/20\n",
      "93970/93970 [==============================] - 31s 335us/sample - loss: 2.5422 - val_loss: 2.2434\n",
      "Epoch 2/20\n",
      "93970/93970 [==============================] - 28s 302us/sample - loss: 1.9317 - val_loss: 1.7549\n",
      "Epoch 3/20\n",
      "93970/93970 [==============================] - 27s 291us/sample - loss: 1.6765 - val_loss: 1.6300\n",
      "Epoch 4/20\n",
      "93970/93970 [==============================] - 27s 290us/sample - loss: 1.5360 - val_loss: 1.5183\n",
      "Epoch 5/20\n",
      "93970/93970 [==============================] - 26s 277us/sample - loss: 1.4484 - val_loss: 1.4474\n",
      "Epoch 6/20\n",
      "93970/93970 [==============================] - 26s 278us/sample - loss: 1.3773 - val_loss: 1.4274\n",
      "Epoch 7/20\n",
      "93970/93970 [==============================] - 27s 285us/sample - loss: 1.3209 - val_loss: 1.4343\n",
      "Epoch 8/20\n",
      "93970/93970 [==============================] - 26s 277us/sample - loss: 1.2663 - val_loss: 1.3828\n",
      "Epoch 9/20\n",
      "93970/93970 [==============================] - 29s 313us/sample - loss: 1.2204 - val_loss: 1.3573\n",
      "Epoch 10/20\n",
      "93970/93970 [==============================] - 29s 310us/sample - loss: 1.1765 - val_loss: 1.4275\n",
      "Epoch 11/20\n",
      "93970/93970 [==============================] - 30s 316us/sample - loss: 1.1320 - val_loss: 1.4376\n",
      "Epoch 12/20\n",
      "93970/93970 [==============================] - 30s 315us/sample - loss: 1.0832 - val_loss: 1.3526\n",
      "Epoch 13/20\n",
      "93970/93970 [==============================] - 28s 296us/sample - loss: 1.0425 - val_loss: 1.3788\n",
      "Epoch 14/20\n",
      "93970/93970 [==============================] - 27s 289us/sample - loss: 1.0076 - val_loss: 1.3913\n",
      "Epoch 15/20\n",
      "93970/93970 [==============================] - 28s 298us/sample - loss: 0.9745 - val_loss: 1.3869\n",
      "Epoch 16/20\n",
      "93970/93970 [==============================] - 29s 309us/sample - loss: 0.9449 - val_loss: 1.3730\n",
      "Epoch 17/20\n",
      "93970/93970 [==============================] - 29s 310us/sample - loss: 0.9122 - val_loss: 1.3858\n",
      "##################################################\n",
      "Model 1, iteration 2\n",
      "Train on 93970 samples, validate on 4946 samples\n",
      "Epoch 1/20\n",
      "93970/93970 [==============================] - 31s 331us/sample - loss: 2.4486 - val_loss: 1.9520\n",
      "Epoch 2/20\n",
      "93970/93970 [==============================] - 29s 306us/sample - loss: 1.8150 - val_loss: 1.6791\n",
      "Epoch 3/20\n",
      "93970/93970 [==============================] - 27s 289us/sample - loss: 1.6086 - val_loss: 1.5448\n",
      "Epoch 4/20\n",
      "93970/93970 [==============================] - 28s 296us/sample - loss: 1.4976 - val_loss: 1.4937\n",
      "Epoch 5/20\n",
      "93970/93970 [==============================] - 29s 305us/sample - loss: 1.4190 - val_loss: 1.4990\n",
      "Epoch 6/20\n",
      "93970/93970 [==============================] - 27s 285us/sample - loss: 1.3605 - val_loss: 1.4230\n",
      "Epoch 7/20\n",
      "93970/93970 [==============================] - 27s 283us/sample - loss: 1.3107 - val_loss: 1.4519\n",
      "Epoch 8/20\n",
      "93970/93970 [==============================] - 26s 281us/sample - loss: 1.2599 - val_loss: 1.4456\n",
      "Epoch 9/20\n",
      "93970/93970 [==============================] - 29s 305us/sample - loss: 1.2184 - val_loss: 1.4004\n",
      "Epoch 10/20\n",
      "93970/93970 [==============================] - 29s 308us/sample - loss: 1.1780 - val_loss: 1.4209\n",
      "Epoch 11/20\n",
      "93970/93970 [==============================] - 27s 289us/sample - loss: 1.1371 - val_loss: 1.4225\n",
      "Epoch 12/20\n",
      "93970/93970 [==============================] - 28s 295us/sample - loss: 1.0949 - val_loss: 1.4176\n",
      "Epoch 13/20\n",
      "93970/93970 [==============================] - 27s 285us/sample - loss: 1.0592 - val_loss: 1.4027\n",
      "Epoch 14/20\n",
      "93970/93970 [==============================] - 26s 281us/sample - loss: 1.0271 - val_loss: 1.4149\n",
      "##################################################\n",
      "Model 1, iteration 3\n",
      "Train on 93970 samples, validate on 4946 samples\n",
      "Epoch 1/20\n",
      "93970/93970 [==============================] - 28s 296us/sample - loss: 2.5335 - val_loss: 2.0392\n",
      "Epoch 2/20\n",
      "93970/93970 [==============================] - 26s 279us/sample - loss: 1.8817 - val_loss: 1.7747\n",
      "Epoch 3/20\n",
      "93970/93970 [==============================] - 27s 284us/sample - loss: 1.6397 - val_loss: 1.6601\n",
      "Epoch 4/20\n",
      "93970/93970 [==============================] - 27s 285us/sample - loss: 1.5253 - val_loss: 1.7470\n",
      "Epoch 5/20\n",
      "93970/93970 [==============================] - 26s 281us/sample - loss: 1.4590 - val_loss: 1.6037\n",
      "Epoch 6/20\n",
      "93970/93970 [==============================] - 27s 285us/sample - loss: 1.3932 - val_loss: 1.5752\n",
      "Epoch 7/20\n",
      "93970/93970 [==============================] - 27s 285us/sample - loss: 1.3386 - val_loss: 1.4545\n",
      "Epoch 8/20\n",
      "93970/93970 [==============================] - 25s 262us/sample - loss: 1.2946 - val_loss: 1.4484\n",
      "Epoch 9/20\n",
      "93970/93970 [==============================] - 26s 272us/sample - loss: 1.2519 - val_loss: 1.4284\n",
      "Epoch 10/20\n",
      "93970/93970 [==============================] - 25s 261us/sample - loss: 1.2100 - val_loss: 1.4531\n",
      "Epoch 11/20\n",
      "93970/93970 [==============================] - 25s 262us/sample - loss: 1.1672 - val_loss: 1.5053\n",
      "Epoch 12/20\n",
      "93970/93970 [==============================] - 25s 268us/sample - loss: 1.1428 - val_loss: 1.4648\n",
      "Epoch 13/20\n",
      "93970/93970 [==============================] - 27s 286us/sample - loss: 1.1043 - val_loss: 1.4213\n",
      "Epoch 14/20\n",
      "93970/93970 [==============================] - 26s 276us/sample - loss: 1.0672 - val_loss: 1.4319\n",
      "Epoch 15/20\n",
      "93970/93970 [==============================] - 25s 263us/sample - loss: 1.0365 - val_loss: 1.4293\n",
      "Epoch 16/20\n",
      "93970/93970 [==============================] - 25s 270us/sample - loss: 1.0014 - val_loss: 1.4440\n",
      "Epoch 17/20\n",
      "93970/93970 [==============================] - 25s 269us/sample - loss: 0.9745 - val_loss: 1.4499\n",
      "Epoch 18/20\n",
      "93970/93970 [==============================] - 25s 268us/sample - loss: 0.9474 - val_loss: 1.4564\n",
      "##################################################\n",
      "Model 1, iteration 4\n",
      "Train on 93970 samples, validate on 4946 samples\n",
      "Epoch 1/20\n",
      "93970/93970 [==============================] - 28s 303us/sample - loss: 2.4967 - val_loss: 2.0812\n",
      "Epoch 2/20\n",
      "93970/93970 [==============================] - 25s 268us/sample - loss: 1.8868 - val_loss: 1.7745\n",
      "Epoch 3/20\n",
      "93970/93970 [==============================] - 25s 266us/sample - loss: 1.6516 - val_loss: 1.9938\n",
      "Epoch 4/20\n",
      "93970/93970 [==============================] - 25s 267us/sample - loss: 1.5236 - val_loss: 1.5146\n",
      "Epoch 5/20\n"
     ]
    },
    {
     "name": "stdout",
     "output_type": "stream",
     "text": [
      "93970/93970 [==============================] - 25s 267us/sample - loss: 1.4431 - val_loss: 1.4563\n",
      "Epoch 6/20\n",
      "93970/93970 [==============================] - 25s 265us/sample - loss: 1.3651 - val_loss: 1.4604\n",
      "Epoch 7/20\n",
      "93970/93970 [==============================] - 26s 272us/sample - loss: 1.3154 - val_loss: 1.4326\n",
      "Epoch 8/20\n",
      "93970/93970 [==============================] - 26s 278us/sample - loss: 1.2630 - val_loss: 1.4936\n",
      "Epoch 9/20\n",
      "93970/93970 [==============================] - 26s 276us/sample - loss: 1.2178 - val_loss: 1.5508\n",
      "Epoch 10/20\n",
      "93970/93970 [==============================] - 25s 269us/sample - loss: 1.1789 - val_loss: 1.4158\n",
      "Epoch 11/20\n",
      "93970/93970 [==============================] - 26s 278us/sample - loss: 1.1378 - val_loss: 1.4702\n",
      "Epoch 12/20\n",
      "93970/93970 [==============================] - 26s 281us/sample - loss: 1.1058 - val_loss: 1.5025\n",
      "Epoch 13/20\n",
      "93970/93970 [==============================] - 28s 301us/sample - loss: 1.0631 - val_loss: 1.4408\n",
      "Epoch 14/20\n",
      "93970/93970 [==============================] - 28s 293us/sample - loss: 1.0336 - val_loss: 1.4114\n",
      "Epoch 15/20\n",
      "93970/93970 [==============================] - 27s 292us/sample - loss: 0.9932 - val_loss: 1.4079\n",
      "Epoch 16/20\n",
      "93970/93970 [==============================] - 27s 293us/sample - loss: 0.9842 - val_loss: 1.5298\n",
      "Epoch 17/20\n",
      "93970/93970 [==============================] - 28s 293us/sample - loss: 0.9558 - val_loss: 1.6574\n",
      "Epoch 18/20\n",
      "93970/93970 [==============================] - 28s 294us/sample - loss: 0.9262 - val_loss: 1.4659\n",
      "Epoch 19/20\n",
      "93970/93970 [==============================] - 28s 293us/sample - loss: 0.8980 - val_loss: 1.4164\n",
      "Epoch 20/20\n",
      "93970/93970 [==============================] - 27s 292us/sample - loss: 0.8732 - val_loss: 1.4214\n",
      "##################################################\n",
      "Model 1, iteration 5\n",
      "Train on 93970 samples, validate on 4946 samples\n",
      "Epoch 1/20\n",
      "93970/93970 [==============================] - 29s 312us/sample - loss: 2.5332 - val_loss: 2.1099\n",
      "Epoch 2/20\n",
      "93970/93970 [==============================] - 27s 292us/sample - loss: 1.8721 - val_loss: 1.7207\n",
      "Epoch 3/20\n",
      "93970/93970 [==============================] - 27s 291us/sample - loss: 1.6586 - val_loss: 1.6156\n",
      "Epoch 4/20\n",
      "93970/93970 [==============================] - 27s 292us/sample - loss: 1.5484 - val_loss: 1.6275\n",
      "Epoch 5/20\n",
      "93970/93970 [==============================] - 28s 293us/sample - loss: 1.4797 - val_loss: 1.5242\n",
      "Epoch 6/20\n",
      "93970/93970 [==============================] - 28s 293us/sample - loss: 1.4083 - val_loss: 1.4893\n",
      "Epoch 7/20\n",
      "93970/93970 [==============================] - 28s 293us/sample - loss: 1.3580 - val_loss: 1.4606\n",
      "Epoch 8/20\n",
      "93970/93970 [==============================] - 27s 292us/sample - loss: 1.3178 - val_loss: 1.4550\n",
      "Epoch 9/20\n",
      "93970/93970 [==============================] - 27s 292us/sample - loss: 1.2619 - val_loss: 1.4836\n",
      "Epoch 10/20\n",
      "93970/93970 [==============================] - 28s 294us/sample - loss: 1.2203 - val_loss: 1.4374\n",
      "Epoch 11/20\n",
      "93970/93970 [==============================] - 28s 294us/sample - loss: 1.1721 - val_loss: 1.4052\n",
      "Epoch 12/20\n",
      "93970/93970 [==============================] - 26s 276us/sample - loss: 1.1372 - val_loss: 1.4423\n",
      "Epoch 13/20\n",
      "93970/93970 [==============================] - 26s 273us/sample - loss: 1.0892 - val_loss: 1.4258\n",
      "Epoch 14/20\n",
      "93970/93970 [==============================] - 27s 286us/sample - loss: 1.0468 - val_loss: 1.4772\n",
      "Epoch 15/20\n",
      "93970/93970 [==============================] - 27s 290us/sample - loss: 1.0156 - val_loss: 1.5021\n",
      "Epoch 16/20\n",
      "93970/93970 [==============================] - 28s 298us/sample - loss: 0.9860 - val_loss: 1.4516\n",
      "##################################################\n",
      "Model 1, iteration 6\n",
      "Train on 93970 samples, validate on 4946 samples\n",
      "Epoch 1/20\n",
      "93970/93970 [==============================] - 28s 302us/sample - loss: 2.5879 - val_loss: 2.1354\n",
      "Epoch 2/20\n",
      "93970/93970 [==============================] - 24s 260us/sample - loss: 1.9040 - val_loss: 1.7725\n",
      "Epoch 3/20\n",
      "93970/93970 [==============================] - 25s 269us/sample - loss: 1.6392 - val_loss: 1.5937\n",
      "Epoch 4/20\n",
      "93970/93970 [==============================] - 25s 262us/sample - loss: 1.5289 - val_loss: 1.5964\n",
      "Epoch 5/20\n",
      "93970/93970 [==============================] - 25s 263us/sample - loss: 1.4384 - val_loss: 1.5231\n",
      "Epoch 6/20\n",
      "93970/93970 [==============================] - 26s 272us/sample - loss: 1.3857 - val_loss: 1.4921\n",
      "Epoch 7/20\n",
      "93970/93970 [==============================] - 26s 274us/sample - loss: 1.3241 - val_loss: 1.4440\n",
      "Epoch 8/20\n",
      "93970/93970 [==============================] - 26s 274us/sample - loss: 1.2828 - val_loss: 1.4162\n",
      "Epoch 9/20\n",
      "93970/93970 [==============================] - 26s 274us/sample - loss: 1.2214 - val_loss: 1.4077\n",
      "Epoch 10/20\n",
      "93970/93970 [==============================] - 26s 276us/sample - loss: 1.1793 - val_loss: 1.4010\n",
      "Epoch 11/20\n",
      "93970/93970 [==============================] - 26s 274us/sample - loss: 1.1376 - val_loss: 1.4332\n",
      "Epoch 12/20\n",
      "93970/93970 [==============================] - 26s 274us/sample - loss: 1.1012 - val_loss: 1.3915\n",
      "Epoch 13/20\n",
      "93970/93970 [==============================] - 26s 273us/sample - loss: 1.0597 - val_loss: 1.4509\n",
      "Epoch 14/20\n",
      "93970/93970 [==============================] - 26s 273us/sample - loss: 1.0326 - val_loss: 1.4323\n",
      "Epoch 15/20\n",
      "93970/93970 [==============================] - 26s 274us/sample - loss: 0.9874 - val_loss: 1.4132\n",
      "Epoch 16/20\n",
      "93970/93970 [==============================] - 26s 273us/sample - loss: 0.9587 - val_loss: 1.4099\n",
      "Epoch 17/20\n",
      "93970/93970 [==============================] - 26s 274us/sample - loss: 0.9333 - val_loss: 1.3996\n",
      "##################################################\n",
      "Model 1, iteration 7\n",
      "Train on 93970 samples, validate on 4946 samples\n",
      "Epoch 1/20\n",
      "93970/93970 [==============================] - 27s 290us/sample - loss: 2.4995 - val_loss: 2.0315\n",
      "Epoch 2/20\n",
      "93970/93970 [==============================] - 26s 272us/sample - loss: 1.8403 - val_loss: 1.7069\n",
      "Epoch 3/20\n",
      "93970/93970 [==============================] - 24s 258us/sample - loss: 1.6262 - val_loss: 1.5951\n",
      "Epoch 4/20\n",
      "93970/93970 [==============================] - 24s 260us/sample - loss: 1.5089 - val_loss: 1.5971\n",
      "Epoch 5/20\n",
      "93970/93970 [==============================] - 25s 269us/sample - loss: 1.4352 - val_loss: 1.5481\n",
      "Epoch 6/20\n",
      "93970/93970 [==============================] - 26s 274us/sample - loss: 1.3768 - val_loss: 1.4714\n",
      "Epoch 7/20\n",
      "93970/93970 [==============================] - 26s 273us/sample - loss: 1.3306 - val_loss: 1.4816\n",
      "Epoch 8/20\n",
      "93970/93970 [==============================] - 26s 274us/sample - loss: 1.2768 - val_loss: 1.4716\n",
      "Epoch 9/20\n",
      "93970/93970 [==============================] - 26s 275us/sample - loss: 1.2360 - val_loss: 1.4337\n",
      "Epoch 10/20\n",
      "93970/93970 [==============================] - 26s 277us/sample - loss: 1.1939 - val_loss: 1.4522\n",
      "Epoch 11/20\n",
      "93970/93970 [==============================] - 25s 268us/sample - loss: 1.1616 - val_loss: 1.4377\n",
      "Epoch 12/20\n",
      "93970/93970 [==============================] - 26s 273us/sample - loss: 1.1257 - val_loss: 1.4398\n",
      "Epoch 13/20\n",
      "93970/93970 [==============================] - 26s 281us/sample - loss: 1.0879 - val_loss: 1.4365\n",
      "Epoch 14/20\n",
      "93970/93970 [==============================] - 26s 281us/sample - loss: 1.0497 - val_loss: 1.4238\n",
      "Epoch 15/20\n",
      "93970/93970 [==============================] - 26s 277us/sample - loss: 1.0233 - val_loss: 1.4409\n",
      "Epoch 16/20\n",
      "93970/93970 [==============================] - 26s 281us/sample - loss: 0.9953 - val_loss: 1.4247\n",
      "Epoch 17/20\n",
      "93970/93970 [==============================] - 26s 275us/sample - loss: 0.9668 - val_loss: 1.4451\n",
      "Epoch 18/20\n",
      "93970/93970 [==============================] - 26s 274us/sample - loss: 0.9421 - val_loss: 1.4556\n",
      "Epoch 19/20\n",
      "93970/93970 [==============================] - 26s 274us/sample - loss: 0.9233 - val_loss: 1.4327\n",
      "##################################################\n",
      "Model 1, iteration 8\n",
      "Train on 93970 samples, validate on 4946 samples\n",
      "Epoch 1/20\n",
      "93970/93970 [==============================] - 27s 290us/sample - loss: 2.5703 - val_loss: 2.1267\n",
      "Epoch 2/20\n",
      "93970/93970 [==============================] - 26s 272us/sample - loss: 1.9565 - val_loss: 1.8164\n",
      "Epoch 3/20\n"
     ]
    },
    {
     "name": "stdout",
     "output_type": "stream",
     "text": [
      "93970/93970 [==============================] - 25s 267us/sample - loss: 1.7118 - val_loss: 1.6917\n",
      "Epoch 4/20\n",
      "93970/93970 [==============================] - 25s 266us/sample - loss: 1.5699 - val_loss: 1.5713\n",
      "Epoch 5/20\n",
      "93970/93970 [==============================] - 25s 266us/sample - loss: 1.4721 - val_loss: 1.5071\n",
      "Epoch 6/20\n",
      "93970/93970 [==============================] - 25s 266us/sample - loss: 1.4035 - val_loss: 1.5134\n",
      "Epoch 7/20\n",
      "93970/93970 [==============================] - 25s 267us/sample - loss: 1.3503 - val_loss: 1.5554\n",
      "Epoch 8/20\n",
      "93970/93970 [==============================] - 25s 267us/sample - loss: 1.2997 - val_loss: 1.4628\n",
      "Epoch 9/20\n",
      "93970/93970 [==============================] - 25s 267us/sample - loss: 1.2557 - val_loss: 1.4501\n",
      "Epoch 10/20\n",
      "93970/93970 [==============================] - 25s 266us/sample - loss: 1.2120 - val_loss: 1.4401\n",
      "Epoch 11/20\n",
      "93970/93970 [==============================] - 25s 266us/sample - loss: 1.1664 - val_loss: 1.4447\n",
      "Epoch 12/20\n",
      "93970/93970 [==============================] - 25s 267us/sample - loss: 1.1281 - val_loss: 1.4981\n",
      "Epoch 13/20\n",
      "93970/93970 [==============================] - 25s 266us/sample - loss: 1.0931 - val_loss: 1.4488\n",
      "Epoch 14/20\n",
      "93970/93970 [==============================] - 25s 266us/sample - loss: 1.0632 - val_loss: 1.4487\n",
      "Epoch 15/20\n",
      "93970/93970 [==============================] - 25s 266us/sample - loss: 1.0224 - val_loss: 1.4565\n",
      "##################################################\n",
      "Model 1, iteration 9\n",
      "Train on 93970 samples, validate on 4946 samples\n",
      "Epoch 1/20\n",
      "93970/93970 [==============================] - 27s 285us/sample - loss: 2.4677 - val_loss: 2.0922\n",
      "Epoch 2/20\n",
      "93970/93970 [==============================] - 25s 267us/sample - loss: 1.8907 - val_loss: 1.7992\n",
      "Epoch 3/20\n",
      "93970/93970 [==============================] - 25s 266us/sample - loss: 1.7084 - val_loss: 1.7039\n",
      "Epoch 4/20\n",
      "93970/93970 [==============================] - 25s 266us/sample - loss: 1.5764 - val_loss: 1.7668\n",
      "Epoch 5/20\n",
      "93970/93970 [==============================] - 25s 267us/sample - loss: 1.4802 - val_loss: 1.5391\n",
      "Epoch 6/20\n",
      "93970/93970 [==============================] - 27s 290us/sample - loss: 1.4102 - val_loss: 1.4747\n",
      "Epoch 7/20\n",
      "93970/93970 [==============================] - 23s 241us/sample - loss: 1.3585 - val_loss: 1.6210\n",
      "Epoch 8/20\n",
      "93970/93970 [==============================] - 22s 238us/sample - loss: 1.3089 - val_loss: 1.4602\n",
      "Epoch 9/20\n",
      "93970/93970 [==============================] - 22s 239us/sample - loss: 1.2641 - val_loss: 1.4594\n",
      "Epoch 10/20\n",
      "93970/93970 [==============================] - 22s 239us/sample - loss: 1.2171 - val_loss: 1.4413\n",
      "Epoch 11/20\n",
      "93970/93970 [==============================] - 22s 238us/sample - loss: 1.1775 - val_loss: 1.4754\n",
      "Epoch 12/20\n",
      "93970/93970 [==============================] - 22s 237us/sample - loss: 1.1385 - val_loss: 1.4697\n",
      "Epoch 13/20\n",
      "93970/93970 [==============================] - 22s 238us/sample - loss: 1.1090 - val_loss: 1.4126\n",
      "Epoch 14/20\n",
      "93970/93970 [==============================] - 22s 239us/sample - loss: 1.0722 - val_loss: 1.4333\n",
      "Epoch 15/20\n",
      "93970/93970 [==============================] - 22s 239us/sample - loss: 1.0252 - val_loss: 1.4223\n",
      "Epoch 16/20\n",
      "93970/93970 [==============================] - 22s 238us/sample - loss: 0.9969 - val_loss: 1.4234\n",
      "Epoch 17/20\n",
      "93970/93970 [==============================] - 22s 237us/sample - loss: 0.9683 - val_loss: 1.4615\n",
      "Epoch 18/20\n",
      "93970/93970 [==============================] - 22s 238us/sample - loss: 0.9408 - val_loss: 1.4819\n"
     ]
    }
   ],
   "source": [
    "for i in range(10):\n",
    "    \n",
    "    X_train_tmp, X_val_tmp, y_train_tmp, y_val_tmp = train_test_split(\n",
    "        np.concatenate((X_train, X_train_meta), axis=1), \n",
    "        y_train, \n",
    "        test_size=0.05)\n",
    "    \n",
    "    X_train_tmp, X_train_tmp_meta = X_train_tmp[:,:100], X_train_tmp[:,100:]\n",
    "    X_val_tmp, X_val_tmp_meta = X_val_tmp[:,:100], X_val_tmp[:,100:]\n",
    "\n",
    "    \n",
    "    model = model_1.get_model(embedding_matrix, maxlen, max_features, embed_size, len(features))\n",
    "    adam = tf.keras.optimizers.Adam(lr=1e-3)\n",
    "    model.compile(loss='mae', optimizer=adam)\n",
    "    \n",
    "    print(\"##################################################\")\n",
    "    print(f'Model 1, iteration {i}')\n",
    "    \n",
    "    callback_earlystop = tf.keras.callbacks.EarlyStopping(patience=5,\n",
    "                                               monitor='val_loss',\n",
    "                                               mode='auto',\n",
    "                                               restore_best_weights=True)\n",
    "    \n",
    "    \n",
    "    model.fit([X_train_tmp, X_train_tmp_meta], y_train_tmp, epochs = 20, batch_size=256,\n",
    "              callbacks=[callback_earlystop], validation_data=([X_val_tmp, X_val_tmp_meta], y_val_tmp))\n",
    "    \n",
    "    y_hat_val = model.predict([X_val, X_val_meta])\n",
    "    y_hat_val.tofile(f'./results/Model_1_{i}_val')\n",
    "    \n",
    "    y_hat_test = model.predict([X_test, X_test_meta])\n",
    "    y_hat_test.tofile(f'./results/Model_1_{i}_test')"
   ]
  },
  {
   "cell_type": "code",
   "execution_count": 38,
   "metadata": {},
   "outputs": [],
   "source": [
    "y_val.tofile('./results/y_val')"
   ]
  },
  {
   "cell_type": "code",
   "execution_count": null,
   "metadata": {},
   "outputs": [],
   "source": []
  }
 ],
 "metadata": {
  "kernelspec": {
   "display_name": "Python (ml-nlp)",
   "language": "python",
   "name": "ml-nlp"
  },
  "language_info": {
   "codemirror_mode": {
    "name": "ipython",
    "version": 3
   },
   "file_extension": ".py",
   "mimetype": "text/x-python",
   "name": "python",
   "nbconvert_exporter": "python",
   "pygments_lexer": "ipython3",
   "version": "3.7.7"
  }
 },
 "nbformat": 4,
 "nbformat_minor": 4
}
