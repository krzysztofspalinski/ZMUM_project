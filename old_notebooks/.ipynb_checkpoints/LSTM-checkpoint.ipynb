{
 "cells": [
  {
   "cell_type": "code",
   "execution_count": 1,
   "metadata": {},
   "outputs": [],
   "source": [
    "import pandas as pd\n",
    "import matplotlib"
   ]
  },
  {
   "cell_type": "code",
   "execution_count": 2,
   "metadata": {},
   "outputs": [],
   "source": [
    "dataset = pd.read_csv(\"./data/Train.csv\", sep=\";\")"
   ]
  },
  {
   "cell_type": "code",
   "execution_count": 3,
   "metadata": {},
   "outputs": [
    {
     "data": {
      "text/html": [
       "<div>\n",
       "<style scoped>\n",
       "    .dataframe tbody tr th:only-of-type {\n",
       "        vertical-align: middle;\n",
       "    }\n",
       "\n",
       "    .dataframe tbody tr th {\n",
       "        vertical-align: top;\n",
       "    }\n",
       "\n",
       "    .dataframe thead th {\n",
       "        text-align: right;\n",
       "    }\n",
       "</style>\n",
       "<table border=\"1\" class=\"dataframe\">\n",
       "  <thead>\n",
       "    <tr style=\"text-align: right;\">\n",
       "      <th></th>\n",
       "      <th>name</th>\n",
       "      <th>condition</th>\n",
       "      <th>opinion</th>\n",
       "      <th>rate</th>\n",
       "      <th>rate1</th>\n",
       "    </tr>\n",
       "  </thead>\n",
       "  <tbody>\n",
       "    <tr>\n",
       "      <th>0</th>\n",
       "      <td>Zegerid</td>\n",
       "      <td>GERD</td>\n",
       "      <td>\"Using it as a replacement for Nexium, since i...</td>\n",
       "      <td>10</td>\n",
       "      <td>high</td>\n",
       "    </tr>\n",
       "    <tr>\n",
       "      <th>1</th>\n",
       "      <td>Ethosuximide</td>\n",
       "      <td>Seizures</td>\n",
       "      <td>\"This medicine is very good at controlling me ...</td>\n",
       "      <td>10</td>\n",
       "      <td>high</td>\n",
       "    </tr>\n",
       "    <tr>\n",
       "      <th>2</th>\n",
       "      <td>Tri-Sprintec</td>\n",
       "      <td>Birth Control</td>\n",
       "      <td>\"I just started taking Tri Sprintec after my l...</td>\n",
       "      <td>9</td>\n",
       "      <td>high</td>\n",
       "    </tr>\n",
       "    <tr>\n",
       "      <th>3</th>\n",
       "      <td>Levaquin</td>\n",
       "      <td>Pneumonia</td>\n",
       "      <td>\"This medicine made me feel absolutely horribl...</td>\n",
       "      <td>5</td>\n",
       "      <td>medium</td>\n",
       "    </tr>\n",
       "    <tr>\n",
       "      <th>4</th>\n",
       "      <td>Methylphenidate</td>\n",
       "      <td>ADHD</td>\n",
       "      <td>\"I&amp;#039;ve been taking Concerta since 2003. Fo...</td>\n",
       "      <td>9</td>\n",
       "      <td>high</td>\n",
       "    </tr>\n",
       "    <tr>\n",
       "      <th>...</th>\n",
       "      <td>...</td>\n",
       "      <td>...</td>\n",
       "      <td>...</td>\n",
       "      <td>...</td>\n",
       "      <td>...</td>\n",
       "    </tr>\n",
       "    <tr>\n",
       "      <th>149995</th>\n",
       "      <td>Prozac</td>\n",
       "      <td>Anxiety and Stress</td>\n",
       "      <td>\"I was diagnosed with generalized anxiety and ...</td>\n",
       "      <td>9</td>\n",
       "      <td>high</td>\n",
       "    </tr>\n",
       "    <tr>\n",
       "      <th>149996</th>\n",
       "      <td>Scopolamine</td>\n",
       "      <td>Motion Sickness</td>\n",
       "      <td>\"Works great for motion sickness.  Much more e...</td>\n",
       "      <td>10</td>\n",
       "      <td>high</td>\n",
       "    </tr>\n",
       "    <tr>\n",
       "      <th>149997</th>\n",
       "      <td>Epiduo</td>\n",
       "      <td>Acne</td>\n",
       "      <td>\"I&amp;#039;ve been using Epiduo for about 8 month...</td>\n",
       "      <td>10</td>\n",
       "      <td>high</td>\n",
       "    </tr>\n",
       "    <tr>\n",
       "      <th>149998</th>\n",
       "      <td>Phillips' Milk of Magnesia</td>\n",
       "      <td>Constipation</td>\n",
       "      <td>\"Taking pain killers for shingles I was consta...</td>\n",
       "      <td>10</td>\n",
       "      <td>high</td>\n",
       "    </tr>\n",
       "    <tr>\n",
       "      <th>149999</th>\n",
       "      <td>Suprep Bowel Prep Kit</td>\n",
       "      <td>Bowel Preparation</td>\n",
       "      <td>\"It&amp;#039;s not that bad,  the taste could be m...</td>\n",
       "      <td>10</td>\n",
       "      <td>high</td>\n",
       "    </tr>\n",
       "  </tbody>\n",
       "</table>\n",
       "<p>150000 rows × 5 columns</p>\n",
       "</div>"
      ],
      "text/plain": [
       "                              name           condition  \\\n",
       "0                          Zegerid                GERD   \n",
       "1                     Ethosuximide            Seizures   \n",
       "2                     Tri-Sprintec       Birth Control   \n",
       "3                         Levaquin           Pneumonia   \n",
       "4                  Methylphenidate                ADHD   \n",
       "...                            ...                 ...   \n",
       "149995                      Prozac  Anxiety and Stress   \n",
       "149996                 Scopolamine     Motion Sickness   \n",
       "149997                      Epiduo                Acne   \n",
       "149998  Phillips' Milk of Magnesia        Constipation   \n",
       "149999       Suprep Bowel Prep Kit   Bowel Preparation   \n",
       "\n",
       "                                                  opinion  rate   rate1  \n",
       "0       \"Using it as a replacement for Nexium, since i...    10    high  \n",
       "1       \"This medicine is very good at controlling me ...    10    high  \n",
       "2       \"I just started taking Tri Sprintec after my l...     9    high  \n",
       "3       \"This medicine made me feel absolutely horribl...     5  medium  \n",
       "4       \"I&#039;ve been taking Concerta since 2003. Fo...     9    high  \n",
       "...                                                   ...   ...     ...  \n",
       "149995  \"I was diagnosed with generalized anxiety and ...     9    high  \n",
       "149996  \"Works great for motion sickness.  Much more e...    10    high  \n",
       "149997  \"I&#039;ve been using Epiduo for about 8 month...    10    high  \n",
       "149998  \"Taking pain killers for shingles I was consta...    10    high  \n",
       "149999  \"It&#039;s not that bad,  the taste could be m...    10    high  \n",
       "\n",
       "[150000 rows x 5 columns]"
      ]
     },
     "execution_count": 3,
     "metadata": {},
     "output_type": "execute_result"
    }
   ],
   "source": [
    "dataset"
   ]
  },
  {
   "cell_type": "code",
   "execution_count": 4,
   "metadata": {},
   "outputs": [
    {
     "data": {
      "text/plain": [
       "<matplotlib.axes._subplots.AxesSubplot at 0x11a6f7a90>"
      ]
     },
     "execution_count": 4,
     "metadata": {},
     "output_type": "execute_result"
    },
    {
     "data": {
      "image/png": "[encoded data removed]",
      "text/plain": [
       "<Figure size 432x288 with 1 Axes>"
      ]
     },
     "metadata": {
      "needs_background": "light"
     },
     "output_type": "display_data"
    }
   ],
   "source": [
    "dataset['rate'].hist()"
   ]
  },
  {
   "cell_type": "code",
   "execution_count": 8,
   "metadata": {},
   "outputs": [],
   "source": [
    "dataset['opinion'].str.replace('\"', '').str.lower().str.replace('&#039;ve', ' have').str.replace('&#039;s', 'is')\n",
    "\n",
    "dataset['opinion'] = dataset['opinion'].str.lower()\n",
    "dataset['opinion'] = dataset['opinion'].str.replace('\"', '')\n",
    "dataset['opinion'] = dataset['opinion'].str.replace(',', '')\n",
    "dataset['opinion'] = dataset['opinion'].str.replace('.', '')\n",
    "dataset['opinion'] = dataset['opinion'].str.replace('!', '')\n",
    "dataset['opinion'] = dataset['opinion'].str.replace(':', '')\n",
    "dataset['opinion'] = dataset['opinion'].str.replace('&#039;ve', ' have')\n",
    "dataset['opinion'] = dataset['opinion'].str.replace('&#039;s', ' is')\n",
    "dataset['opinion'] = dataset['opinion'].str.replace('&#039;t', ' not')\n",
    "dataset['opinion'] = dataset['opinion'].str.replace('&#039;m', ' am')\n",
    "dataset['opinion'] = dataset['opinion'].str.replace('&#039;ll', ' will')\n",
    "\n",
    "dataset = dataset.drop_duplicates('opinion')"
   ]
  },
  {
   "cell_type": "code",
   "execution_count": 9,
   "metadata": {},
   "outputs": [
    {
     "data": {
      "text/html": [
       "<div>\n",
       "<style scoped>\n",
       "    .dataframe tbody tr th:only-of-type {\n",
       "        vertical-align: middle;\n",
       "    }\n",
       "\n",
       "    .dataframe tbody tr th {\n",
       "        vertical-align: top;\n",
       "    }\n",
       "\n",
       "    .dataframe thead th {\n",
       "        text-align: right;\n",
       "    }\n",
       "</style>\n",
       "<table border=\"1\" class=\"dataframe\">\n",
       "  <thead>\n",
       "    <tr style=\"text-align: right;\">\n",
       "      <th></th>\n",
       "      <th>name</th>\n",
       "      <th>condition</th>\n",
       "      <th>opinion</th>\n",
       "      <th>rate</th>\n",
       "      <th>rate1</th>\n",
       "    </tr>\n",
       "  </thead>\n",
       "  <tbody>\n",
       "    <tr>\n",
       "      <th>0</th>\n",
       "      <td>Zegerid</td>\n",
       "      <td>GERD</td>\n",
       "      <td>using it as a replacement for nexium since ins...</td>\n",
       "      <td>10</td>\n",
       "      <td>high</td>\n",
       "    </tr>\n",
       "    <tr>\n",
       "      <th>1</th>\n",
       "      <td>Ethosuximide</td>\n",
       "      <td>Seizures</td>\n",
       "      <td>this medicine is very good at controlling me s...</td>\n",
       "      <td>10</td>\n",
       "      <td>high</td>\n",
       "    </tr>\n",
       "    <tr>\n",
       "      <th>2</th>\n",
       "      <td>Tri-Sprintec</td>\n",
       "      <td>Birth Control</td>\n",
       "      <td>i just started taking tri sprintec after my la...</td>\n",
       "      <td>9</td>\n",
       "      <td>high</td>\n",
       "    </tr>\n",
       "    <tr>\n",
       "      <th>3</th>\n",
       "      <td>Levaquin</td>\n",
       "      <td>Pneumonia</td>\n",
       "      <td>this medicine made me feel absolutely horrible...</td>\n",
       "      <td>5</td>\n",
       "      <td>medium</td>\n",
       "    </tr>\n",
       "    <tr>\n",
       "      <th>4</th>\n",
       "      <td>Methylphenidate</td>\n",
       "      <td>ADHD</td>\n",
       "      <td>i have been taking concerta since 2003 for me ...</td>\n",
       "      <td>9</td>\n",
       "      <td>high</td>\n",
       "    </tr>\n",
       "    <tr>\n",
       "      <th>...</th>\n",
       "      <td>...</td>\n",
       "      <td>...</td>\n",
       "      <td>...</td>\n",
       "      <td>...</td>\n",
       "      <td>...</td>\n",
       "    </tr>\n",
       "    <tr>\n",
       "      <th>149989</th>\n",
       "      <td>Tri-Lo-Sprintec</td>\n",
       "      <td>Birth Control</td>\n",
       "      <td>i had use bc before i stoped it because i was ...</td>\n",
       "      <td>1</td>\n",
       "      <td>low</td>\n",
       "    </tr>\n",
       "    <tr>\n",
       "      <th>149990</th>\n",
       "      <td>Ethinyl estradiol / levonorgestrel</td>\n",
       "      <td>Abnormal Uterine Bleeding</td>\n",
       "      <td>i didn not go on this pill as a birth control ...</td>\n",
       "      <td>6</td>\n",
       "      <td>medium</td>\n",
       "    </tr>\n",
       "    <tr>\n",
       "      <th>149992</th>\n",
       "      <td>Ethinyl estradiol / norethindrone</td>\n",
       "      <td>Birth Control</td>\n",
       "      <td>i have read almost all the reviews and i have ...</td>\n",
       "      <td>1</td>\n",
       "      <td>low</td>\n",
       "    </tr>\n",
       "    <tr>\n",
       "      <th>149993</th>\n",
       "      <td>Naproxen</td>\n",
       "      <td>Sciatica</td>\n",
       "      <td>i have had very big problems been taking norco...</td>\n",
       "      <td>10</td>\n",
       "      <td>high</td>\n",
       "    </tr>\n",
       "    <tr>\n",
       "      <th>149997</th>\n",
       "      <td>Epiduo</td>\n",
       "      <td>Acne</td>\n",
       "      <td>i have been using epiduo for about 8 months no...</td>\n",
       "      <td>10</td>\n",
       "      <td>high</td>\n",
       "    </tr>\n",
       "  </tbody>\n",
       "</table>\n",
       "<p>107482 rows × 5 columns</p>\n",
       "</div>"
      ],
      "text/plain": [
       "                                      name                  condition  \\\n",
       "0                                  Zegerid                       GERD   \n",
       "1                             Ethosuximide                   Seizures   \n",
       "2                             Tri-Sprintec              Birth Control   \n",
       "3                                 Levaquin                  Pneumonia   \n",
       "4                          Methylphenidate                       ADHD   \n",
       "...                                    ...                        ...   \n",
       "149989                     Tri-Lo-Sprintec              Birth Control   \n",
       "149990  Ethinyl estradiol / levonorgestrel  Abnormal Uterine Bleeding   \n",
       "149992   Ethinyl estradiol / norethindrone              Birth Control   \n",
       "149993                            Naproxen                   Sciatica   \n",
       "149997                              Epiduo                       Acne   \n",
       "\n",
       "                                                  opinion  rate   rate1  \n",
       "0       using it as a replacement for nexium since ins...    10    high  \n",
       "1       this medicine is very good at controlling me s...    10    high  \n",
       "2       i just started taking tri sprintec after my la...     9    high  \n",
       "3       this medicine made me feel absolutely horrible...     5  medium  \n",
       "4       i have been taking concerta since 2003 for me ...     9    high  \n",
       "...                                                   ...   ...     ...  \n",
       "149989  i had use bc before i stoped it because i was ...     1     low  \n",
       "149990  i didn not go on this pill as a birth control ...     6  medium  \n",
       "149992  i have read almost all the reviews and i have ...     1     low  \n",
       "149993  i have had very big problems been taking norco...    10    high  \n",
       "149997  i have been using epiduo for about 8 months no...    10    high  \n",
       "\n",
       "[107482 rows x 5 columns]"
      ]
     },
     "execution_count": 9,
     "metadata": {},
     "output_type": "execute_result"
    }
   ],
   "source": [
    "dataset"
   ]
  },
  {
   "cell_type": "code",
   "execution_count": 10,
   "metadata": {},
   "outputs": [
    {
     "data": {
      "text/plain": [
       "<matplotlib.axes._subplots.AxesSubplot at 0x11f594040>"
      ]
     },
     "execution_count": 10,
     "metadata": {},
     "output_type": "execute_result"
    },
    {
     "data": {
      "image/png": "[encoded data removed]",
      "text/plain": [
       "<Figure size 432x288 with 1 Axes>"
      ]
     },
     "metadata": {
      "needs_background": "light"
     },
     "output_type": "display_data"
    }
   ],
   "source": [
    "dataset['rate'].hist()"
   ]
  },
  {
   "cell_type": "markdown",
   "metadata": {},
   "source": [
    "# Neural Network Time!"
   ]
  },
  {
   "cell_type": "code",
   "execution_count": null,
   "metadata": {},
   "outputs": [
    {
     "name": "stdout",
     "output_type": "stream",
     "text": [
      "  % Total    % Received % Xferd  Average Speed   Time    Time     Time  Current\n",
      "                                 Dload  Upload   Total   Spent    Left  Speed\n",
      "  4 1570M    4 75.8M    0     0   390k      0  1:08:36  0:03:18  1:05:18  300k   0  1574k      0  0:17:01  0:00:05  0:16:56 1962k  1394k      0  0:19:13  0:00:30  0:18:43 1474k0  1082k      0  0:24:46  0:00:47  0:23:59  222k  0   788k      0  0:34:00  0:01:06  0:32:54 13331   647k      0  0:41:23  0:01:20  0:40:03 16983 540k      0  0:49:38  0:01:37  0:48:01 21289  0  1:08:23  0:02:17  1:06:06 680930  1:09:59  0:02:23  1:07:36  186k0   410k      0  1:05:22  0:02:42  1:02:40  376k"
     ]
    }
   ],
   "source": [
    "!curl \"https://s3.amazonaws.com/dl4j-distribution/GoogleNews-vectors-negative300.bin.gz\" -o \"GoogleNews-vectors-negative300.bin.gz\""
   ]
  },
  {
   "cell_type": "code",
   "execution_count": null,
   "metadata": {},
   "outputs": [],
   "source": [
    "from gensim.models import KeyedVectors"
   ]
  }
 ],
 "metadata": {
  "kernelspec": {
   "display_name": "Python (ml-new)",
   "language": "python",
   "name": "myenv"
  },
  "language_info": {
   "codemirror_mode": {
    "name": "ipython",
    "version": 3
   },
   "file_extension": ".py",
   "mimetype": "text/x-python",
   "name": "python",
   "nbconvert_exporter": "python",
   "pygments_lexer": "ipython3",
   "version": "3.8.2"
  }
 },
 "nbformat": 4,
 "nbformat_minor": 2
}
