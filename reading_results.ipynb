{
 "cells": [
  {
   "cell_type": "code",
   "execution_count": 2,
   "metadata": {},
   "outputs": [],
   "source": [
    "import numpy as np\n",
    "import pandas as pd"
   ]
  },
  {
   "cell_type": "code",
   "execution_count": 5,
   "metadata": {},
   "outputs": [
    {
     "data": {
      "text/plain": [
       "array([3.63246812e+05, 1.92090782e+05, 1.81865387e+02, ...,\n",
       "       4.07110693e+00, 2.64028313e+05, 4.29584314e+05])"
      ]
     },
     "execution_count": 5,
     "metadata": {},
     "output_type": "execute_result"
    }
   ],
   "source": [
    "np.fromfile('./results/Model_1_0_val')"
   ]
  },
  {
   "cell_type": "code",
   "execution_count": 3,
   "metadata": {},
   "outputs": [],
   "source": [
    "test = pd.read_csv('./data/TestX.csv', sep=';')"
   ]
  },
  {
   "cell_type": "code",
   "execution_count": 4,
   "metadata": {},
   "outputs": [
    {
     "data": {
      "text/html": [
       "<div>\n",
       "<style scoped>\n",
       "    .dataframe tbody tr th:only-of-type {\n",
       "        vertical-align: middle;\n",
       "    }\n",
       "\n",
       "    .dataframe tbody tr th {\n",
       "        vertical-align: top;\n",
       "    }\n",
       "\n",
       "    .dataframe thead th {\n",
       "        text-align: right;\n",
       "    }\n",
       "</style>\n",
       "<table border=\"1\" class=\"dataframe\">\n",
       "  <thead>\n",
       "    <tr style=\"text-align: right;\">\n",
       "      <th></th>\n",
       "      <th>name</th>\n",
       "      <th>condition</th>\n",
       "      <th>opinion</th>\n",
       "    </tr>\n",
       "  </thead>\n",
       "  <tbody>\n",
       "    <tr>\n",
       "      <th>0</th>\n",
       "      <td>Vitamin B12</td>\n",
       "      <td>Vitamin B12 Deficiency</td>\n",
       "      <td>\"No after taste at unlike all the others that ...</td>\n",
       "    </tr>\n",
       "    <tr>\n",
       "      <th>1</th>\n",
       "      <td>Implanon</td>\n",
       "      <td>Birth Control</td>\n",
       "      <td>\"I have not had any issues with the implanon I...</td>\n",
       "    </tr>\n",
       "    <tr>\n",
       "      <th>2</th>\n",
       "      <td>BuSpar</td>\n",
       "      <td>Anxiety</td>\n",
       "      <td>\"I have been taking Buspar and Celexa and as f...</td>\n",
       "    </tr>\n",
       "    <tr>\n",
       "      <th>3</th>\n",
       "      <td>Abreva</td>\n",
       "      <td>Herpes Simplex</td>\n",
       "      <td>\"the only thing that works.  completely awesome.\"</td>\n",
       "    </tr>\n",
       "    <tr>\n",
       "      <th>4</th>\n",
       "      <td>Buprenorphine / naloxone</td>\n",
       "      <td>Opiate Dependence</td>\n",
       "      <td>\"UPDATE: I originally posted on Nov 16th 2010 ...</td>\n",
       "    </tr>\n",
       "    <tr>\n",
       "      <th>...</th>\n",
       "      <td>...</td>\n",
       "      <td>...</td>\n",
       "      <td>...</td>\n",
       "    </tr>\n",
       "    <tr>\n",
       "      <th>49995</th>\n",
       "      <td>Acetaminophen / hydrocodone</td>\n",
       "      <td>Pain</td>\n",
       "      <td>\"These just don&amp;#039;t help me at all and they...</td>\n",
       "    </tr>\n",
       "    <tr>\n",
       "      <th>49996</th>\n",
       "      <td>Minastrin 24 Fe</td>\n",
       "      <td>Birth Control</td>\n",
       "      <td>\"I got on Minastrin, because I used to take Lo...</td>\n",
       "    </tr>\n",
       "    <tr>\n",
       "      <th>49997</th>\n",
       "      <td>Yasmin</td>\n",
       "      <td>Acne</td>\n",
       "      <td>\"I am 20 and have had terrible skin since I wa...</td>\n",
       "    </tr>\n",
       "    <tr>\n",
       "      <th>49998</th>\n",
       "      <td>Amoxicillin</td>\n",
       "      <td>Bacterial Endocarditis Prevention</td>\n",
       "      <td>\"Very good.\"</td>\n",
       "    </tr>\n",
       "    <tr>\n",
       "      <th>49999</th>\n",
       "      <td>Drysol</td>\n",
       "      <td>0&lt;/span&gt; users found this comment helpful.</td>\n",
       "      <td>\"I&amp;#039;m 27 and I have been using Drysol sinc...</td>\n",
       "    </tr>\n",
       "  </tbody>\n",
       "</table>\n",
       "<p>50000 rows × 3 columns</p>\n",
       "</div>"
      ],
      "text/plain": [
       "                              name  \\\n",
       "0                      Vitamin B12   \n",
       "1                         Implanon   \n",
       "2                           BuSpar   \n",
       "3                           Abreva   \n",
       "4         Buprenorphine / naloxone   \n",
       "...                            ...   \n",
       "49995  Acetaminophen / hydrocodone   \n",
       "49996              Minastrin 24 Fe   \n",
       "49997                       Yasmin   \n",
       "49998                  Amoxicillin   \n",
       "49999                       Drysol   \n",
       "\n",
       "                                        condition  \\\n",
       "0                          Vitamin B12 Deficiency   \n",
       "1                                   Birth Control   \n",
       "2                                         Anxiety   \n",
       "3                                  Herpes Simplex   \n",
       "4                               Opiate Dependence   \n",
       "...                                           ...   \n",
       "49995                                        Pain   \n",
       "49996                               Birth Control   \n",
       "49997                                        Acne   \n",
       "49998           Bacterial Endocarditis Prevention   \n",
       "49999  0</span> users found this comment helpful.   \n",
       "\n",
       "                                                 opinion  \n",
       "0      \"No after taste at unlike all the others that ...  \n",
       "1      \"I have not had any issues with the implanon I...  \n",
       "2      \"I have been taking Buspar and Celexa and as f...  \n",
       "3      \"the only thing that works.  completely awesome.\"  \n",
       "4      \"UPDATE: I originally posted on Nov 16th 2010 ...  \n",
       "...                                                  ...  \n",
       "49995  \"These just don&#039;t help me at all and they...  \n",
       "49996  \"I got on Minastrin, because I used to take Lo...  \n",
       "49997  \"I am 20 and have had terrible skin since I wa...  \n",
       "49998                                       \"Very good.\"  \n",
       "49999  \"I&#039;m 27 and I have been using Drysol sinc...  \n",
       "\n",
       "[50000 rows x 3 columns]"
      ]
     },
     "execution_count": 4,
     "metadata": {},
     "output_type": "execute_result"
    }
   ],
   "source": [
    "test"
   ]
  },
  {
   "cell_type": "code",
   "execution_count": null,
   "metadata": {},
   "outputs": [],
   "source": []
  }
 ],
 "metadata": {
  "kernelspec": {
   "display_name": "Python (ml-nlp)",
   "language": "python",
   "name": "ml-nlp"
  },
  "language_info": {
   "codemirror_mode": {
    "name": "ipython",
    "version": 3
   },
   "file_extension": ".py",
   "mimetype": "text/x-python",
   "name": "python",
   "nbconvert_exporter": "python",
   "pygments_lexer": "ipython3",
   "version": "3.7.7"
  }
 },
 "nbformat": 4,
 "nbformat_minor": 4
}
