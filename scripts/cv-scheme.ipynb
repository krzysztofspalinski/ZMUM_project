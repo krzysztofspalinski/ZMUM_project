{
 "cells": [
  {
   "cell_type": "code",
   "execution_count": 119,
   "metadata": {},
   "outputs": [],
   "source": [
    "import numpy as np\n",
    "import pandas as pd\n",
    "import os\n",
    "\n",
    "from drugsdataset import DrugsDataset\n",
    "from sklearn.model_selection import KFold\n",
    "import xgboost as xgb\n",
    "\n",
    "# GLOBAL OPTIONS\n",
    "NUM_FOLDS = 5\n",
    "SEED = 2137\n",
    "\n",
    "# model we wish to validate\n",
    "model = xgb.XGBClassifier(objective ='multi:softprob',\n",
    "                        colsample_bytree = 0.3,\n",
    "                        learning_rate = 0.1,\n",
    "                        max_depth = 15,\n",
    "                        alpha = 10,\n",
    "                        n_estimators = 25,\n",
    "                        verbosity=1)"
   ]
  },
  {
   "cell_type": "code",
   "execution_count": 2,
   "metadata": {},
   "outputs": [],
   "source": [
    "drugsdataset = DrugsDataset(\"../data/\")"
   ]
  },
  {
   "cell_type": "code",
   "execution_count": 6,
   "metadata": {},
   "outputs": [],
   "source": [
    "bow_train, bow_test = drugsdataset.create_bag_of_words()"
   ]
  },
  {
   "cell_type": "code",
   "execution_count": 79,
   "metadata": {},
   "outputs": [],
   "source": [
    "X_train = bow_train\n",
    "y_train = drugsdataset.train['rate'].astype(float)"
   ]
  },
  {
   "cell_type": "code",
   "execution_count": 31,
   "metadata": {},
   "outputs": [],
   "source": [
    "kf = KFold(n_splits = NUM_FOLDS, random_state = SEED, shuffle = True)"
   ]
  },
  {
   "cell_type": "code",
   "execution_count": 120,
   "metadata": {},
   "outputs": [
    {
     "name": "stdout",
     "output_type": "stream",
     "text": [
      "[10. 10. 10. ... 10. 10. 10.]\n",
      "[10. 10. 10. ... 10. 10. 10.]\n",
      "[10. 10. 10. ... 10. 10.  1.]\n",
      "[ 1. 10. 10. ... 10. 10. 10.]\n",
      "[ 9.  1. 10. ... 10. 10. 10.]\n"
     ]
    }
   ],
   "source": [
    "predictions = np.array([0.0 for i in range(len(y_train))])\n",
    "\n",
    "for train_index, test_index in kf.split(X_train):\n",
    "    X_tr, X_valid = X_train[train_index], X_train[test_index]\n",
    "    y_tr, y_valid = y_train[train_index], y_train[test_index]\n",
    "    \n",
    "\n",
    "    model.fit(X_tr, y_tr)\n",
    "    predictions[test_index] = model.predict(X_valid)\n",
    "    print(predictions[test_index])"
   ]
  },
  {
   "cell_type": "code",
   "execution_count": 121,
   "metadata": {},
   "outputs": [
    {
     "data": {
      "text/plain": [
       "0.38058"
      ]
     },
     "execution_count": 121,
     "metadata": {},
     "output_type": "execute_result"
    }
   ],
   "source": [
    "# Accuracy\n",
    "np.sum(predictions==y_train)/len(y_train)"
   ]
  },
  {
   "cell_type": "code",
   "execution_count": 122,
   "metadata": {},
   "outputs": [
    {
     "data": {
      "text/plain": [
       "2.3938866666666665"
      ]
     },
     "execution_count": 122,
     "metadata": {},
     "output_type": "execute_result"
    }
   ],
   "source": [
    "# Mean absolute error\n",
    "np.sum(np.abs(predictions - y_train)) / len(y_train)"
   ]
  },
  {
   "cell_type": "code",
   "execution_count": 126,
   "metadata": {},
   "outputs": [
    {
     "name": "stdout",
     "output_type": "stream",
     "text": [
      "0.12546-0.13437333333333334-\n",
      "0.00018666666666666666-0.04287333333333333-\n",
      "0.0005333333333333334-0.04037333333333333-\n",
      "4e-05-0.03104-\n",
      "0.00044666666666666666-0.04975333333333333-\n",
      "1.3333333333333333e-05-0.03922-\n",
      "0.00021333333333333333-0.058673333333333334-\n",
      "0.009693333333333333-0.11702666666666667-\n",
      "0.04737333333333334-0.17018-\n",
      "0.81604-0.3164866666666667-\n"
     ]
    }
   ],
   "source": [
    "for i in range(10):\n",
    "    print(np.sum(predictions == (i+1)) / len(predictions), end=\"-\")\n",
    "    print(np.sum(y_train == (i+1)) / len(y_train), end=\"-\")\n",
    "    print(\"\")"
   ]
  },
  {
   "cell_type": "code",
   "execution_count": null,
   "metadata": {},
   "outputs": [],
   "source": []
  }
 ],
 "metadata": {
  "kernelspec": {
   "display_name": "Python 3",
   "language": "python",
   "name": "python3"
  },
  "language_info": {
   "codemirror_mode": {
    "name": "ipython",
    "version": 3
   },
   "file_extension": ".py",
   "mimetype": "text/x-python",
   "name": "python",
   "nbconvert_exporter": "python",
   "pygments_lexer": "ipython3",
   "version": "3.7.0"
  }
 },
 "nbformat": 4,
 "nbformat_minor": 2
}
