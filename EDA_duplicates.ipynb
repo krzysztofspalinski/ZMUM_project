{
 "cells": [
  {
   "cell_type": "code",
   "execution_count": 42,
   "metadata": {},
   "outputs": [],
   "source": [
    "import pandas as pd\n",
    "import numpy as np"
   ]
  },
  {
   "cell_type": "code",
   "execution_count": 43,
   "metadata": {},
   "outputs": [],
   "source": [
    "train = pd.read_csv('./data/Train.csv', sep=';')\n",
    "test = pd.read_csv('./data/TestX.csv', sep=';')"
   ]
  },
  {
   "cell_type": "code",
   "execution_count": 44,
   "metadata": {},
   "outputs": [],
   "source": [
    "train = train.drop_duplicates('opinion')"
   ]
  },
  {
   "cell_type": "code",
   "execution_count": 45,
   "metadata": {},
   "outputs": [
    {
     "data": {
      "text/html": [
       "<div>\n",
       "<style scoped>\n",
       "    .dataframe tbody tr th:only-of-type {\n",
       "        vertical-align: middle;\n",
       "    }\n",
       "\n",
       "    .dataframe tbody tr th {\n",
       "        vertical-align: top;\n",
       "    }\n",
       "\n",
       "    .dataframe thead th {\n",
       "        text-align: right;\n",
       "    }\n",
       "</style>\n",
       "<table border=\"1\" class=\"dataframe\">\n",
       "  <thead>\n",
       "    <tr style=\"text-align: right;\">\n",
       "      <th></th>\n",
       "      <th>name</th>\n",
       "      <th>condition</th>\n",
       "      <th>opinion</th>\n",
       "    </tr>\n",
       "  </thead>\n",
       "  <tbody>\n",
       "    <tr>\n",
       "      <th>0</th>\n",
       "      <td>Vitamin B12</td>\n",
       "      <td>Vitamin B12 Deficiency</td>\n",
       "      <td>\"No after taste at unlike all the others that ...</td>\n",
       "    </tr>\n",
       "    <tr>\n",
       "      <th>1</th>\n",
       "      <td>Implanon</td>\n",
       "      <td>Birth Control</td>\n",
       "      <td>\"I have not had any issues with the implanon I...</td>\n",
       "    </tr>\n",
       "    <tr>\n",
       "      <th>2</th>\n",
       "      <td>BuSpar</td>\n",
       "      <td>Anxiety</td>\n",
       "      <td>\"I have been taking Buspar and Celexa and as f...</td>\n",
       "    </tr>\n",
       "    <tr>\n",
       "      <th>3</th>\n",
       "      <td>Abreva</td>\n",
       "      <td>Herpes Simplex</td>\n",
       "      <td>\"the only thing that works.  completely awesome.\"</td>\n",
       "    </tr>\n",
       "    <tr>\n",
       "      <th>4</th>\n",
       "      <td>Buprenorphine / naloxone</td>\n",
       "      <td>Opiate Dependence</td>\n",
       "      <td>\"UPDATE: I originally posted on Nov 16th 2010 ...</td>\n",
       "    </tr>\n",
       "    <tr>\n",
       "      <th>...</th>\n",
       "      <td>...</td>\n",
       "      <td>...</td>\n",
       "      <td>...</td>\n",
       "    </tr>\n",
       "    <tr>\n",
       "      <th>49995</th>\n",
       "      <td>Acetaminophen / hydrocodone</td>\n",
       "      <td>Pain</td>\n",
       "      <td>\"These just don&amp;#039;t help me at all and they...</td>\n",
       "    </tr>\n",
       "    <tr>\n",
       "      <th>49996</th>\n",
       "      <td>Minastrin 24 Fe</td>\n",
       "      <td>Birth Control</td>\n",
       "      <td>\"I got on Minastrin, because I used to take Lo...</td>\n",
       "    </tr>\n",
       "    <tr>\n",
       "      <th>49997</th>\n",
       "      <td>Yasmin</td>\n",
       "      <td>Acne</td>\n",
       "      <td>\"I am 20 and have had terrible skin since I wa...</td>\n",
       "    </tr>\n",
       "    <tr>\n",
       "      <th>49998</th>\n",
       "      <td>Amoxicillin</td>\n",
       "      <td>Bacterial Endocarditis Prevention</td>\n",
       "      <td>\"Very good.\"</td>\n",
       "    </tr>\n",
       "    <tr>\n",
       "      <th>49999</th>\n",
       "      <td>Drysol</td>\n",
       "      <td>0&lt;/span&gt; users found this comment helpful.</td>\n",
       "      <td>\"I&amp;#039;m 27 and I have been using Drysol sinc...</td>\n",
       "    </tr>\n",
       "  </tbody>\n",
       "</table>\n",
       "<p>50000 rows × 3 columns</p>\n",
       "</div>"
      ],
      "text/plain": [
       "                              name  \\\n",
       "0                      Vitamin B12   \n",
       "1                         Implanon   \n",
       "2                           BuSpar   \n",
       "3                           Abreva   \n",
       "4         Buprenorphine / naloxone   \n",
       "...                            ...   \n",
       "49995  Acetaminophen / hydrocodone   \n",
       "49996              Minastrin 24 Fe   \n",
       "49997                       Yasmin   \n",
       "49998                  Amoxicillin   \n",
       "49999                       Drysol   \n",
       "\n",
       "                                        condition  \\\n",
       "0                          Vitamin B12 Deficiency   \n",
       "1                                   Birth Control   \n",
       "2                                         Anxiety   \n",
       "3                                  Herpes Simplex   \n",
       "4                               Opiate Dependence   \n",
       "...                                           ...   \n",
       "49995                                        Pain   \n",
       "49996                               Birth Control   \n",
       "49997                                        Acne   \n",
       "49998           Bacterial Endocarditis Prevention   \n",
       "49999  0</span> users found this comment helpful.   \n",
       "\n",
       "                                                 opinion  \n",
       "0      \"No after taste at unlike all the others that ...  \n",
       "1      \"I have not had any issues with the implanon I...  \n",
       "2      \"I have been taking Buspar and Celexa and as f...  \n",
       "3      \"the only thing that works.  completely awesome.\"  \n",
       "4      \"UPDATE: I originally posted on Nov 16th 2010 ...  \n",
       "...                                                  ...  \n",
       "49995  \"These just don&#039;t help me at all and they...  \n",
       "49996  \"I got on Minastrin, because I used to take Lo...  \n",
       "49997  \"I am 20 and have had terrible skin since I wa...  \n",
       "49998                                       \"Very good.\"  \n",
       "49999  \"I&#039;m 27 and I have been using Drysol sinc...  \n",
       "\n",
       "[50000 rows x 3 columns]"
      ]
     },
     "execution_count": 45,
     "metadata": {},
     "output_type": "execute_result"
    }
   ],
   "source": [
    "test"
   ]
  },
  {
   "cell_type": "code",
   "execution_count": 46,
   "metadata": {},
   "outputs": [
    {
     "ename": "ValueError",
     "evalue": "len(left_on) must equal the number of levels in the index of \"right\"",
     "output_type": "error",
     "traceback": [
      "\u001b[0;31m---------------------------------------------------------------------------\u001b[0m",
      "\u001b[0;31mValueError\u001b[0m                                Traceback (most recent call last)",
      "\u001b[0;32m<ipython-input-46-c9634e66554e>\u001b[0m in \u001b[0;36m<module>\u001b[0;34m\u001b[0m\n\u001b[0;32m----> 1\u001b[0;31m \u001b[0mtest\u001b[0m\u001b[0;34m.\u001b[0m\u001b[0mjoin\u001b[0m\u001b[0;34m(\u001b[0m\u001b[0mother\u001b[0m\u001b[0;34m=\u001b[0m\u001b[0mtrain\u001b[0m\u001b[0;34m,\u001b[0m \u001b[0mon\u001b[0m\u001b[0;34m=\u001b[0m\u001b[0;34m[\u001b[0m\u001b[0;34m'opinion'\u001b[0m\u001b[0;34m,\u001b[0m \u001b[0;34m'condition'\u001b[0m\u001b[0;34m,\u001b[0m \u001b[0;34m'name'\u001b[0m\u001b[0;34m]\u001b[0m\u001b[0;34m,\u001b[0m \u001b[0mlsuffix\u001b[0m\u001b[0;34m=\u001b[0m\u001b[0;34m'_test'\u001b[0m\u001b[0;34m,\u001b[0m \u001b[0mrsuffix\u001b[0m\u001b[0;34m=\u001b[0m\u001b[0;34m'_train'\u001b[0m\u001b[0;34m)\u001b[0m\u001b[0;34m\u001b[0m\u001b[0;34m\u001b[0m\u001b[0m\n\u001b[0m",
      "\u001b[0;32m~/.conda/envs/ml-nlp/lib/python3.7/site-packages/pandas/core/frame.py\u001b[0m in \u001b[0;36mjoin\u001b[0;34m(self, other, on, how, lsuffix, rsuffix, sort)\u001b[0m\n\u001b[1;32m   7207\u001b[0m         \"\"\"\n\u001b[1;32m   7208\u001b[0m         return self._join_compat(\n\u001b[0;32m-> 7209\u001b[0;31m             \u001b[0mother\u001b[0m\u001b[0;34m,\u001b[0m \u001b[0mon\u001b[0m\u001b[0;34m=\u001b[0m\u001b[0mon\u001b[0m\u001b[0;34m,\u001b[0m \u001b[0mhow\u001b[0m\u001b[0;34m=\u001b[0m\u001b[0mhow\u001b[0m\u001b[0;34m,\u001b[0m \u001b[0mlsuffix\u001b[0m\u001b[0;34m=\u001b[0m\u001b[0mlsuffix\u001b[0m\u001b[0;34m,\u001b[0m \u001b[0mrsuffix\u001b[0m\u001b[0;34m=\u001b[0m\u001b[0mrsuffix\u001b[0m\u001b[0;34m,\u001b[0m \u001b[0msort\u001b[0m\u001b[0;34m=\u001b[0m\u001b[0msort\u001b[0m\u001b[0;34m\u001b[0m\u001b[0;34m\u001b[0m\u001b[0m\n\u001b[0m\u001b[1;32m   7210\u001b[0m         )\n\u001b[1;32m   7211\u001b[0m \u001b[0;34m\u001b[0m\u001b[0m\n",
      "\u001b[0;32m~/.conda/envs/ml-nlp/lib/python3.7/site-packages/pandas/core/frame.py\u001b[0m in \u001b[0;36m_join_compat\u001b[0;34m(self, other, on, how, lsuffix, rsuffix, sort)\u001b[0m\n\u001b[1;32m   7230\u001b[0m                 \u001b[0mright_index\u001b[0m\u001b[0;34m=\u001b[0m\u001b[0;32mTrue\u001b[0m\u001b[0;34m,\u001b[0m\u001b[0;34m\u001b[0m\u001b[0;34m\u001b[0m\u001b[0m\n\u001b[1;32m   7231\u001b[0m                 \u001b[0msuffixes\u001b[0m\u001b[0;34m=\u001b[0m\u001b[0;34m(\u001b[0m\u001b[0mlsuffix\u001b[0m\u001b[0;34m,\u001b[0m \u001b[0mrsuffix\u001b[0m\u001b[0;34m)\u001b[0m\u001b[0;34m,\u001b[0m\u001b[0;34m\u001b[0m\u001b[0;34m\u001b[0m\u001b[0m\n\u001b[0;32m-> 7232\u001b[0;31m                 \u001b[0msort\u001b[0m\u001b[0;34m=\u001b[0m\u001b[0msort\u001b[0m\u001b[0;34m,\u001b[0m\u001b[0;34m\u001b[0m\u001b[0;34m\u001b[0m\u001b[0m\n\u001b[0m\u001b[1;32m   7233\u001b[0m             )\n\u001b[1;32m   7234\u001b[0m         \u001b[0;32melse\u001b[0m\u001b[0;34m:\u001b[0m\u001b[0;34m\u001b[0m\u001b[0;34m\u001b[0m\u001b[0m\n",
      "\u001b[0;32m~/.conda/envs/ml-nlp/lib/python3.7/site-packages/pandas/core/reshape/merge.py\u001b[0m in \u001b[0;36mmerge\u001b[0;34m(left, right, how, on, left_on, right_on, left_index, right_index, sort, suffixes, copy, indicator, validate)\u001b[0m\n\u001b[1;32m     84\u001b[0m         \u001b[0mcopy\u001b[0m\u001b[0;34m=\u001b[0m\u001b[0mcopy\u001b[0m\u001b[0;34m,\u001b[0m\u001b[0;34m\u001b[0m\u001b[0;34m\u001b[0m\u001b[0m\n\u001b[1;32m     85\u001b[0m         \u001b[0mindicator\u001b[0m\u001b[0;34m=\u001b[0m\u001b[0mindicator\u001b[0m\u001b[0;34m,\u001b[0m\u001b[0;34m\u001b[0m\u001b[0;34m\u001b[0m\u001b[0m\n\u001b[0;32m---> 86\u001b[0;31m         \u001b[0mvalidate\u001b[0m\u001b[0;34m=\u001b[0m\u001b[0mvalidate\u001b[0m\u001b[0;34m,\u001b[0m\u001b[0;34m\u001b[0m\u001b[0;34m\u001b[0m\u001b[0m\n\u001b[0m\u001b[1;32m     87\u001b[0m     )\n\u001b[1;32m     88\u001b[0m     \u001b[0;32mreturn\u001b[0m \u001b[0mop\u001b[0m\u001b[0;34m.\u001b[0m\u001b[0mget_result\u001b[0m\u001b[0;34m(\u001b[0m\u001b[0;34m)\u001b[0m\u001b[0;34m\u001b[0m\u001b[0;34m\u001b[0m\u001b[0m\n",
      "\u001b[0;32m~/.conda/envs/ml-nlp/lib/python3.7/site-packages/pandas/core/reshape/merge.py\u001b[0m in \u001b[0;36m__init__\u001b[0;34m(self, left, right, how, on, left_on, right_on, axis, left_index, right_index, sort, suffixes, copy, indicator, validate)\u001b[0m\n\u001b[1;32m    618\u001b[0m             \u001b[0mwarnings\u001b[0m\u001b[0;34m.\u001b[0m\u001b[0mwarn\u001b[0m\u001b[0;34m(\u001b[0m\u001b[0mmsg\u001b[0m\u001b[0;34m,\u001b[0m \u001b[0mUserWarning\u001b[0m\u001b[0;34m)\u001b[0m\u001b[0;34m\u001b[0m\u001b[0;34m\u001b[0m\u001b[0m\n\u001b[1;32m    619\u001b[0m \u001b[0;34m\u001b[0m\u001b[0m\n\u001b[0;32m--> 620\u001b[0;31m         \u001b[0mself\u001b[0m\u001b[0;34m.\u001b[0m\u001b[0m_validate_specification\u001b[0m\u001b[0;34m(\u001b[0m\u001b[0;34m)\u001b[0m\u001b[0;34m\u001b[0m\u001b[0;34m\u001b[0m\u001b[0m\n\u001b[0m\u001b[1;32m    621\u001b[0m \u001b[0;34m\u001b[0m\u001b[0m\n\u001b[1;32m    622\u001b[0m         \u001b[0;31m# note this function has side effects\u001b[0m\u001b[0;34m\u001b[0m\u001b[0;34m\u001b[0m\u001b[0;34m\u001b[0m\u001b[0m\n",
      "\u001b[0;32m~/.conda/envs/ml-nlp/lib/python3.7/site-packages/pandas/core/reshape/merge.py\u001b[0m in \u001b[0;36m_validate_specification\u001b[0;34m(self)\u001b[0m\n\u001b[1;32m   1214\u001b[0m                 \u001b[0;32mif\u001b[0m \u001b[0mlen\u001b[0m\u001b[0;34m(\u001b[0m\u001b[0mself\u001b[0m\u001b[0;34m.\u001b[0m\u001b[0mleft_on\u001b[0m\u001b[0;34m)\u001b[0m \u001b[0;34m!=\u001b[0m \u001b[0mself\u001b[0m\u001b[0;34m.\u001b[0m\u001b[0mright\u001b[0m\u001b[0;34m.\u001b[0m\u001b[0mindex\u001b[0m\u001b[0;34m.\u001b[0m\u001b[0mnlevels\u001b[0m\u001b[0;34m:\u001b[0m\u001b[0;34m\u001b[0m\u001b[0;34m\u001b[0m\u001b[0m\n\u001b[1;32m   1215\u001b[0m                     raise ValueError(\n\u001b[0;32m-> 1216\u001b[0;31m                         \u001b[0;34m\"len(left_on) must equal the number \"\u001b[0m\u001b[0;34m\u001b[0m\u001b[0;34m\u001b[0m\u001b[0m\n\u001b[0m\u001b[1;32m   1217\u001b[0m                         \u001b[0;34m'of levels in the index of \"right\"'\u001b[0m\u001b[0;34m\u001b[0m\u001b[0;34m\u001b[0m\u001b[0m\n\u001b[1;32m   1218\u001b[0m                     )\n",
      "\u001b[0;31mValueError\u001b[0m: len(left_on) must equal the number of levels in the index of \"right\""
     ]
    }
   ],
   "source": [
    "test.join(other=train, on=['opinion', 'condition', 'name'], lsuffix='_test', rsuffix='_train')"
   ]
  },
  {
   "cell_type": "code",
   "execution_count": null,
   "metadata": {},
   "outputs": [],
   "source": [
    "df = pd.merge(test, train, on=['opinion', 'condition'], how='left')\n"
   ]
  },
  {
   "cell_type": "code",
   "execution_count": 47,
   "metadata": {},
   "outputs": [],
   "source": [
    "df = pd.merge(test, train, on=['opinion', 'condition'], how='left')"
   ]
  },
  {
   "cell_type": "code",
   "execution_count": 79,
   "metadata": {},
   "outputs": [
    {
     "data": {
      "text/plain": [
       "<matplotlib.axes._subplots.AxesSubplot at 0x7f7d8d22db10>"
      ]
     },
     "execution_count": 79,
     "metadata": {},
     "output_type": "execute_result"
    },
    {
     "data": {
      "image/png": "[encoded data removed]",
      "text/plain": [
       "<Figure size 432x288 with 1 Axes>"
      ]
     },
     "metadata": {
      "needs_background": "light"
     },
     "output_type": "display_data"
    }
   ],
   "source": [
    "df.rate1.hist()"
   ]
  },
  {
   "cell_type": "code",
   "execution_count": 78,
   "metadata": {},
   "outputs": [
    {
     "data": {
      "text/plain": [
       "27250"
      ]
     },
     "execution_count": 78,
     "metadata": {},
     "output_type": "execute_result"
    }
   ],
   "source": [
    "np.sum((~df['rate'].isna()).astype(int))"
   ]
  },
  {
   "cell_type": "code",
   "execution_count": 69,
   "metadata": {},
   "outputs": [],
   "source": [
    "df.iloc[idx_nan, 5] = 'high'"
   ]
  },
  {
   "cell_type": "code",
   "execution_count": 68,
   "metadata": {},
   "outputs": [
    {
     "data": {
      "text/html": [
       "<div>\n",
       "<style scoped>\n",
       "    .dataframe tbody tr th:only-of-type {\n",
       "        vertical-align: middle;\n",
       "    }\n",
       "\n",
       "    .dataframe tbody tr th {\n",
       "        vertical-align: top;\n",
       "    }\n",
       "\n",
       "    .dataframe thead th {\n",
       "        text-align: right;\n",
       "    }\n",
       "</style>\n",
       "<table border=\"1\" class=\"dataframe\">\n",
       "  <thead>\n",
       "    <tr style=\"text-align: right;\">\n",
       "      <th></th>\n",
       "      <th>name_x</th>\n",
       "      <th>condition</th>\n",
       "      <th>opinion</th>\n",
       "      <th>name_y</th>\n",
       "      <th>rate</th>\n",
       "      <th>rate1</th>\n",
       "    </tr>\n",
       "  </thead>\n",
       "  <tbody>\n",
       "    <tr>\n",
       "      <th>0</th>\n",
       "      <td>Vitamin B12</td>\n",
       "      <td>Vitamin B12 Deficiency</td>\n",
       "      <td>\"No after taste at unlike all the others that ...</td>\n",
       "      <td>Cyanocobalamin</td>\n",
       "      <td>10.0</td>\n",
       "      <td>high</td>\n",
       "    </tr>\n",
       "    <tr>\n",
       "      <th>1</th>\n",
       "      <td>Implanon</td>\n",
       "      <td>Birth Control</td>\n",
       "      <td>\"I have not had any issues with the implanon I...</td>\n",
       "      <td>Etonogestrel</td>\n",
       "      <td>8.0</td>\n",
       "      <td>high</td>\n",
       "    </tr>\n",
       "    <tr>\n",
       "      <th>2</th>\n",
       "      <td>BuSpar</td>\n",
       "      <td>Anxiety</td>\n",
       "      <td>\"I have been taking Buspar and Celexa and as f...</td>\n",
       "      <td>Buspirone</td>\n",
       "      <td>10.0</td>\n",
       "      <td>high</td>\n",
       "    </tr>\n",
       "    <tr>\n",
       "      <th>3</th>\n",
       "      <td>Abreva</td>\n",
       "      <td>Herpes Simplex</td>\n",
       "      <td>\"the only thing that works.  completely awesome.\"</td>\n",
       "      <td>Docosanol</td>\n",
       "      <td>10.0</td>\n",
       "      <td>high</td>\n",
       "    </tr>\n",
       "    <tr>\n",
       "      <th>4</th>\n",
       "      <td>Buprenorphine / naloxone</td>\n",
       "      <td>Opiate Dependence</td>\n",
       "      <td>\"UPDATE: I originally posted on Nov 16th 2010 ...</td>\n",
       "      <td>Suboxone</td>\n",
       "      <td>10.0</td>\n",
       "      <td>high</td>\n",
       "    </tr>\n",
       "    <tr>\n",
       "      <th>...</th>\n",
       "      <td>...</td>\n",
       "      <td>...</td>\n",
       "      <td>...</td>\n",
       "      <td>...</td>\n",
       "      <td>...</td>\n",
       "      <td>...</td>\n",
       "    </tr>\n",
       "    <tr>\n",
       "      <th>49995</th>\n",
       "      <td>Acetaminophen / hydrocodone</td>\n",
       "      <td>Pain</td>\n",
       "      <td>\"These just don&amp;#039;t help me at all and they...</td>\n",
       "      <td>NaN</td>\n",
       "      <td>NaN</td>\n",
       "      <td>0</td>\n",
       "    </tr>\n",
       "    <tr>\n",
       "      <th>49996</th>\n",
       "      <td>Minastrin 24 Fe</td>\n",
       "      <td>Birth Control</td>\n",
       "      <td>\"I got on Minastrin, because I used to take Lo...</td>\n",
       "      <td>Ethinyl estradiol / norethindrone</td>\n",
       "      <td>1.0</td>\n",
       "      <td>low</td>\n",
       "    </tr>\n",
       "    <tr>\n",
       "      <th>49997</th>\n",
       "      <td>Yasmin</td>\n",
       "      <td>Acne</td>\n",
       "      <td>\"I am 20 and have had terrible skin since I wa...</td>\n",
       "      <td>NaN</td>\n",
       "      <td>NaN</td>\n",
       "      <td>0</td>\n",
       "    </tr>\n",
       "    <tr>\n",
       "      <th>49998</th>\n",
       "      <td>Amoxicillin</td>\n",
       "      <td>Bacterial Endocarditis Prevention</td>\n",
       "      <td>\"Very good.\"</td>\n",
       "      <td>NaN</td>\n",
       "      <td>NaN</td>\n",
       "      <td>0</td>\n",
       "    </tr>\n",
       "    <tr>\n",
       "      <th>49999</th>\n",
       "      <td>Drysol</td>\n",
       "      <td>0&lt;/span&gt; users found this comment helpful.</td>\n",
       "      <td>\"I&amp;#039;m 27 and I have been using Drysol sinc...</td>\n",
       "      <td>NaN</td>\n",
       "      <td>NaN</td>\n",
       "      <td>0</td>\n",
       "    </tr>\n",
       "  </tbody>\n",
       "</table>\n",
       "<p>50000 rows × 6 columns</p>\n",
       "</div>"
      ],
      "text/plain": [
       "                            name_x  \\\n",
       "0                      Vitamin B12   \n",
       "1                         Implanon   \n",
       "2                           BuSpar   \n",
       "3                           Abreva   \n",
       "4         Buprenorphine / naloxone   \n",
       "...                            ...   \n",
       "49995  Acetaminophen / hydrocodone   \n",
       "49996              Minastrin 24 Fe   \n",
       "49997                       Yasmin   \n",
       "49998                  Amoxicillin   \n",
       "49999                       Drysol   \n",
       "\n",
       "                                        condition  \\\n",
       "0                          Vitamin B12 Deficiency   \n",
       "1                                   Birth Control   \n",
       "2                                         Anxiety   \n",
       "3                                  Herpes Simplex   \n",
       "4                               Opiate Dependence   \n",
       "...                                           ...   \n",
       "49995                                        Pain   \n",
       "49996                               Birth Control   \n",
       "49997                                        Acne   \n",
       "49998           Bacterial Endocarditis Prevention   \n",
       "49999  0</span> users found this comment helpful.   \n",
       "\n",
       "                                                 opinion  \\\n",
       "0      \"No after taste at unlike all the others that ...   \n",
       "1      \"I have not had any issues with the implanon I...   \n",
       "2      \"I have been taking Buspar and Celexa and as f...   \n",
       "3      \"the only thing that works.  completely awesome.\"   \n",
       "4      \"UPDATE: I originally posted on Nov 16th 2010 ...   \n",
       "...                                                  ...   \n",
       "49995  \"These just don&#039;t help me at all and they...   \n",
       "49996  \"I got on Minastrin, because I used to take Lo...   \n",
       "49997  \"I am 20 and have had terrible skin since I wa...   \n",
       "49998                                       \"Very good.\"   \n",
       "49999  \"I&#039;m 27 and I have been using Drysol sinc...   \n",
       "\n",
       "                                  name_y  rate rate1  \n",
       "0                         Cyanocobalamin  10.0  high  \n",
       "1                           Etonogestrel   8.0  high  \n",
       "2                              Buspirone  10.0  high  \n",
       "3                              Docosanol  10.0  high  \n",
       "4                               Suboxone  10.0  high  \n",
       "...                                  ...   ...   ...  \n",
       "49995                                NaN   NaN     0  \n",
       "49996  Ethinyl estradiol / norethindrone   1.0   low  \n",
       "49997                                NaN   NaN     0  \n",
       "49998                                NaN   NaN     0  \n",
       "49999                                NaN   NaN     0  \n",
       "\n",
       "[50000 rows x 6 columns]"
      ]
     },
     "execution_count": 68,
     "metadata": {},
     "output_type": "execute_result"
    }
   ],
   "source": [
    "df"
   ]
  },
  {
   "cell_type": "code",
   "execution_count": null,
   "metadata": {},
   "outputs": [],
   "source": []
  }
 ],
 "metadata": {
  "kernelspec": {
   "display_name": "Python (ml-nlp)",
   "language": "python",
   "name": "ml-nlp"
  },
  "language_info": {
   "codemirror_mode": {
    "name": "ipython",
    "version": 3
   },
   "file_extension": ".py",
   "mimetype": "text/x-python",
   "name": "python",
   "nbconvert_exporter": "python",
   "pygments_lexer": "ipython3",
   "version": "3.7.7"
  }
 },
 "nbformat": 4,
 "nbformat_minor": 4
}
