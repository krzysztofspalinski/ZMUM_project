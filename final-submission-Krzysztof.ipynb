{
 "cells": [
  {
   "cell_type": "code",
   "execution_count": 1,
   "metadata": {},
   "outputs": [],
   "source": [
    "import pandas as pd\n",
    "import numpy as np"
   ]
  },
  {
   "cell_type": "code",
   "execution_count": 2,
   "metadata": {},
   "outputs": [],
   "source": [
    "train = pd.read_csv('./data/Train.csv', sep=';')\n",
    "test = pd.read_csv('./data/TestX.csv', sep=';')"
   ]
  },
  {
   "cell_type": "code",
   "execution_count": 3,
   "metadata": {},
   "outputs": [],
   "source": [
    "train = train.drop_duplicates('opinion')"
   ]
  },
  {
   "cell_type": "code",
   "execution_count": 4,
   "metadata": {},
   "outputs": [],
   "source": [
    "results_df = pd.merge(test, train, on=['opinion', 'condition'], how='left')"
   ]
  },
  {
   "cell_type": "code",
   "execution_count": 5,
   "metadata": {},
   "outputs": [
    {
     "data": {
      "text/html": [
       "<div>\n",
       "<style scoped>\n",
       "    .dataframe tbody tr th:only-of-type {\n",
       "        vertical-align: middle;\n",
       "    }\n",
       "\n",
       "    .dataframe tbody tr th {\n",
       "        vertical-align: top;\n",
       "    }\n",
       "\n",
       "    .dataframe thead th {\n",
       "        text-align: right;\n",
       "    }\n",
       "</style>\n",
       "<table border=\"1\" class=\"dataframe\">\n",
       "  <thead>\n",
       "    <tr style=\"text-align: right;\">\n",
       "      <th></th>\n",
       "      <th>name_x</th>\n",
       "      <th>condition</th>\n",
       "      <th>opinion</th>\n",
       "      <th>name_y</th>\n",
       "      <th>rate</th>\n",
       "      <th>rate1</th>\n",
       "    </tr>\n",
       "  </thead>\n",
       "  <tbody>\n",
       "    <tr>\n",
       "      <th>0</th>\n",
       "      <td>Vitamin B12</td>\n",
       "      <td>Vitamin B12 Deficiency</td>\n",
       "      <td>\"No after taste at unlike all the others that ...</td>\n",
       "      <td>Cyanocobalamin</td>\n",
       "      <td>10.0</td>\n",
       "      <td>high</td>\n",
       "    </tr>\n",
       "    <tr>\n",
       "      <th>1</th>\n",
       "      <td>Implanon</td>\n",
       "      <td>Birth Control</td>\n",
       "      <td>\"I have not had any issues with the implanon I...</td>\n",
       "      <td>Etonogestrel</td>\n",
       "      <td>8.0</td>\n",
       "      <td>high</td>\n",
       "    </tr>\n",
       "    <tr>\n",
       "      <th>2</th>\n",
       "      <td>BuSpar</td>\n",
       "      <td>Anxiety</td>\n",
       "      <td>\"I have been taking Buspar and Celexa and as f...</td>\n",
       "      <td>Buspirone</td>\n",
       "      <td>10.0</td>\n",
       "      <td>high</td>\n",
       "    </tr>\n",
       "    <tr>\n",
       "      <th>3</th>\n",
       "      <td>Abreva</td>\n",
       "      <td>Herpes Simplex</td>\n",
       "      <td>\"the only thing that works.  completely awesome.\"</td>\n",
       "      <td>Docosanol</td>\n",
       "      <td>10.0</td>\n",
       "      <td>high</td>\n",
       "    </tr>\n",
       "    <tr>\n",
       "      <th>4</th>\n",
       "      <td>Buprenorphine / naloxone</td>\n",
       "      <td>Opiate Dependence</td>\n",
       "      <td>\"UPDATE: I originally posted on Nov 16th 2010 ...</td>\n",
       "      <td>Suboxone</td>\n",
       "      <td>10.0</td>\n",
       "      <td>high</td>\n",
       "    </tr>\n",
       "    <tr>\n",
       "      <th>...</th>\n",
       "      <td>...</td>\n",
       "      <td>...</td>\n",
       "      <td>...</td>\n",
       "      <td>...</td>\n",
       "      <td>...</td>\n",
       "      <td>...</td>\n",
       "    </tr>\n",
       "    <tr>\n",
       "      <th>49995</th>\n",
       "      <td>Acetaminophen / hydrocodone</td>\n",
       "      <td>Pain</td>\n",
       "      <td>\"These just don&amp;#039;t help me at all and they...</td>\n",
       "      <td>NaN</td>\n",
       "      <td>NaN</td>\n",
       "      <td>NaN</td>\n",
       "    </tr>\n",
       "    <tr>\n",
       "      <th>49996</th>\n",
       "      <td>Minastrin 24 Fe</td>\n",
       "      <td>Birth Control</td>\n",
       "      <td>\"I got on Minastrin, because I used to take Lo...</td>\n",
       "      <td>Ethinyl estradiol / norethindrone</td>\n",
       "      <td>1.0</td>\n",
       "      <td>low</td>\n",
       "    </tr>\n",
       "    <tr>\n",
       "      <th>49997</th>\n",
       "      <td>Yasmin</td>\n",
       "      <td>Acne</td>\n",
       "      <td>\"I am 20 and have had terrible skin since I wa...</td>\n",
       "      <td>NaN</td>\n",
       "      <td>NaN</td>\n",
       "      <td>NaN</td>\n",
       "    </tr>\n",
       "    <tr>\n",
       "      <th>49998</th>\n",
       "      <td>Amoxicillin</td>\n",
       "      <td>Bacterial Endocarditis Prevention</td>\n",
       "      <td>\"Very good.\"</td>\n",
       "      <td>NaN</td>\n",
       "      <td>NaN</td>\n",
       "      <td>NaN</td>\n",
       "    </tr>\n",
       "    <tr>\n",
       "      <th>49999</th>\n",
       "      <td>Drysol</td>\n",
       "      <td>0&lt;/span&gt; users found this comment helpful.</td>\n",
       "      <td>\"I&amp;#039;m 27 and I have been using Drysol sinc...</td>\n",
       "      <td>NaN</td>\n",
       "      <td>NaN</td>\n",
       "      <td>NaN</td>\n",
       "    </tr>\n",
       "  </tbody>\n",
       "</table>\n",
       "<p>50000 rows × 6 columns</p>\n",
       "</div>"
      ],
      "text/plain": [
       "                            name_x  \\\n",
       "0                      Vitamin B12   \n",
       "1                         Implanon   \n",
       "2                           BuSpar   \n",
       "3                           Abreva   \n",
       "4         Buprenorphine / naloxone   \n",
       "...                            ...   \n",
       "49995  Acetaminophen / hydrocodone   \n",
       "49996              Minastrin 24 Fe   \n",
       "49997                       Yasmin   \n",
       "49998                  Amoxicillin   \n",
       "49999                       Drysol   \n",
       "\n",
       "                                        condition  \\\n",
       "0                          Vitamin B12 Deficiency   \n",
       "1                                   Birth Control   \n",
       "2                                         Anxiety   \n",
       "3                                  Herpes Simplex   \n",
       "4                               Opiate Dependence   \n",
       "...                                           ...   \n",
       "49995                                        Pain   \n",
       "49996                               Birth Control   \n",
       "49997                                        Acne   \n",
       "49998           Bacterial Endocarditis Prevention   \n",
       "49999  0</span> users found this comment helpful.   \n",
       "\n",
       "                                                 opinion  \\\n",
       "0      \"No after taste at unlike all the others that ...   \n",
       "1      \"I have not had any issues with the implanon I...   \n",
       "2      \"I have been taking Buspar and Celexa and as f...   \n",
       "3      \"the only thing that works.  completely awesome.\"   \n",
       "4      \"UPDATE: I originally posted on Nov 16th 2010 ...   \n",
       "...                                                  ...   \n",
       "49995  \"These just don&#039;t help me at all and they...   \n",
       "49996  \"I got on Minastrin, because I used to take Lo...   \n",
       "49997  \"I am 20 and have had terrible skin since I wa...   \n",
       "49998                                       \"Very good.\"   \n",
       "49999  \"I&#039;m 27 and I have been using Drysol sinc...   \n",
       "\n",
       "                                  name_y  rate rate1  \n",
       "0                         Cyanocobalamin  10.0  high  \n",
       "1                           Etonogestrel   8.0  high  \n",
       "2                              Buspirone  10.0  high  \n",
       "3                              Docosanol  10.0  high  \n",
       "4                               Suboxone  10.0  high  \n",
       "...                                  ...   ...   ...  \n",
       "49995                                NaN   NaN   NaN  \n",
       "49996  Ethinyl estradiol / norethindrone   1.0   low  \n",
       "49997                                NaN   NaN   NaN  \n",
       "49998                                NaN   NaN   NaN  \n",
       "49999                                NaN   NaN   NaN  \n",
       "\n",
       "[50000 rows x 6 columns]"
      ]
     },
     "execution_count": 5,
     "metadata": {},
     "output_type": "execute_result"
    }
   ],
   "source": [
    "results_df"
   ]
  },
  {
   "cell_type": "code",
   "execution_count": 12,
   "metadata": {},
   "outputs": [],
   "source": [
    "idx_nan = results_df[results_df['rate'].isna()].index"
   ]
  },
  {
   "cell_type": "code",
   "execution_count": 17,
   "metadata": {},
   "outputs": [
    {
     "data": {
      "text/plain": [
       "5        NaN\n",
       "7        NaN\n",
       "12       NaN\n",
       "18       NaN\n",
       "19       NaN\n",
       "        ... \n",
       "49990    NaN\n",
       "49995    NaN\n",
       "49997    NaN\n",
       "49998    NaN\n",
       "49999    NaN\n",
       "Name: rate1, Length: 22750, dtype: object"
      ]
     },
     "execution_count": 17,
     "metadata": {},
     "output_type": "execute_result"
    }
   ],
   "source": [
    "results_df.iloc[idx_nan, 5]"
   ]
  },
  {
   "cell_type": "markdown",
   "metadata": {},
   "source": [
    "# rate"
   ]
  },
  {
   "cell_type": "code",
   "execution_count": 27,
   "metadata": {},
   "outputs": [],
   "source": [
    "import os"
   ]
  },
  {
   "cell_type": "code",
   "execution_count": 19,
   "metadata": {},
   "outputs": [],
   "source": [
    "train_files = [i for i in os.listdir('results/') if '_val_reg' in i]\n",
    "test_files = [i for i in os.listdir('results/') if '_test_reg' in i]\n",
    "\n",
    "train_files.remove('y_val_reg')\n",
    "train_files = sorted(train_files)\n",
    "test_files = sorted(test_files)"
   ]
  },
  {
   "cell_type": "code",
   "execution_count": 20,
   "metadata": {},
   "outputs": [],
   "source": [
    "test_reg = pd.DataFrame({\"var\" + str(i) : np.fromfile(\"results/\" + file, dtype='float32') for i, file in enumerate(test_files)})"
   ]
  },
  {
   "cell_type": "code",
   "execution_count": 24,
   "metadata": {},
   "outputs": [],
   "source": [
    "rate = np.round(np.clip(test_reg, 1, 10).mean(axis=1)).astype(int)"
   ]
  },
  {
   "cell_type": "markdown",
   "metadata": {},
   "source": [
    "# rate1"
   ]
  },
  {
   "cell_type": "code",
   "execution_count": 26,
   "metadata": {},
   "outputs": [],
   "source": [
    "from tensorflow.keras.utils import to_categorical"
   ]
  },
  {
   "cell_type": "code",
   "execution_count": 28,
   "metadata": {},
   "outputs": [],
   "source": [
    "def voted_result(filepath, n_models, n_classes):\n",
    "    \n",
    "    y_hat_ensemble = None\n",
    "    \n",
    "    for i in range(n_models):\n",
    "        file = filepath.replace('#', str(i))\n",
    "        y_hat = np.fromfile(file, dtype='float32').reshape(-1, n_classes)\n",
    "        print(np.argmax(y_hat, axis=1))\n",
    "        y_hat = to_categorical(np.argmax(y_hat, axis=1), num_classes=n_classes)\n",
    "            \n",
    "        if y_hat_ensemble is None:\n",
    "            y_hat_ensemble = np.zeros_like(y_hat)\n",
    "        y_hat_ensemble = y_hat_ensemble + y_hat\n",
    "    \n",
    "    y_hat_ensemble = y_hat_ensemble + np.random.normal(size=y_hat_ensemble.shape) / 1e4\n",
    "    \n",
    "    return np.argmax(y_hat_ensemble, axis=1)"
   ]
  },
  {
   "cell_type": "code",
   "execution_count": 29,
   "metadata": {},
   "outputs": [
    {
     "name": "stdout",
     "output_type": "stream",
     "text": [
      "[1 0 0 ... 0 0 0]\n",
      "[0 0 0 ... 0 0 0]\n",
      "[0 0 0 ... 0 0 0]\n",
      "[1 0 0 ... 0 0 0]\n",
      "[0 0 0 ... 0 0 0]\n",
      "[0 0 0 ... 0 0 0]\n",
      "[0 0 0 ... 0 0 0]\n",
      "[0 0 0 ... 0 0 0]\n",
      "[0 0 0 ... 0 0 0]\n",
      "[0 0 0 ... 0 0 0]\n"
     ]
    }
   ],
   "source": [
    "y_test = voted_result('./results/Model_1_#_test_cls', 10, 3)"
   ]
  },
  {
   "cell_type": "code",
   "execution_count": 30,
   "metadata": {},
   "outputs": [
    {
     "data": {
      "text/plain": [
       "array([0, 0, 0, ..., 0, 0, 0])"
      ]
     },
     "execution_count": 30,
     "metadata": {},
     "output_type": "execute_result"
    }
   ],
   "source": [
    "y_test"
   ]
  },
  {
   "cell_type": "code",
   "execution_count": 66,
   "metadata": {},
   "outputs": [],
   "source": [
    "test_clf = np.zeros_like(y_test).astype(str)\n",
    "\n",
    "test_clf[y_test == 0] = 'high'\n",
    "test_clf[y_test == 1] = 'low'\n",
    "test_clf[y_test == 2] = 'medium'"
   ]
  },
  {
   "cell_type": "code",
   "execution_count": 67,
   "metadata": {},
   "outputs": [],
   "source": [
    "rate1 = pd.Series(test_clf)"
   ]
  },
  {
   "cell_type": "code",
   "execution_count": 68,
   "metadata": {},
   "outputs": [
    {
     "data": {
      "text/plain": [
       "0        high\n",
       "1        high\n",
       "2        high\n",
       "3        high\n",
       "4        high\n",
       "         ... \n",
       "49995     low\n",
       "49996     low\n",
       "49997    high\n",
       "49998    high\n",
       "49999    high\n",
       "Length: 50000, dtype: object"
      ]
     },
     "execution_count": 68,
     "metadata": {},
     "output_type": "execute_result"
    }
   ],
   "source": [
    "rate1"
   ]
  },
  {
   "cell_type": "markdown",
   "metadata": {},
   "source": [
    "# Final file"
   ]
  },
  {
   "cell_type": "code",
   "execution_count": 69,
   "metadata": {},
   "outputs": [],
   "source": [
    "results_df.iloc[idx_nan, 4] = rate[idx_nan]"
   ]
  },
  {
   "cell_type": "code",
   "execution_count": 70,
   "metadata": {},
   "outputs": [],
   "source": [
    "results_df.iloc[idx_nan, 5] = rate1[idx_nan]"
   ]
  },
  {
   "cell_type": "code",
   "execution_count": 71,
   "metadata": {},
   "outputs": [],
   "source": [
    "results_df.iloc[:, 4] = results_df.iloc[:, 4].astype(int)"
   ]
  },
  {
   "cell_type": "code",
   "execution_count": 72,
   "metadata": {},
   "outputs": [
    {
     "data": {
      "text/html": [
       "<div>\n",
       "<style scoped>\n",
       "    .dataframe tbody tr th:only-of-type {\n",
       "        vertical-align: middle;\n",
       "    }\n",
       "\n",
       "    .dataframe tbody tr th {\n",
       "        vertical-align: top;\n",
       "    }\n",
       "\n",
       "    .dataframe thead th {\n",
       "        text-align: right;\n",
       "    }\n",
       "</style>\n",
       "<table border=\"1\" class=\"dataframe\">\n",
       "  <thead>\n",
       "    <tr style=\"text-align: right;\">\n",
       "      <th></th>\n",
       "      <th>name_x</th>\n",
       "      <th>condition</th>\n",
       "      <th>opinion</th>\n",
       "      <th>name_y</th>\n",
       "      <th>rate</th>\n",
       "      <th>rate1</th>\n",
       "    </tr>\n",
       "  </thead>\n",
       "  <tbody>\n",
       "    <tr>\n",
       "      <th>0</th>\n",
       "      <td>Vitamin B12</td>\n",
       "      <td>Vitamin B12 Deficiency</td>\n",
       "      <td>\"No after taste at unlike all the others that ...</td>\n",
       "      <td>Cyanocobalamin</td>\n",
       "      <td>10</td>\n",
       "      <td>high</td>\n",
       "    </tr>\n",
       "    <tr>\n",
       "      <th>1</th>\n",
       "      <td>Implanon</td>\n",
       "      <td>Birth Control</td>\n",
       "      <td>\"I have not had any issues with the implanon I...</td>\n",
       "      <td>Etonogestrel</td>\n",
       "      <td>8</td>\n",
       "      <td>high</td>\n",
       "    </tr>\n",
       "    <tr>\n",
       "      <th>2</th>\n",
       "      <td>BuSpar</td>\n",
       "      <td>Anxiety</td>\n",
       "      <td>\"I have been taking Buspar and Celexa and as f...</td>\n",
       "      <td>Buspirone</td>\n",
       "      <td>10</td>\n",
       "      <td>high</td>\n",
       "    </tr>\n",
       "    <tr>\n",
       "      <th>3</th>\n",
       "      <td>Abreva</td>\n",
       "      <td>Herpes Simplex</td>\n",
       "      <td>\"the only thing that works.  completely awesome.\"</td>\n",
       "      <td>Docosanol</td>\n",
       "      <td>10</td>\n",
       "      <td>high</td>\n",
       "    </tr>\n",
       "    <tr>\n",
       "      <th>4</th>\n",
       "      <td>Buprenorphine / naloxone</td>\n",
       "      <td>Opiate Dependence</td>\n",
       "      <td>\"UPDATE: I originally posted on Nov 16th 2010 ...</td>\n",
       "      <td>Suboxone</td>\n",
       "      <td>10</td>\n",
       "      <td>high</td>\n",
       "    </tr>\n",
       "    <tr>\n",
       "      <th>...</th>\n",
       "      <td>...</td>\n",
       "      <td>...</td>\n",
       "      <td>...</td>\n",
       "      <td>...</td>\n",
       "      <td>...</td>\n",
       "      <td>...</td>\n",
       "    </tr>\n",
       "    <tr>\n",
       "      <th>49995</th>\n",
       "      <td>Acetaminophen / hydrocodone</td>\n",
       "      <td>Pain</td>\n",
       "      <td>\"These just don&amp;#039;t help me at all and they...</td>\n",
       "      <td>NaN</td>\n",
       "      <td>1</td>\n",
       "      <td>low</td>\n",
       "    </tr>\n",
       "    <tr>\n",
       "      <th>49996</th>\n",
       "      <td>Minastrin 24 Fe</td>\n",
       "      <td>Birth Control</td>\n",
       "      <td>\"I got on Minastrin, because I used to take Lo...</td>\n",
       "      <td>Ethinyl estradiol / norethindrone</td>\n",
       "      <td>1</td>\n",
       "      <td>low</td>\n",
       "    </tr>\n",
       "    <tr>\n",
       "      <th>49997</th>\n",
       "      <td>Yasmin</td>\n",
       "      <td>Acne</td>\n",
       "      <td>\"I am 20 and have had terrible skin since I wa...</td>\n",
       "      <td>NaN</td>\n",
       "      <td>10</td>\n",
       "      <td>high</td>\n",
       "    </tr>\n",
       "    <tr>\n",
       "      <th>49998</th>\n",
       "      <td>Amoxicillin</td>\n",
       "      <td>Bacterial Endocarditis Prevention</td>\n",
       "      <td>\"Very good.\"</td>\n",
       "      <td>NaN</td>\n",
       "      <td>9</td>\n",
       "      <td>high</td>\n",
       "    </tr>\n",
       "    <tr>\n",
       "      <th>49999</th>\n",
       "      <td>Drysol</td>\n",
       "      <td>0&lt;/span&gt; users found this comment helpful.</td>\n",
       "      <td>\"I&amp;#039;m 27 and I have been using Drysol sinc...</td>\n",
       "      <td>NaN</td>\n",
       "      <td>9</td>\n",
       "      <td>high</td>\n",
       "    </tr>\n",
       "  </tbody>\n",
       "</table>\n",
       "<p>50000 rows × 6 columns</p>\n",
       "</div>"
      ],
      "text/plain": [
       "                            name_x  \\\n",
       "0                      Vitamin B12   \n",
       "1                         Implanon   \n",
       "2                           BuSpar   \n",
       "3                           Abreva   \n",
       "4         Buprenorphine / naloxone   \n",
       "...                            ...   \n",
       "49995  Acetaminophen / hydrocodone   \n",
       "49996              Minastrin 24 Fe   \n",
       "49997                       Yasmin   \n",
       "49998                  Amoxicillin   \n",
       "49999                       Drysol   \n",
       "\n",
       "                                        condition  \\\n",
       "0                          Vitamin B12 Deficiency   \n",
       "1                                   Birth Control   \n",
       "2                                         Anxiety   \n",
       "3                                  Herpes Simplex   \n",
       "4                               Opiate Dependence   \n",
       "...                                           ...   \n",
       "49995                                        Pain   \n",
       "49996                               Birth Control   \n",
       "49997                                        Acne   \n",
       "49998           Bacterial Endocarditis Prevention   \n",
       "49999  0</span> users found this comment helpful.   \n",
       "\n",
       "                                                 opinion  \\\n",
       "0      \"No after taste at unlike all the others that ...   \n",
       "1      \"I have not had any issues with the implanon I...   \n",
       "2      \"I have been taking Buspar and Celexa and as f...   \n",
       "3      \"the only thing that works.  completely awesome.\"   \n",
       "4      \"UPDATE: I originally posted on Nov 16th 2010 ...   \n",
       "...                                                  ...   \n",
       "49995  \"These just don&#039;t help me at all and they...   \n",
       "49996  \"I got on Minastrin, because I used to take Lo...   \n",
       "49997  \"I am 20 and have had terrible skin since I wa...   \n",
       "49998                                       \"Very good.\"   \n",
       "49999  \"I&#039;m 27 and I have been using Drysol sinc...   \n",
       "\n",
       "                                  name_y  rate rate1  \n",
       "0                         Cyanocobalamin    10  high  \n",
       "1                           Etonogestrel     8  high  \n",
       "2                              Buspirone    10  high  \n",
       "3                              Docosanol    10  high  \n",
       "4                               Suboxone    10  high  \n",
       "...                                  ...   ...   ...  \n",
       "49995                                NaN     1   low  \n",
       "49996  Ethinyl estradiol / norethindrone     1   low  \n",
       "49997                                NaN    10  high  \n",
       "49998                                NaN     9  high  \n",
       "49999                                NaN     9  high  \n",
       "\n",
       "[50000 rows x 6 columns]"
      ]
     },
     "execution_count": 72,
     "metadata": {},
     "output_type": "execute_result"
    }
   ],
   "source": [
    "results_df"
   ]
  },
  {
   "cell_type": "code",
   "execution_count": 76,
   "metadata": {},
   "outputs": [],
   "source": [
    "results_df[['rate', 'rate1']].to_csv('KRZSPA.csv', index=False, header=True, sep=\" \")"
   ]
  },
  {
   "cell_type": "code",
   "execution_count": 77,
   "metadata": {},
   "outputs": [],
   "source": [
    "import csv"
   ]
  },
  {
   "cell_type": "code",
   "execution_count": null,
   "metadata": {},
   "outputs": [],
   "source": [
    "results_df[['rate', 'rate1']].to_csv('KRZSPA.csv', index=False, header=True, sep=\" \", csv=)"
   ]
  }
 ],
 "metadata": {
  "kernelspec": {
   "display_name": "Python (ml-nlp)",
   "language": "python",
   "name": "ml-nlp"
  },
  "language_info": {
   "codemirror_mode": {
    "name": "ipython",
    "version": 3
   },
   "file_extension": ".py",
   "mimetype": "text/x-python",
   "name": "python",
   "nbconvert_exporter": "python",
   "pygments_lexer": "ipython3",
   "version": "3.7.7"
  }
 },
 "nbformat": 4,
 "nbformat_minor": 4
}
